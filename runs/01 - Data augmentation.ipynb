{
 "cells": [
  {
   "cell_type": "markdown",
   "source": [
    "### 01 - Data augmentation\n",
    "\n",
    "Om een robuustere dataset te creëren, worden alle foto's horizontaal gespiegeld. Hiermee wordt de dataset fors vergroot en wordt de afhankelijkheid van de richting, bijvoorbeeld bij de plank en downdog, minder groot."
   ],
   "metadata": {
    "collapsed": false
   }
  },
  {
   "cell_type": "code",
   "execution_count": 57,
   "outputs": [],
   "source": [
    "import cv2\n",
    "import matplotlib.pyplot as plt"
   ],
   "metadata": {
    "collapsed": false
   }
  },
  {
   "cell_type": "code",
   "execution_count": 60,
   "outputs": [],
   "source": [
    "directories = ['C:\\\\Users\\\\joost.vanstreels\\\\PycharmProjects\\\\YOLOv8\\\\runs\\\\DATASET\\\\TRAIN\\\\downdog\\\\',\n",
    "              'C:\\\\Users\\\\joost.vanstreels\\\\PycharmProjects\\\\YOLOv8\\\\runs\\\\DATASET\\\\TRAIN\\\\goddess\\\\',\n",
    "              'C:\\\\Users\\\\joost.vanstreels\\\\PycharmProjects\\\\YOLOv8\\\\runs\\\\DATASET\\\\TRAIN\\\\plank\\\\',\n",
    "              'C:\\\\Users\\\\joost.vanstreels\\\\PycharmProjects\\\\YOLOv8\\\\runs\\\\DATASET\\\\TRAIN\\\\tree\\\\',\n",
    "              'C:\\\\Users\\\\joost.vanstreels\\\\PycharmProjects\\\\YOLOv8\\\\runs\\\\DATASET\\\\TRAIN\\\\warrior2\\\\']\n",
    "\n",
    "for directory in directories:\n",
    "    for file in os.listdir(directory):\n",
    "        img = cv2.imread(directory + file)\n",
    "        horizontal_img = cv2.flip(img, 1)\n",
    "\n",
    "        # save file\n",
    "        cv2.imwrite(directory + 'flip_' + file, horizontal_img)"
   ],
   "metadata": {
    "collapsed": false
   }
  }
 ],
 "metadata": {
  "kernelspec": {
   "display_name": "Python 3",
   "language": "python",
   "name": "python3"
  },
  "language_info": {
   "codemirror_mode": {
    "name": "ipython",
    "version": 2
   },
   "file_extension": ".py",
   "mimetype": "text/x-python",
   "name": "python",
   "nbconvert_exporter": "python",
   "pygments_lexer": "ipython2",
   "version": "2.7.6"
  }
 },
 "nbformat": 4,
 "nbformat_minor": 0
}
