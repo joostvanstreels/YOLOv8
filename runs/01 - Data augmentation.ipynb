{
 "cells": [
  {
   "cell_type": "markdown",
   "source": [
    "### 01 - Data augmentation\n",
    "\n",
    "Om een robuustere dataset te creëren, worden alle foto's horizontaal gespiegeld. Hiermee wordt de dataset vergroot en wordt de afhankelijkheid van de richting, bijvoorbeeld bij de plank en downdog, minder groot."
   ],
   "metadata": {
    "collapsed": false
   }
  },
  {
   "cell_type": "code",
   "execution_count": 28,
   "outputs": [],
   "source": [
    "import cv2\n",
    "import os"
   ],
   "metadata": {
    "collapsed": false
   }
  },
  {
   "cell_type": "code",
   "execution_count": 33,
   "outputs": [],
   "source": [
    "directories = ['C:\\\\Users\\\\joost.vanstreels\\\\PycharmProjects\\\\YOLOv8\\\\runs\\\\DATASET HM\\\\TRAIN\\\\UPPER\\\\chin_up\\\\',\n",
    "               'C:\\\\Users\\\\joost.vanstreels\\\\PycharmProjects\\\\YOLOv8\\\\runs\\\\DATASET HM\\\\TRAIN\\\\UPPER\\\\crossed_arms\\\\',\n",
    "               'C:\\\\Users\\\\joost.vanstreels\\\\PycharmProjects\\\\YOLOv8\\\\runs\\\\DATASET HM\\\\TRAIN\\\\UPPER\\\\delivered_gestures\\\\',\n",
    "               'C:\\\\Users\\\\joost.vanstreels\\\\PycharmProjects\\\\YOLOv8\\\\runs\\\\DATASET HM\\\\TRAIN\\\\UPPER\\\\giving_the_back_to_the_audience\\\\',\n",
    "               'C:\\\\Users\\\\joost.vanstreels\\\\PycharmProjects\\\\YOLOv8\\\\runs\\\\DATASET HM\\\\TRAIN\\\\UPPER\\\\hands_behind_the_back\\\\',\n",
    "               'C:\\\\Users\\\\joost.vanstreels\\\\PycharmProjects\\\\YOLOv8\\\\runs\\\\DATASET HM\\\\TRAIN\\\\UPPER\\\\hands_in_pockets\\\\',\n",
    "               'C:\\\\Users\\\\joost.vanstreels\\\\PycharmProjects\\\\YOLOv8\\\\runs\\\\DATASET HM\\\\TRAIN\\\\UPPER\\\\hands_loose_next_to_your_body_with_palms_facing_the_audience\\\\',\n",
    "               'C:\\\\Users\\\\joost.vanstreels\\\\PycharmProjects\\\\YOLOv8\\\\runs\\\\DATASET HM\\\\TRAIN\\\\UPPER\\\\hands_touching_face\\\\',\n",
    "               'C:\\\\Users\\\\joost.vanstreels\\\\PycharmProjects\\\\YOLOv8\\\\runs\\\\DATASET HM\\\\TRAIN\\\\LOWER\\\\crossing_legs\\\\',\n",
    "               'C:\\\\Users\\\\joost.vanstreels\\\\PycharmProjects\\\\YOLOv8\\\\runs\\\\DATASET HM\\\\TRAIN\\\\LOWER\\\\feet_between_shoulders_and_waist_width_firmly_on_the_ground\\\\',\n",
    "               'C:\\\\Users\\\\joost.vanstreels\\\\PycharmProjects\\\\YOLOv8\\\\runs\\\\DATASET HM\\\\TRAIN\\\\LOWER\\\\feet_not_neutral\\\\',\n",
    "               'C:\\\\Users\\\\joost.vanstreels\\\\PycharmProjects\\\\YOLOv8\\\\runs\\\\DATASET HM\\\\TRAIN\\\\LOWER\\\\standing_with_the_bodyweight_on_one_leg\\\\']\n"
   ],
   "metadata": {
    "collapsed": false
   }
  },
  {
   "cell_type": "code",
   "execution_count": 34,
   "outputs": [
    {
     "name": "stdout",
     "output_type": "stream",
     "text": [
      "C:\\Users\\joost.vanstreels\\PycharmProjects\\YOLOv8\\runs\\DATASET HM\\TRAIN\\UPPER\\chin_up\\\n",
      "C:\\Users\\joost.vanstreels\\PycharmProjects\\YOLOv8\\runs\\DATASET HM\\TRAIN\\UPPER\\crossed_arms\\\n",
      "C:\\Users\\joost.vanstreels\\PycharmProjects\\YOLOv8\\runs\\DATASET HM\\TRAIN\\UPPER\\delivered_gestures\\\n",
      "C:\\Users\\joost.vanstreels\\PycharmProjects\\YOLOv8\\runs\\DATASET HM\\TRAIN\\UPPER\\giving_the_back_to_the_audience\\\n",
      "C:\\Users\\joost.vanstreels\\PycharmProjects\\YOLOv8\\runs\\DATASET HM\\TRAIN\\UPPER\\hands_behind_the_back\\\n",
      "C:\\Users\\joost.vanstreels\\PycharmProjects\\YOLOv8\\runs\\DATASET HM\\TRAIN\\UPPER\\hands_in_pockets\\\n",
      "C:\\Users\\joost.vanstreels\\PycharmProjects\\YOLOv8\\runs\\DATASET HM\\TRAIN\\UPPER\\hands_loose_next_to_your_body_with_palms_facing_the_audience\\\n",
      "C:\\Users\\joost.vanstreels\\PycharmProjects\\YOLOv8\\runs\\DATASET HM\\TRAIN\\UPPER\\hands_touching_face\\\n",
      "C:\\Users\\joost.vanstreels\\PycharmProjects\\YOLOv8\\runs\\DATASET HM\\TRAIN\\LOWER\\crossing_legs\\\n",
      "C:\\Users\\joost.vanstreels\\PycharmProjects\\YOLOv8\\runs\\DATASET HM\\TRAIN\\LOWER\\feet_between_shoulders_and_waist_width_firmly_on_the_ground\\\n",
      "C:\\Users\\joost.vanstreels\\PycharmProjects\\YOLOv8\\runs\\DATASET HM\\TRAIN\\LOWER\\feet_not_neutral\\\n",
      "C:\\Users\\joost.vanstreels\\PycharmProjects\\YOLOv8\\runs\\DATASET HM\\TRAIN\\LOWER\\standing_with_the_bodyweight_on_one_leg\\\n"
     ]
    }
   ],
   "source": [
    "for directory in directories:\n",
    "    print(directory)\n",
    "    for file in os.listdir(directory):\n",
    "        img = cv2.imread(directory + file)\n",
    "        horizontal_img = cv2.flip(img, 1)\n",
    "\n",
    "        # save file\n",
    "        cv2.imwrite(directory + 'flip_' + file, horizontal_img)"
   ],
   "metadata": {
    "collapsed": false
   }
  },
  {
   "cell_type": "code",
   "execution_count": null,
   "outputs": [],
   "source": [],
   "metadata": {
    "collapsed": false
   }
  }
 ],
 "metadata": {
  "kernelspec": {
   "display_name": "Python 3",
   "language": "python",
   "name": "python3"
  },
  "language_info": {
   "codemirror_mode": {
    "name": "ipython",
    "version": 2
   },
   "file_extension": ".py",
   "mimetype": "text/x-python",
   "name": "python",
   "nbconvert_exporter": "python",
   "pygments_lexer": "ipython2",
   "version": "2.7.6"
  }
 },
 "nbformat": 4,
 "nbformat_minor": 0
}
