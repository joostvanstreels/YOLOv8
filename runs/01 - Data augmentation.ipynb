{
 "cells": [
  {
   "cell_type": "markdown",
   "source": [
    "### 01 - Data augmentation\n",
    "\n",
    "Om een robuustere dataset te creëren, worden alle foto's horizontaal gespiegeld. Hiermee wordt de dataset vergroot en wordt de afhankelijkheid van de richting, bijvoorbeeld bij de plank en downdog, minder groot."
   ],
   "metadata": {
    "collapsed": false
   }
  },
  {
   "cell_type": "code",
   "execution_count": 8,
   "outputs": [],
   "source": [
    "import cv2\n",
    "import matplotlib.pyplot as plt"
   ],
   "metadata": {
    "collapsed": false
   }
  },
  {
   "cell_type": "code",
   "execution_count": 10,
   "outputs": [],
   "source": [
    "directories = ['C:\\\\Users\\\\joost.vanstreels\\\\PycharmProjects\\\\YOLOv8\\\\runs\\\\DATASET HM\\\\TRAIN\\\\']"
   ],
   "metadata": {
    "collapsed": false
   }
  },
  {
   "cell_type": "code",
   "execution_count": 11,
   "outputs": [
    {
     "ename": "NameError",
     "evalue": "name 'os' is not defined",
     "output_type": "error",
     "traceback": [
      "\u001B[1;31m---------------------------------------------------------------------------\u001B[0m",
      "\u001B[1;31mNameError\u001B[0m                                 Traceback (most recent call last)",
      "Cell \u001B[1;32mIn[11], line 2\u001B[0m\n\u001B[0;32m      1\u001B[0m \u001B[38;5;28;01mfor\u001B[39;00m directory \u001B[38;5;129;01min\u001B[39;00m directories:\n\u001B[1;32m----> 2\u001B[0m     \u001B[38;5;28;01mfor\u001B[39;00m file \u001B[38;5;129;01min\u001B[39;00m \u001B[43mos\u001B[49m\u001B[38;5;241m.\u001B[39mlistdir(directory):\n\u001B[0;32m      3\u001B[0m         img \u001B[38;5;241m=\u001B[39m cv2\u001B[38;5;241m.\u001B[39mimread(directory \u001B[38;5;241m+\u001B[39m file)\n\u001B[0;32m      4\u001B[0m         horizontal_img \u001B[38;5;241m=\u001B[39m cv2\u001B[38;5;241m.\u001B[39mflip(img, \u001B[38;5;241m1\u001B[39m)\n",
      "\u001B[1;31mNameError\u001B[0m: name 'os' is not defined"
     ]
    }
   ],
   "source": [
    "for directory in directories:\n",
    "    for file in os.listdir(directory):\n",
    "        img = cv2.imread(directory + file)\n",
    "        horizontal_img = cv2.flip(img, 1)\n",
    "\n",
    "        # save file\n",
    "        cv2.imwrite(directory + 'flip_' + file, horizontal_img)"
   ],
   "metadata": {
    "collapsed": false
   }
  },
  {
   "cell_type": "code",
   "execution_count": null,
   "outputs": [],
   "source": [],
   "metadata": {
    "collapsed": false
   }
  }
 ],
 "metadata": {
  "kernelspec": {
   "display_name": "Python 3",
   "language": "python",
   "name": "python3"
  },
  "language_info": {
   "codemirror_mode": {
    "name": "ipython",
    "version": 2
   },
   "file_extension": ".py",
   "mimetype": "text/x-python",
   "name": "python",
   "nbconvert_exporter": "python",
   "pygments_lexer": "ipython2",
   "version": "2.7.6"
  }
 },
 "nbformat": 4,
 "nbformat_minor": 0
}
