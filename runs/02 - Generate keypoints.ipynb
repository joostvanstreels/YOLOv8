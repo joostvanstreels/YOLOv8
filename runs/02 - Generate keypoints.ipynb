{
 "cells": [
  {
   "cell_type": "markdown",
   "source": [
    "### 02 - Generate keypoints\n",
    "Er zullen verschillende YOLOv8 pose modellen gebruikt worden om keypoints te detecteren. Alle relevant informatie van deze keypoints wordt opgeslagen in een dataframe en geëxporteerd als CSV-bestand."
   ],
   "metadata": {
    "collapsed": false
   }
  },
  {
   "cell_type": "code",
   "execution_count": 49,
   "outputs": [],
   "source": [
    "from ultralytics import YOLO\n",
    "import numpy as np\n",
    "import pandas as pd"
   ],
   "metadata": {
    "collapsed": false
   }
  },
  {
   "cell_type": "code",
   "execution_count": 50,
   "outputs": [],
   "source": [
    "# Keuze uit verschillende modellen\n",
    "model = YOLO('yolov8m-pose.pt')\n",
    "#model = YOLO('yolov8n-pose.pt')"
   ],
   "metadata": {
    "collapsed": false
   }
  },
  {
   "cell_type": "markdown",
   "source": [
    "#### Stap 1. YOLO runnen en keypoints detecteren\n",
    "\n",
    "To do: experimenteren met verschillende image sizes en confidence."
   ],
   "metadata": {
    "collapsed": false
   }
  },
  {
   "cell_type": "code",
   "execution_count": 51,
   "outputs": [
    {
     "name": "stderr",
     "output_type": "stream",
     "text": [
      "\n",
      "image 1/33 C:\\Users\\joost.vanstreels\\PycharmProjects\\YOLOv8\\runs\\DATASET HM\\TRAIN\\crossed_arms\\frame_0001.jpg: 320x192 1 person, 516.8ms\n",
      "image 2/33 C:\\Users\\joost.vanstreels\\PycharmProjects\\YOLOv8\\runs\\DATASET HM\\TRAIN\\crossed_arms\\frame_0008.jpg: 320x192 1 person, 346.9ms\n",
      "image 3/33 C:\\Users\\joost.vanstreels\\PycharmProjects\\YOLOv8\\runs\\DATASET HM\\TRAIN\\crossed_arms\\frame_0033.jpg: 192x320 1 person, 411.9ms\n",
      "image 4/33 C:\\Users\\joost.vanstreels\\PycharmProjects\\YOLOv8\\runs\\DATASET HM\\TRAIN\\crossed_arms\\surf - 1074.jpeg: 320x256 1 person, 836.9ms\n",
      "image 5/33 C:\\Users\\joost.vanstreels\\PycharmProjects\\YOLOv8\\runs\\DATASET HM\\TRAIN\\crossed_arms\\surf - 1075.jpeg: 320x256 1 person, 863.1ms\n",
      "image 6/33 C:\\Users\\joost.vanstreels\\PycharmProjects\\YOLOv8\\runs\\DATASET HM\\TRAIN\\crossed_arms\\surf - 1394.jpeg: 320x256 1 person, 535.2ms\n",
      "image 7/33 C:\\Users\\joost.vanstreels\\PycharmProjects\\YOLOv8\\runs\\DATASET HM\\TRAIN\\crossed_arms\\surf - 1395.jpeg: 320x256 1 person, 509.5ms\n",
      "image 8/33 C:\\Users\\joost.vanstreels\\PycharmProjects\\YOLOv8\\runs\\DATASET HM\\TRAIN\\crossed_arms\\surf - 1396.jpeg: 320x256 1 person, 495.8ms\n",
      "image 9/33 C:\\Users\\joost.vanstreels\\PycharmProjects\\YOLOv8\\runs\\DATASET HM\\TRAIN\\crossed_arms\\surf - 1397.jpeg: 320x256 1 person, 574.0ms\n",
      "image 10/33 C:\\Users\\joost.vanstreels\\PycharmProjects\\YOLOv8\\runs\\DATASET HM\\TRAIN\\crossed_arms\\surf - 162.jpeg: 320x256 1 person, 554.0ms\n",
      "image 11/33 C:\\Users\\joost.vanstreels\\PycharmProjects\\YOLOv8\\runs\\DATASET HM\\TRAIN\\crossed_arms\\surf - 188.jpeg: 320x256 1 person, 421.9ms\n",
      "image 12/33 C:\\Users\\joost.vanstreels\\PycharmProjects\\YOLOv8\\runs\\DATASET HM\\TRAIN\\crossed_arms\\surf - 504.jpeg: 320x256 1 person, 504.0ms\n",
      "image 13/33 C:\\Users\\joost.vanstreels\\PycharmProjects\\YOLOv8\\runs\\DATASET HM\\TRAIN\\crossed_arms\\surf - 505.jpeg: 320x256 1 person, 440.9ms\n",
      "image 14/33 C:\\Users\\joost.vanstreels\\PycharmProjects\\YOLOv8\\runs\\DATASET HM\\TRAIN\\crossed_arms\\surf - 799.jpeg: 320x256 1 person, 445.2ms\n",
      "image 15/33 C:\\Users\\joost.vanstreels\\PycharmProjects\\YOLOv8\\runs\\DATASET HM\\TRAIN\\crossed_arms\\surf - 800.jpeg: 320x256 1 person, 414.2ms\n",
      "image 16/33 C:\\Users\\joost.vanstreels\\PycharmProjects\\YOLOv8\\runs\\DATASET HM\\TRAIN\\crossed_arms\\surf - 806.jpeg: 320x256 1 person, 473.3ms\n",
      "image 17/33 C:\\Users\\joost.vanstreels\\PycharmProjects\\YOLOv8\\runs\\DATASET HM\\TRAIN\\crossed_arms\\surf - 807.jpeg: 320x256 1 person, 582.2ms\n",
      "image 18/33 C:\\Users\\joost.vanstreels\\PycharmProjects\\YOLOv8\\runs\\DATASET HM\\TRAIN\\crossed_arms\\surf - 808.jpeg: 320x256 1 person, 1495.7ms\n",
      "image 19/33 C:\\Users\\joost.vanstreels\\PycharmProjects\\YOLOv8\\runs\\DATASET HM\\TRAIN\\crossed_arms\\surf - 809.jpeg: 320x256 1 person, 506.0ms\n",
      "image 20/33 C:\\Users\\joost.vanstreels\\PycharmProjects\\YOLOv8\\runs\\DATASET HM\\TRAIN\\crossed_arms\\surf - 810.jpeg: 320x256 1 person, 556.5ms\n",
      "image 21/33 C:\\Users\\joost.vanstreels\\PycharmProjects\\YOLOv8\\runs\\DATASET HM\\TRAIN\\crossed_arms\\surf - 811.jpeg: 320x256 1 person, 542.0ms\n",
      "image 22/33 C:\\Users\\joost.vanstreels\\PycharmProjects\\YOLOv8\\runs\\DATASET HM\\TRAIN\\crossed_arms\\surf - 812.jpeg: 320x256 1 person, 592.9ms\n",
      "image 23/33 C:\\Users\\joost.vanstreels\\PycharmProjects\\YOLOv8\\runs\\DATASET HM\\TRAIN\\crossed_arms\\t3_photo_1_001.jpeg: 320x256 1 person, 544.0ms\n",
      "image 24/33 C:\\Users\\joost.vanstreels\\PycharmProjects\\YOLOv8\\runs\\DATASET HM\\TRAIN\\crossed_arms\\t3_photo_2_001.jpeg: 320x256 1 person, 511.9ms\n",
      "image 25/33 C:\\Users\\joost.vanstreels\\PycharmProjects\\YOLOv8\\runs\\DATASET HM\\TRAIN\\crossed_arms\\t3_photo_3_001.jpeg: 320x256 1 person, 508.1ms\n",
      "image 26/33 C:\\Users\\joost.vanstreels\\PycharmProjects\\YOLOv8\\runs\\DATASET HM\\TRAIN\\crossed_arms\\t3_photo_4_001.jpeg: 320x256 1 person, 502.1ms\n",
      "image 27/33 C:\\Users\\joost.vanstreels\\PycharmProjects\\YOLOv8\\runs\\DATASET HM\\TRAIN\\crossed_arms\\t3_screen_001.jpeg: 320x256 1 person, 497.8ms\n",
      "image 28/33 C:\\Users\\joost.vanstreels\\PycharmProjects\\YOLOv8\\runs\\DATASET HM\\TRAIN\\crossed_arms\\t3_window_001.jpeg: 320x256 1 person, 504.1ms\n",
      "image 29/33 C:\\Users\\joost.vanstreels\\PycharmProjects\\YOLOv8\\runs\\DATASET HM\\TRAIN\\crossed_arms\\t4_frame_0000.jpeg: 320x256 1 person, 491.6ms\n",
      "image 30/33 C:\\Users\\joost.vanstreels\\PycharmProjects\\YOLOv8\\runs\\DATASET HM\\TRAIN\\crossed_arms\\t4_frame_0001.jpeg: 320x256 1 person, 499.1ms\n",
      "image 31/33 C:\\Users\\joost.vanstreels\\PycharmProjects\\YOLOv8\\runs\\DATASET HM\\TRAIN\\crossed_arms\\t4_frame_0002.jpeg: 320x256 1 person, 480.2ms\n",
      "image 32/33 C:\\Users\\joost.vanstreels\\PycharmProjects\\YOLOv8\\runs\\DATASET HM\\TRAIN\\crossed_arms\\t4_frame_0003.jpeg: 320x256 1 person, 505.2ms\n",
      "image 33/33 C:\\Users\\joost.vanstreels\\PycharmProjects\\YOLOv8\\runs\\DATASET HM\\TRAIN\\crossed_arms\\t4_frame_0004.jpeg: 320x256 1 person, 626.5ms\n",
      "Speed: 6.8ms preprocess, 554.2ms inference, 3.4ms postprocess per image at shape (1, 3, 320, 256)\n",
      "Results saved to \u001B[1mC:\\Users\\joost.vanstreels\\PycharmProjects\\YOLOv8\\runs\\pose\\predict3\u001B[0m\n",
      "\n",
      "image 1/71 C:\\Users\\joost.vanstreels\\PycharmProjects\\YOLOv8\\runs\\DATASET HM\\TRAIN\\delivered_gestures\\frame_0009.jpg: 320x192 1 person, 385.9ms\n",
      "image 2/71 C:\\Users\\joost.vanstreels\\PycharmProjects\\YOLOv8\\runs\\DATASET HM\\TRAIN\\delivered_gestures\\frame_0010.jpg: 320x192 1 person, 422.9ms\n",
      "image 3/71 C:\\Users\\joost.vanstreels\\PycharmProjects\\YOLOv8\\runs\\DATASET HM\\TRAIN\\delivered_gestures\\frame_0011.jpg: 320x192 1 person, 424.9ms\n",
      "image 4/71 C:\\Users\\joost.vanstreels\\PycharmProjects\\YOLOv8\\runs\\DATASET HM\\TRAIN\\delivered_gestures\\frame_0012.jpg: 320x192 1 person, 567.9ms\n",
      "image 5/71 C:\\Users\\joost.vanstreels\\PycharmProjects\\YOLOv8\\runs\\DATASET HM\\TRAIN\\delivered_gestures\\frame_0013.jpg: 320x192 1 person, 432.2ms\n",
      "image 6/71 C:\\Users\\joost.vanstreels\\PycharmProjects\\YOLOv8\\runs\\DATASET HM\\TRAIN\\delivered_gestures\\frame_0014.jpg: 320x192 1 person, 432.1ms\n",
      "image 7/71 C:\\Users\\joost.vanstreels\\PycharmProjects\\YOLOv8\\runs\\DATASET HM\\TRAIN\\delivered_gestures\\frame_0015.jpg: 320x192 1 person, 518.2ms\n",
      "image 8/71 C:\\Users\\joost.vanstreels\\PycharmProjects\\YOLOv8\\runs\\DATASET HM\\TRAIN\\delivered_gestures\\frame_0016.jpg: 320x192 1 person, 428.1ms\n",
      "image 9/71 C:\\Users\\joost.vanstreels\\PycharmProjects\\YOLOv8\\runs\\DATASET HM\\TRAIN\\delivered_gestures\\frame_0017.jpg: 320x192 1 person, 406.1ms\n",
      "image 10/71 C:\\Users\\joost.vanstreels\\PycharmProjects\\YOLOv8\\runs\\DATASET HM\\TRAIN\\delivered_gestures\\frame_0067.jpg: 320x320 1 person, 776.6ms\n",
      "image 11/71 C:\\Users\\joost.vanstreels\\PycharmProjects\\YOLOv8\\runs\\DATASET HM\\TRAIN\\delivered_gestures\\surf - 1180.jpeg: 320x256 1 person, 603.0ms\n",
      "image 12/71 C:\\Users\\joost.vanstreels\\PycharmProjects\\YOLOv8\\runs\\DATASET HM\\TRAIN\\delivered_gestures\\surf - 1181.jpeg: 320x256 1 person, 570.1ms\n",
      "image 13/71 C:\\Users\\joost.vanstreels\\PycharmProjects\\YOLOv8\\runs\\DATASET HM\\TRAIN\\delivered_gestures\\surf - 1182.jpeg: 320x256 1 person, 518.3ms\n",
      "image 14/71 C:\\Users\\joost.vanstreels\\PycharmProjects\\YOLOv8\\runs\\DATASET HM\\TRAIN\\delivered_gestures\\surf - 1183.jpeg: 320x256 1 person, 572.9ms\n",
      "image 15/71 C:\\Users\\joost.vanstreels\\PycharmProjects\\YOLOv8\\runs\\DATASET HM\\TRAIN\\delivered_gestures\\surf - 1184.jpeg: 320x256 1 person, 543.0ms\n",
      "image 16/71 C:\\Users\\joost.vanstreels\\PycharmProjects\\YOLOv8\\runs\\DATASET HM\\TRAIN\\delivered_gestures\\surf - 1185.jpeg: 320x256 1 person, 501.8ms\n",
      "image 17/71 C:\\Users\\joost.vanstreels\\PycharmProjects\\YOLOv8\\runs\\DATASET HM\\TRAIN\\delivered_gestures\\surf - 1186.jpeg: 320x256 1 person, 530.9ms\n",
      "image 18/71 C:\\Users\\joost.vanstreels\\PycharmProjects\\YOLOv8\\runs\\DATASET HM\\TRAIN\\delivered_gestures\\surf - 1187.jpeg: 320x256 1 person, 503.4ms\n",
      "image 19/71 C:\\Users\\joost.vanstreels\\PycharmProjects\\YOLOv8\\runs\\DATASET HM\\TRAIN\\delivered_gestures\\surf - 1188.jpeg: 320x256 1 person, 562.8ms\n",
      "image 20/71 C:\\Users\\joost.vanstreels\\PycharmProjects\\YOLOv8\\runs\\DATASET HM\\TRAIN\\delivered_gestures\\surf - 1189.jpeg: 320x256 1 person, 555.9ms\n",
      "image 21/71 C:\\Users\\joost.vanstreels\\PycharmProjects\\YOLOv8\\runs\\DATASET HM\\TRAIN\\delivered_gestures\\surf - 1190.jpeg: 320x256 1 person, 549.3ms\n",
      "image 22/71 C:\\Users\\joost.vanstreels\\PycharmProjects\\YOLOv8\\runs\\DATASET HM\\TRAIN\\delivered_gestures\\surf - 1191.jpeg: 320x256 1 person, 552.1ms\n",
      "image 23/71 C:\\Users\\joost.vanstreels\\PycharmProjects\\YOLOv8\\runs\\DATASET HM\\TRAIN\\delivered_gestures\\surf - 1520.jpeg: 320x256 1 person, 566.9ms\n",
      "image 24/71 C:\\Users\\joost.vanstreels\\PycharmProjects\\YOLOv8\\runs\\DATASET HM\\TRAIN\\delivered_gestures\\surf - 1521.jpeg: 320x256 1 person, 507.5ms\n",
      "image 25/71 C:\\Users\\joost.vanstreels\\PycharmProjects\\YOLOv8\\runs\\DATASET HM\\TRAIN\\delivered_gestures\\surf - 1522.jpeg: 320x256 1 person, 540.1ms\n",
      "image 26/71 C:\\Users\\joost.vanstreels\\PycharmProjects\\YOLOv8\\runs\\DATASET HM\\TRAIN\\delivered_gestures\\surf - 1523.jpeg: 320x256 1 person, 511.9ms\n",
      "image 27/71 C:\\Users\\joost.vanstreels\\PycharmProjects\\YOLOv8\\runs\\DATASET HM\\TRAIN\\delivered_gestures\\surf - 1524.jpeg: 320x256 1 person, 569.5ms\n",
      "image 28/71 C:\\Users\\joost.vanstreels\\PycharmProjects\\YOLOv8\\runs\\DATASET HM\\TRAIN\\delivered_gestures\\surf - 1525.jpeg: 320x256 1 person, 534.9ms\n",
      "image 29/71 C:\\Users\\joost.vanstreels\\PycharmProjects\\YOLOv8\\runs\\DATASET HM\\TRAIN\\delivered_gestures\\surf - 1526.jpeg: 320x256 1 person, 556.5ms\n",
      "image 30/71 C:\\Users\\joost.vanstreels\\PycharmProjects\\YOLOv8\\runs\\DATASET HM\\TRAIN\\delivered_gestures\\surf - 1527.jpeg: 320x256 1 person, 546.6ms\n",
      "image 31/71 C:\\Users\\joost.vanstreels\\PycharmProjects\\YOLOv8\\runs\\DATASET HM\\TRAIN\\delivered_gestures\\surf - 1528.jpeg: 320x256 1 person, 501.0ms\n",
      "image 32/71 C:\\Users\\joost.vanstreels\\PycharmProjects\\YOLOv8\\runs\\DATASET HM\\TRAIN\\delivered_gestures\\surf - 1529.jpeg: 320x256 1 person, 528.6ms\n",
      "image 33/71 C:\\Users\\joost.vanstreels\\PycharmProjects\\YOLOv8\\runs\\DATASET HM\\TRAIN\\delivered_gestures\\surf - 1530.jpeg: 320x256 1 person, 548.1ms\n",
      "image 34/71 C:\\Users\\joost.vanstreels\\PycharmProjects\\YOLOv8\\runs\\DATASET HM\\TRAIN\\delivered_gestures\\surf - 1531.jpeg: 320x256 1 person, 589.6ms\n",
      "image 35/71 C:\\Users\\joost.vanstreels\\PycharmProjects\\YOLOv8\\runs\\DATASET HM\\TRAIN\\delivered_gestures\\surf - 1532.jpeg: 320x256 1 person, 544.7ms\n",
      "image 36/71 C:\\Users\\joost.vanstreels\\PycharmProjects\\YOLOv8\\runs\\DATASET HM\\TRAIN\\delivered_gestures\\surf - 1533.jpeg: 320x256 1 person, 545.1ms\n",
      "image 37/71 C:\\Users\\joost.vanstreels\\PycharmProjects\\YOLOv8\\runs\\DATASET HM\\TRAIN\\delivered_gestures\\surf - 298.jpeg: 320x256 1 person, 590.9ms\n",
      "image 38/71 C:\\Users\\joost.vanstreels\\PycharmProjects\\YOLOv8\\runs\\DATASET HM\\TRAIN\\delivered_gestures\\surf - 303.jpeg: 320x256 1 person, 614.8ms\n",
      "image 39/71 C:\\Users\\joost.vanstreels\\PycharmProjects\\YOLOv8\\runs\\DATASET HM\\TRAIN\\delivered_gestures\\surf - 304.jpeg: 320x256 1 person, 468.1ms\n",
      "image 40/71 C:\\Users\\joost.vanstreels\\PycharmProjects\\YOLOv8\\runs\\DATASET HM\\TRAIN\\delivered_gestures\\surf - 305.jpeg: 320x256 1 person, 554.4ms\n",
      "image 41/71 C:\\Users\\joost.vanstreels\\PycharmProjects\\YOLOv8\\runs\\DATASET HM\\TRAIN\\delivered_gestures\\surf - 306.jpeg: 320x256 1 person, 731.9ms\n",
      "image 42/71 C:\\Users\\joost.vanstreels\\PycharmProjects\\YOLOv8\\runs\\DATASET HM\\TRAIN\\delivered_gestures\\surf - 307.jpeg: 320x256 1 person, 533.0ms\n",
      "image 43/71 C:\\Users\\joost.vanstreels\\PycharmProjects\\YOLOv8\\runs\\DATASET HM\\TRAIN\\delivered_gestures\\surf - 308.jpeg: 320x256 1 person, 512.8ms\n",
      "image 44/71 C:\\Users\\joost.vanstreels\\PycharmProjects\\YOLOv8\\runs\\DATASET HM\\TRAIN\\delivered_gestures\\surf - 322.jpeg: 320x256 1 person, 515.5ms\n",
      "image 45/71 C:\\Users\\joost.vanstreels\\PycharmProjects\\YOLOv8\\runs\\DATASET HM\\TRAIN\\delivered_gestures\\surf - 323.jpeg: 320x256 1 person, 624.2ms\n",
      "image 46/71 C:\\Users\\joost.vanstreels\\PycharmProjects\\YOLOv8\\runs\\DATASET HM\\TRAIN\\delivered_gestures\\surf - 324.jpeg: 320x256 1 person, 533.8ms\n",
      "image 47/71 C:\\Users\\joost.vanstreels\\PycharmProjects\\YOLOv8\\runs\\DATASET HM\\TRAIN\\delivered_gestures\\surf - 325.jpeg: 320x256 1 person, 495.2ms\n",
      "image 48/71 C:\\Users\\joost.vanstreels\\PycharmProjects\\YOLOv8\\runs\\DATASET HM\\TRAIN\\delivered_gestures\\surf - 623.jpeg: 320x256 1 person, 520.5ms\n",
      "image 49/71 C:\\Users\\joost.vanstreels\\PycharmProjects\\YOLOv8\\runs\\DATASET HM\\TRAIN\\delivered_gestures\\surf - 624.jpeg: 320x256 1 person, 558.6ms\n",
      "image 50/71 C:\\Users\\joost.vanstreels\\PycharmProjects\\YOLOv8\\runs\\DATASET HM\\TRAIN\\delivered_gestures\\surf - 625.jpeg: 320x256 1 person, 592.6ms\n",
      "image 51/71 C:\\Users\\joost.vanstreels\\PycharmProjects\\YOLOv8\\runs\\DATASET HM\\TRAIN\\delivered_gestures\\surf - 626.jpeg: 320x256 1 person, 552.1ms\n",
      "image 52/71 C:\\Users\\joost.vanstreels\\PycharmProjects\\YOLOv8\\runs\\DATASET HM\\TRAIN\\delivered_gestures\\surf - 627.jpeg: 320x256 1 person, 551.8ms\n",
      "image 53/71 C:\\Users\\joost.vanstreels\\PycharmProjects\\YOLOv8\\runs\\DATASET HM\\TRAIN\\delivered_gestures\\surf - 628.jpeg: 320x256 1 person, 542.9ms\n",
      "image 54/71 C:\\Users\\joost.vanstreels\\PycharmProjects\\YOLOv8\\runs\\DATASET HM\\TRAIN\\delivered_gestures\\surf - 629.jpeg: 320x256 1 person, 521.9ms\n",
      "image 55/71 C:\\Users\\joost.vanstreels\\PycharmProjects\\YOLOv8\\runs\\DATASET HM\\TRAIN\\delivered_gestures\\surf - 630.jpeg: 320x256 1 person, 556.2ms\n",
      "image 56/71 C:\\Users\\joost.vanstreels\\PycharmProjects\\YOLOv8\\runs\\DATASET HM\\TRAIN\\delivered_gestures\\surf - 928.jpeg: 320x256 1 person, 542.9ms\n",
      "image 57/71 C:\\Users\\joost.vanstreels\\PycharmProjects\\YOLOv8\\runs\\DATASET HM\\TRAIN\\delivered_gestures\\surf - 929.jpeg: 320x256 1 person, 577.1ms\n",
      "image 58/71 C:\\Users\\joost.vanstreels\\PycharmProjects\\YOLOv8\\runs\\DATASET HM\\TRAIN\\delivered_gestures\\surf - 946.jpeg: 320x256 1 person, 916.3ms\n",
      "image 59/71 C:\\Users\\joost.vanstreels\\PycharmProjects\\YOLOv8\\runs\\DATASET HM\\TRAIN\\delivered_gestures\\surf - 947.jpeg: 320x256 1 person, 524.8ms\n",
      "image 60/71 C:\\Users\\joost.vanstreels\\PycharmProjects\\YOLOv8\\runs\\DATASET HM\\TRAIN\\delivered_gestures\\surf - 948.jpeg: 320x256 1 person, 472.8ms\n",
      "image 61/71 C:\\Users\\joost.vanstreels\\PycharmProjects\\YOLOv8\\runs\\DATASET HM\\TRAIN\\delivered_gestures\\t3_photo_1_002.jpeg: 320x256 1 person, 518.0ms\n",
      "image 62/71 C:\\Users\\joost.vanstreels\\PycharmProjects\\YOLOv8\\runs\\DATASET HM\\TRAIN\\delivered_gestures\\t3_photo_2_002.jpeg: 320x256 1 person, 489.4ms\n",
      "image 63/71 C:\\Users\\joost.vanstreels\\PycharmProjects\\YOLOv8\\runs\\DATASET HM\\TRAIN\\delivered_gestures\\t3_photo_3_002.jpeg: 320x256 1 person, 513.0ms\n",
      "image 64/71 C:\\Users\\joost.vanstreels\\PycharmProjects\\YOLOv8\\runs\\DATASET HM\\TRAIN\\delivered_gestures\\t3_photo_4_002.jpeg: 320x256 1 person, 490.4ms\n",
      "image 65/71 C:\\Users\\joost.vanstreels\\PycharmProjects\\YOLOv8\\runs\\DATASET HM\\TRAIN\\delivered_gestures\\t3_screen_002.jpeg: 320x256 1 person, 505.4ms\n",
      "image 66/71 C:\\Users\\joost.vanstreels\\PycharmProjects\\YOLOv8\\runs\\DATASET HM\\TRAIN\\delivered_gestures\\t3_window_002.jpeg: 320x256 1 person, 602.0ms\n",
      "image 67/71 C:\\Users\\joost.vanstreels\\PycharmProjects\\YOLOv8\\runs\\DATASET HM\\TRAIN\\delivered_gestures\\t4_frame_0005.jpeg: 320x256 1 person, 536.5ms\n",
      "image 68/71 C:\\Users\\joost.vanstreels\\PycharmProjects\\YOLOv8\\runs\\DATASET HM\\TRAIN\\delivered_gestures\\t4_frame_0006.jpeg: 320x256 1 person, 538.1ms\n",
      "image 69/71 C:\\Users\\joost.vanstreels\\PycharmProjects\\YOLOv8\\runs\\DATASET HM\\TRAIN\\delivered_gestures\\t4_frame_0007.jpeg: 320x256 1 person, 601.5ms\n",
      "image 70/71 C:\\Users\\joost.vanstreels\\PycharmProjects\\YOLOv8\\runs\\DATASET HM\\TRAIN\\delivered_gestures\\t4_frame_0008.jpeg: 320x256 1 person, 506.0ms\n",
      "image 71/71 C:\\Users\\joost.vanstreels\\PycharmProjects\\YOLOv8\\runs\\DATASET HM\\TRAIN\\delivered_gestures\\t4_frame_0009.jpeg: 320x256 1 person, 499.9ms\n",
      "Speed: 3.8ms preprocess, 540.2ms inference, 2.8ms postprocess per image at shape (1, 3, 320, 256)\n",
      "Results saved to \u001B[1mC:\\Users\\joost.vanstreels\\PycharmProjects\\YOLOv8\\runs\\pose\\predict3\u001B[0m\n",
      "\n",
      "image 1/42 C:\\Users\\joost.vanstreels\\PycharmProjects\\YOLOv8\\runs\\DATASET HM\\TRAIN\\giving_the_back_to_the_audience\\frame_0011.jpg: 256x320 1 person, 754.6ms\n",
      "image 2/42 C:\\Users\\joost.vanstreels\\PycharmProjects\\YOLOv8\\runs\\DATASET HM\\TRAIN\\giving_the_back_to_the_audience\\frame_0019.jpg: 320x192 1 person, 450.7ms\n",
      "image 3/42 C:\\Users\\joost.vanstreels\\PycharmProjects\\YOLOv8\\runs\\DATASET HM\\TRAIN\\giving_the_back_to_the_audience\\frame_0020.jpg: 320x192 1 person, 468.4ms\n",
      "image 4/42 C:\\Users\\joost.vanstreels\\PycharmProjects\\YOLOv8\\runs\\DATASET HM\\TRAIN\\giving_the_back_to_the_audience\\surf - 1206.jpeg: 320x256 1 person, 600.5ms\n",
      "image 5/42 C:\\Users\\joost.vanstreels\\PycharmProjects\\YOLOv8\\runs\\DATASET HM\\TRAIN\\giving_the_back_to_the_audience\\surf - 1207.jpeg: 320x256 1 person, 626.0ms\n",
      "image 6/42 C:\\Users\\joost.vanstreels\\PycharmProjects\\YOLOv8\\runs\\DATASET HM\\TRAIN\\giving_the_back_to_the_audience\\surf - 1225.jpeg: 320x256 1 person, 573.1ms\n",
      "image 7/42 C:\\Users\\joost.vanstreels\\PycharmProjects\\YOLOv8\\runs\\DATASET HM\\TRAIN\\giving_the_back_to_the_audience\\surf - 1226.jpeg: 320x256 1 person, 573.4ms\n",
      "image 8/42 C:\\Users\\joost.vanstreels\\PycharmProjects\\YOLOv8\\runs\\DATASET HM\\TRAIN\\giving_the_back_to_the_audience\\surf - 1227.jpeg: 320x256 1 person, 557.6ms\n",
      "image 9/42 C:\\Users\\joost.vanstreels\\PycharmProjects\\YOLOv8\\runs\\DATASET HM\\TRAIN\\giving_the_back_to_the_audience\\surf - 1228.jpeg: 320x256 1 person, 561.4ms\n",
      "image 10/42 C:\\Users\\joost.vanstreels\\PycharmProjects\\YOLOv8\\runs\\DATASET HM\\TRAIN\\giving_the_back_to_the_audience\\surf - 1229.jpeg: 320x256 1 person, 518.8ms\n",
      "image 11/42 C:\\Users\\joost.vanstreels\\PycharmProjects\\YOLOv8\\runs\\DATASET HM\\TRAIN\\giving_the_back_to_the_audience\\surf - 1230.jpeg: 320x256 1 person, 508.8ms\n",
      "image 12/42 C:\\Users\\joost.vanstreels\\PycharmProjects\\YOLOv8\\runs\\DATASET HM\\TRAIN\\giving_the_back_to_the_audience\\surf - 1231.jpeg: 320x256 1 person, 584.4ms\n",
      "image 13/42 C:\\Users\\joost.vanstreels\\PycharmProjects\\YOLOv8\\runs\\DATASET HM\\TRAIN\\giving_the_back_to_the_audience\\surf - 20.jpeg: 320x256 1 person, 492.1ms\n",
      "image 14/42 C:\\Users\\joost.vanstreels\\PycharmProjects\\YOLOv8\\runs\\DATASET HM\\TRAIN\\giving_the_back_to_the_audience\\surf - 21.jpeg: 320x256 1 person, 545.8ms\n",
      "image 15/42 C:\\Users\\joost.vanstreels\\PycharmProjects\\YOLOv8\\runs\\DATASET HM\\TRAIN\\giving_the_back_to_the_audience\\surf - 326.jpeg: 320x256 1 person, 546.4ms\n",
      "image 16/42 C:\\Users\\joost.vanstreels\\PycharmProjects\\YOLOv8\\runs\\DATASET HM\\TRAIN\\giving_the_back_to_the_audience\\surf - 327.jpeg: 320x256 1 person, 579.4ms\n",
      "image 17/42 C:\\Users\\joost.vanstreels\\PycharmProjects\\YOLOv8\\runs\\DATASET HM\\TRAIN\\giving_the_back_to_the_audience\\surf - 345.jpeg: 320x256 1 person, 531.6ms\n",
      "image 18/42 C:\\Users\\joost.vanstreels\\PycharmProjects\\YOLOv8\\runs\\DATASET HM\\TRAIN\\giving_the_back_to_the_audience\\surf - 346.jpeg: 320x256 1 person, 602.8ms\n",
      "image 19/42 C:\\Users\\joost.vanstreels\\PycharmProjects\\YOLOv8\\runs\\DATASET HM\\TRAIN\\giving_the_back_to_the_audience\\surf - 347.jpeg: 320x256 1 person, 578.7ms\n",
      "image 20/42 C:\\Users\\joost.vanstreels\\PycharmProjects\\YOLOv8\\runs\\DATASET HM\\TRAIN\\giving_the_back_to_the_audience\\surf - 646.jpeg: 320x256 1 person, 513.9ms\n",
      "image 21/42 C:\\Users\\joost.vanstreels\\PycharmProjects\\YOLOv8\\runs\\DATASET HM\\TRAIN\\giving_the_back_to_the_audience\\surf - 647.jpeg: 320x256 1 person, 537.7ms\n",
      "image 22/42 C:\\Users\\joost.vanstreels\\PycharmProjects\\YOLOv8\\runs\\DATASET HM\\TRAIN\\giving_the_back_to_the_audience\\surf - 670.jpeg: 320x256 1 person, 551.1ms\n",
      "image 23/42 C:\\Users\\joost.vanstreels\\PycharmProjects\\YOLOv8\\runs\\DATASET HM\\TRAIN\\giving_the_back_to_the_audience\\surf - 671.jpeg: 320x256 1 person, 573.6ms\n",
      "image 24/42 C:\\Users\\joost.vanstreels\\PycharmProjects\\YOLOv8\\runs\\DATASET HM\\TRAIN\\giving_the_back_to_the_audience\\surf - 955.jpeg: 320x256 1 person, 552.3ms\n",
      "image 25/42 C:\\Users\\joost.vanstreels\\PycharmProjects\\YOLOv8\\runs\\DATASET HM\\TRAIN\\giving_the_back_to_the_audience\\surf - 956.jpeg: 320x256 1 person, 1765.9ms\n",
      "image 26/42 C:\\Users\\joost.vanstreels\\PycharmProjects\\YOLOv8\\runs\\DATASET HM\\TRAIN\\giving_the_back_to_the_audience\\surf - 957.jpeg: 320x256 1 person, 523.4ms\n",
      "image 27/42 C:\\Users\\joost.vanstreels\\PycharmProjects\\YOLOv8\\runs\\DATASET HM\\TRAIN\\giving_the_back_to_the_audience\\surf - 958.jpeg: 320x256 1 person, 552.9ms\n",
      "image 28/42 C:\\Users\\joost.vanstreels\\PycharmProjects\\YOLOv8\\runs\\DATASET HM\\TRAIN\\giving_the_back_to_the_audience\\surf - 959.jpeg: 320x256 1 person, 472.4ms\n",
      "image 29/42 C:\\Users\\joost.vanstreels\\PycharmProjects\\YOLOv8\\runs\\DATASET HM\\TRAIN\\giving_the_back_to_the_audience\\surf - 960.jpeg: 320x256 1 person, 771.2ms\n",
      "image 30/42 C:\\Users\\joost.vanstreels\\PycharmProjects\\YOLOv8\\runs\\DATASET HM\\TRAIN\\giving_the_back_to_the_audience\\surf - 971.jpeg: 320x256 1 person, 481.8ms\n",
      "image 31/42 C:\\Users\\joost.vanstreels\\PycharmProjects\\YOLOv8\\runs\\DATASET HM\\TRAIN\\giving_the_back_to_the_audience\\surf - 972.jpeg: 320x256 1 person, 544.6ms\n",
      "image 32/42 C:\\Users\\joost.vanstreels\\PycharmProjects\\YOLOv8\\runs\\DATASET HM\\TRAIN\\giving_the_back_to_the_audience\\t3_photo_1_003.jpeg: 320x256 1 person, 431.2ms\n",
      "image 33/42 C:\\Users\\joost.vanstreels\\PycharmProjects\\YOLOv8\\runs\\DATASET HM\\TRAIN\\giving_the_back_to_the_audience\\t3_photo_2_003.jpeg: 320x256 1 person, 502.7ms\n",
      "image 34/42 C:\\Users\\joost.vanstreels\\PycharmProjects\\YOLOv8\\runs\\DATASET HM\\TRAIN\\giving_the_back_to_the_audience\\t3_photo_3_003.jpeg: 320x256 1 person, 451.6ms\n",
      "image 35/42 C:\\Users\\joost.vanstreels\\PycharmProjects\\YOLOv8\\runs\\DATASET HM\\TRAIN\\giving_the_back_to_the_audience\\t3_photo_4_003.jpeg: 320x256 1 person, 735.5ms\n",
      "image 36/42 C:\\Users\\joost.vanstreels\\PycharmProjects\\YOLOv8\\runs\\DATASET HM\\TRAIN\\giving_the_back_to_the_audience\\t3_screen_003.jpeg: 320x256 1 person, 446.1ms\n",
      "image 37/42 C:\\Users\\joost.vanstreels\\PycharmProjects\\YOLOv8\\runs\\DATASET HM\\TRAIN\\giving_the_back_to_the_audience\\t3_window_003.jpeg: 320x256 1 person, 543.6ms\n",
      "image 38/42 C:\\Users\\joost.vanstreels\\PycharmProjects\\YOLOv8\\runs\\DATASET HM\\TRAIN\\giving_the_back_to_the_audience\\t4_frame_0010.jpeg: 320x256 1 person, 552.4ms\n",
      "image 39/42 C:\\Users\\joost.vanstreels\\PycharmProjects\\YOLOv8\\runs\\DATASET HM\\TRAIN\\giving_the_back_to_the_audience\\t4_frame_0011.jpeg: 320x256 1 person, 503.2ms\n",
      "image 40/42 C:\\Users\\joost.vanstreels\\PycharmProjects\\YOLOv8\\runs\\DATASET HM\\TRAIN\\giving_the_back_to_the_audience\\t4_frame_0012.jpeg: 320x256 1 person, 478.8ms\n",
      "image 41/42 C:\\Users\\joost.vanstreels\\PycharmProjects\\YOLOv8\\runs\\DATASET HM\\TRAIN\\giving_the_back_to_the_audience\\t4_frame_0013.jpeg: 320x256 1 person, 534.8ms\n",
      "image 42/42 C:\\Users\\joost.vanstreels\\PycharmProjects\\YOLOv8\\runs\\DATASET HM\\TRAIN\\giving_the_back_to_the_audience\\t4_frame_0014.jpeg: 320x256 1 person, 497.1ms\n",
      "Speed: 3.8ms preprocess, 575.5ms inference, 2.5ms postprocess per image at shape (1, 3, 320, 256)\n",
      "Results saved to \u001B[1mC:\\Users\\joost.vanstreels\\PycharmProjects\\YOLOv8\\runs\\pose\\predict3\u001B[0m\n",
      "\n",
      "image 1/36 C:\\Users\\joost.vanstreels\\PycharmProjects\\YOLOv8\\runs\\DATASET HM\\TRAIN\\hands_in_pockets\\frame_0029.jpg: 320x192 1 person, 413.0ms\n",
      "image 2/36 C:\\Users\\joost.vanstreels\\PycharmProjects\\YOLOv8\\runs\\DATASET HM\\TRAIN\\hands_in_pockets\\frame_0030.jpg: 320x192 1 person, 354.8ms\n",
      "image 3/36 C:\\Users\\joost.vanstreels\\PycharmProjects\\YOLOv8\\runs\\DATASET HM\\TRAIN\\hands_in_pockets\\frame_0033.jpg: 320x320 1 person, 632.6ms\n",
      "image 4/36 C:\\Users\\joost.vanstreels\\PycharmProjects\\YOLOv8\\runs\\DATASET HM\\TRAIN\\hands_in_pockets\\surf - 1000.jpeg: 320x256 1 person, 548.0ms\n",
      "image 5/36 C:\\Users\\joost.vanstreels\\PycharmProjects\\YOLOv8\\runs\\DATASET HM\\TRAIN\\hands_in_pockets\\surf - 1232.jpeg: 320x256 1 person, 709.4ms\n",
      "image 6/36 C:\\Users\\joost.vanstreels\\PycharmProjects\\YOLOv8\\runs\\DATASET HM\\TRAIN\\hands_in_pockets\\surf - 1233.jpeg: 320x256 1 person, 1689.3ms\n",
      "image 7/36 C:\\Users\\joost.vanstreels\\PycharmProjects\\YOLOv8\\runs\\DATASET HM\\TRAIN\\hands_in_pockets\\surf - 1260.jpeg: 320x256 1 person, 613.6ms\n",
      "image 8/36 C:\\Users\\joost.vanstreels\\PycharmProjects\\YOLOv8\\runs\\DATASET HM\\TRAIN\\hands_in_pockets\\surf - 1261.jpeg: 320x256 1 person, 597.4ms\n",
      "image 9/36 C:\\Users\\joost.vanstreels\\PycharmProjects\\YOLOv8\\runs\\DATASET HM\\TRAIN\\hands_in_pockets\\surf - 1262.jpeg: 320x256 1 person, 547.3ms\n",
      "image 10/36 C:\\Users\\joost.vanstreels\\PycharmProjects\\YOLOv8\\runs\\DATASET HM\\TRAIN\\hands_in_pockets\\surf - 348.jpeg: 320x256 1 person, 530.0ms\n",
      "image 11/36 C:\\Users\\joost.vanstreels\\PycharmProjects\\YOLOv8\\runs\\DATASET HM\\TRAIN\\hands_in_pockets\\surf - 349.jpeg: 320x256 1 person, 480.1ms\n",
      "image 12/36 C:\\Users\\joost.vanstreels\\PycharmProjects\\YOLOv8\\runs\\DATASET HM\\TRAIN\\hands_in_pockets\\surf - 350.jpeg: 320x256 1 person, 528.1ms\n",
      "image 13/36 C:\\Users\\joost.vanstreels\\PycharmProjects\\YOLOv8\\runs\\DATASET HM\\TRAIN\\hands_in_pockets\\surf - 351.jpeg: 320x256 1 person, 533.4ms\n",
      "image 14/36 C:\\Users\\joost.vanstreels\\PycharmProjects\\YOLOv8\\runs\\DATASET HM\\TRAIN\\hands_in_pockets\\surf - 352.jpeg: 320x256 1 person, 543.1ms\n",
      "image 15/36 C:\\Users\\joost.vanstreels\\PycharmProjects\\YOLOv8\\runs\\DATASET HM\\TRAIN\\hands_in_pockets\\surf - 353.jpeg: 320x256 1 person, 506.2ms\n",
      "image 16/36 C:\\Users\\joost.vanstreels\\PycharmProjects\\YOLOv8\\runs\\DATASET HM\\TRAIN\\hands_in_pockets\\surf - 354.jpeg: 320x256 1 person, 516.8ms\n",
      "image 17/36 C:\\Users\\joost.vanstreels\\PycharmProjects\\YOLOv8\\runs\\DATASET HM\\TRAIN\\hands_in_pockets\\surf - 37.jpeg: 320x256 1 person, 526.0ms\n",
      "image 18/36 C:\\Users\\joost.vanstreels\\PycharmProjects\\YOLOv8\\runs\\DATASET HM\\TRAIN\\hands_in_pockets\\surf - 38.jpeg: 320x256 1 person, 605.7ms\n",
      "image 19/36 C:\\Users\\joost.vanstreels\\PycharmProjects\\YOLOv8\\runs\\DATASET HM\\TRAIN\\hands_in_pockets\\surf - 39.jpeg: 320x256 1 person, 588.7ms\n",
      "image 20/36 C:\\Users\\joost.vanstreels\\PycharmProjects\\YOLOv8\\runs\\DATASET HM\\TRAIN\\hands_in_pockets\\surf - 40.jpeg: 320x256 1 person, 547.3ms\n",
      "image 21/36 C:\\Users\\joost.vanstreels\\PycharmProjects\\YOLOv8\\runs\\DATASET HM\\TRAIN\\hands_in_pockets\\surf - 41.jpeg: 320x256 1 person, 571.2ms\n",
      "image 22/36 C:\\Users\\joost.vanstreels\\PycharmProjects\\YOLOv8\\runs\\DATASET HM\\TRAIN\\hands_in_pockets\\surf - 42.jpeg: 320x256 1 person, 561.0ms\n",
      "image 23/36 C:\\Users\\joost.vanstreels\\PycharmProjects\\YOLOv8\\runs\\DATASET HM\\TRAIN\\hands_in_pockets\\surf - 43.jpeg: 320x256 1 person, 542.9ms\n",
      "image 24/36 C:\\Users\\joost.vanstreels\\PycharmProjects\\YOLOv8\\runs\\DATASET HM\\TRAIN\\hands_in_pockets\\surf - 998.jpeg: 320x256 1 person, 589.3ms\n",
      "image 25/36 C:\\Users\\joost.vanstreels\\PycharmProjects\\YOLOv8\\runs\\DATASET HM\\TRAIN\\hands_in_pockets\\surf - 999.jpeg: 320x256 1 person, 526.0ms\n",
      "image 26/36 C:\\Users\\joost.vanstreels\\PycharmProjects\\YOLOv8\\runs\\DATASET HM\\TRAIN\\hands_in_pockets\\t3_photo_1_004.jpeg: 320x256 1 person, 588.3ms\n",
      "image 27/36 C:\\Users\\joost.vanstreels\\PycharmProjects\\YOLOv8\\runs\\DATASET HM\\TRAIN\\hands_in_pockets\\t3_photo_2_004.jpeg: 320x256 1 person, 498.9ms\n",
      "image 28/36 C:\\Users\\joost.vanstreels\\PycharmProjects\\YOLOv8\\runs\\DATASET HM\\TRAIN\\hands_in_pockets\\t3_photo_3_004.jpeg: 320x256 1 person, 506.9ms\n",
      "image 29/36 C:\\Users\\joost.vanstreels\\PycharmProjects\\YOLOv8\\runs\\DATASET HM\\TRAIN\\hands_in_pockets\\t3_photo_4_004.jpeg: 320x256 1 person, 502.9ms\n",
      "image 30/36 C:\\Users\\joost.vanstreels\\PycharmProjects\\YOLOv8\\runs\\DATASET HM\\TRAIN\\hands_in_pockets\\t3_screen_004.jpeg: 320x256 1 person, 522.7ms\n",
      "image 31/36 C:\\Users\\joost.vanstreels\\PycharmProjects\\YOLOv8\\runs\\DATASET HM\\TRAIN\\hands_in_pockets\\t3_window_004.jpeg: 320x256 1 person, 537.1ms\n",
      "image 32/36 C:\\Users\\joost.vanstreels\\PycharmProjects\\YOLOv8\\runs\\DATASET HM\\TRAIN\\hands_in_pockets\\t4_frame_0015.jpeg: 320x256 1 person, 538.9ms\n",
      "image 33/36 C:\\Users\\joost.vanstreels\\PycharmProjects\\YOLOv8\\runs\\DATASET HM\\TRAIN\\hands_in_pockets\\t4_frame_0016.jpeg: 320x256 1 person, 488.6ms\n",
      "image 34/36 C:\\Users\\joost.vanstreels\\PycharmProjects\\YOLOv8\\runs\\DATASET HM\\TRAIN\\hands_in_pockets\\t4_frame_0017.jpeg: 320x256 1 person, 500.1ms\n",
      "image 35/36 C:\\Users\\joost.vanstreels\\PycharmProjects\\YOLOv8\\runs\\DATASET HM\\TRAIN\\hands_in_pockets\\t4_frame_0018.jpeg: 320x256 1 person, 511.7ms\n",
      "image 36/36 C:\\Users\\joost.vanstreels\\PycharmProjects\\YOLOv8\\runs\\DATASET HM\\TRAIN\\hands_in_pockets\\t4_frame_0019.jpeg: 320x256 1 person, 489.2ms\n",
      "Speed: 7.1ms preprocess, 569.1ms inference, 5.1ms postprocess per image at shape (1, 3, 320, 256)\n",
      "Results saved to \u001B[1mC:\\Users\\joost.vanstreels\\PycharmProjects\\YOLOv8\\runs\\pose\\predict3\u001B[0m\n",
      "\n",
      "image 1/22 C:\\Users\\joost.vanstreels\\PycharmProjects\\YOLOv8\\runs\\DATASET HM\\TRAIN\\hands_touching_face\\frame_0024.jpg: 288x320 1 person, 755.5ms\n",
      "image 2/22 C:\\Users\\joost.vanstreels\\PycharmProjects\\YOLOv8\\runs\\DATASET HM\\TRAIN\\hands_touching_face\\frame_0058.jpg: 320x192 1 person, 433.2ms\n",
      "image 3/22 C:\\Users\\joost.vanstreels\\PycharmProjects\\YOLOv8\\runs\\DATASET HM\\TRAIN\\hands_touching_face\\frame_0059.jpg: 320x192 1 person, 419.7ms\n",
      "image 4/22 C:\\Users\\joost.vanstreels\\PycharmProjects\\YOLOv8\\runs\\DATASET HM\\TRAIN\\hands_touching_face\\surf - 1340.jpeg: 320x256 1 person, 611.8ms\n",
      "image 5/22 C:\\Users\\joost.vanstreels\\PycharmProjects\\YOLOv8\\runs\\DATASET HM\\TRAIN\\hands_touching_face\\surf - 1341.jpeg: 320x256 1 person, 588.4ms\n",
      "image 6/22 C:\\Users\\joost.vanstreels\\PycharmProjects\\YOLOv8\\runs\\DATASET HM\\TRAIN\\hands_touching_face\\surf - 450.jpeg: 320x256 1 person, 514.3ms\n",
      "image 7/22 C:\\Users\\joost.vanstreels\\PycharmProjects\\YOLOv8\\runs\\DATASET HM\\TRAIN\\hands_touching_face\\surf - 451.jpeg: 320x256 1 person, 959.6ms\n",
      "image 8/22 C:\\Users\\joost.vanstreels\\PycharmProjects\\YOLOv8\\runs\\DATASET HM\\TRAIN\\hands_touching_face\\surf - 747.jpeg: 320x256 1 person, 475.4ms\n",
      "image 9/22 C:\\Users\\joost.vanstreels\\PycharmProjects\\YOLOv8\\runs\\DATASET HM\\TRAIN\\hands_touching_face\\surf - 748.jpeg: 320x256 1 person, 1451.8ms\n",
      "image 10/22 C:\\Users\\joost.vanstreels\\PycharmProjects\\YOLOv8\\runs\\DATASET HM\\TRAIN\\hands_touching_face\\surf - 90.jpeg: 320x256 1 person, 560.9ms\n",
      "image 11/22 C:\\Users\\joost.vanstreels\\PycharmProjects\\YOLOv8\\runs\\DATASET HM\\TRAIN\\hands_touching_face\\surf - 91.jpeg: 320x256 1 person, 573.2ms\n",
      "image 12/22 C:\\Users\\joost.vanstreels\\PycharmProjects\\YOLOv8\\runs\\DATASET HM\\TRAIN\\hands_touching_face\\t3_autumn_005.jpeg: 320x256 1 person, 558.0ms\n",
      "image 13/22 C:\\Users\\joost.vanstreels\\PycharmProjects\\YOLOv8\\runs\\DATASET HM\\TRAIN\\hands_touching_face\\t3_screen_005.jpeg: 320x256 1 person, 767.4ms\n",
      "image 14/22 C:\\Users\\joost.vanstreels\\PycharmProjects\\YOLOv8\\runs\\DATASET HM\\TRAIN\\hands_touching_face\\t3_spring_005.jpeg: 320x256 1 person, 761.9ms\n",
      "image 15/22 C:\\Users\\joost.vanstreels\\PycharmProjects\\YOLOv8\\runs\\DATASET HM\\TRAIN\\hands_touching_face\\t3_summer_005.jpeg: 320x256 1 person, 516.8ms\n",
      "image 16/22 C:\\Users\\joost.vanstreels\\PycharmProjects\\YOLOv8\\runs\\DATASET HM\\TRAIN\\hands_touching_face\\t3_window_005.jpeg: 320x256 1 person, 617.1ms\n",
      "image 17/22 C:\\Users\\joost.vanstreels\\PycharmProjects\\YOLOv8\\runs\\DATASET HM\\TRAIN\\hands_touching_face\\t3_winter_005.jpeg: 320x256 1 person, 502.4ms\n",
      "image 18/22 C:\\Users\\joost.vanstreels\\PycharmProjects\\YOLOv8\\runs\\DATASET HM\\TRAIN\\hands_touching_face\\t4_frame_0020.jpeg: 320x256 1 person, 546.2ms\n",
      "image 19/22 C:\\Users\\joost.vanstreels\\PycharmProjects\\YOLOv8\\runs\\DATASET HM\\TRAIN\\hands_touching_face\\t4_frame_0021.jpeg: 320x256 1 person, 547.9ms\n",
      "image 20/22 C:\\Users\\joost.vanstreels\\PycharmProjects\\YOLOv8\\runs\\DATASET HM\\TRAIN\\hands_touching_face\\t4_frame_0022.jpeg: 320x256 1 person, 547.8ms\n",
      "image 21/22 C:\\Users\\joost.vanstreels\\PycharmProjects\\YOLOv8\\runs\\DATASET HM\\TRAIN\\hands_touching_face\\t4_frame_0023.jpeg: 320x256 1 person, 546.0ms\n",
      "image 22/22 C:\\Users\\joost.vanstreels\\PycharmProjects\\YOLOv8\\runs\\DATASET HM\\TRAIN\\hands_touching_face\\t4_frame_0024.jpeg: 320x256 1 person, 518.7ms\n",
      "Speed: 4.9ms preprocess, 626.1ms inference, 2.4ms postprocess per image at shape (1, 3, 320, 256)\n",
      "Results saved to \u001B[1mC:\\Users\\joost.vanstreels\\PycharmProjects\\YOLOv8\\runs\\pose\\predict3\u001B[0m\n",
      "\n",
      "image 1/44 C:\\Users\\joost.vanstreels\\PycharmProjects\\YOLOv8\\runs\\DATASET HM\\TRAIN\\standing_with_the_bodyweight_on_one_leg\\frame_0038.jpg: 320x192 1 person, 475.4ms\n",
      "image 2/44 C:\\Users\\joost.vanstreels\\PycharmProjects\\YOLOv8\\runs\\DATASET HM\\TRAIN\\standing_with_the_bodyweight_on_one_leg\\frame_0039.jpg: 320x192 1 person, 412.9ms\n",
      "image 3/44 C:\\Users\\joost.vanstreels\\PycharmProjects\\YOLOv8\\runs\\DATASET HM\\TRAIN\\standing_with_the_bodyweight_on_one_leg\\surf - 1106.jpeg: 320x256 1 person, 474.0ms\n",
      "image 4/44 C:\\Users\\joost.vanstreels\\PycharmProjects\\YOLOv8\\runs\\DATASET HM\\TRAIN\\standing_with_the_bodyweight_on_one_leg\\surf - 1107.jpeg: 320x256 1 person, 672.8ms\n",
      "image 5/44 C:\\Users\\joost.vanstreels\\PycharmProjects\\YOLOv8\\runs\\DATASET HM\\TRAIN\\standing_with_the_bodyweight_on_one_leg\\surf - 1108.jpeg: 320x256 1 person, 544.2ms\n",
      "image 6/44 C:\\Users\\joost.vanstreels\\PycharmProjects\\YOLOv8\\runs\\DATASET HM\\TRAIN\\standing_with_the_bodyweight_on_one_leg\\surf - 1109.jpeg: 320x256 1 person, 537.1ms\n",
      "image 7/44 C:\\Users\\joost.vanstreels\\PycharmProjects\\YOLOv8\\runs\\DATASET HM\\TRAIN\\standing_with_the_bodyweight_on_one_leg\\surf - 1417.jpeg: 320x256 1 person, 553.0ms\n",
      "image 8/44 C:\\Users\\joost.vanstreels\\PycharmProjects\\YOLOv8\\runs\\DATASET HM\\TRAIN\\standing_with_the_bodyweight_on_one_leg\\surf - 1418.jpeg: 320x256 1 person, 957.0ms\n",
      "image 9/44 C:\\Users\\joost.vanstreels\\PycharmProjects\\YOLOv8\\runs\\DATASET HM\\TRAIN\\standing_with_the_bodyweight_on_one_leg\\surf - 1419.jpeg: 320x256 1 person, 537.4ms\n",
      "image 10/44 C:\\Users\\joost.vanstreels\\PycharmProjects\\YOLOv8\\runs\\DATASET HM\\TRAIN\\standing_with_the_bodyweight_on_one_leg\\surf - 1420.jpeg: 320x256 1 person, 452.2ms\n",
      "image 11/44 C:\\Users\\joost.vanstreels\\PycharmProjects\\YOLOv8\\runs\\DATASET HM\\TRAIN\\standing_with_the_bodyweight_on_one_leg\\surf - 1421.jpeg: 320x256 1 person, 448.4ms\n",
      "image 12/44 C:\\Users\\joost.vanstreels\\PycharmProjects\\YOLOv8\\runs\\DATASET HM\\TRAIN\\standing_with_the_bodyweight_on_one_leg\\surf - 1422.jpeg: 320x256 1 person, 450.1ms\n",
      "image 13/44 C:\\Users\\joost.vanstreels\\PycharmProjects\\YOLOv8\\runs\\DATASET HM\\TRAIN\\standing_with_the_bodyweight_on_one_leg\\surf - 1427.jpeg: 320x256 1 person, 445.7ms\n",
      "image 14/44 C:\\Users\\joost.vanstreels\\PycharmProjects\\YOLOv8\\runs\\DATASET HM\\TRAIN\\standing_with_the_bodyweight_on_one_leg\\surf - 1428.jpeg: 320x256 1 person, 472.4ms\n",
      "image 15/44 C:\\Users\\joost.vanstreels\\PycharmProjects\\YOLOv8\\runs\\DATASET HM\\TRAIN\\standing_with_the_bodyweight_on_one_leg\\surf - 1429.jpeg: 320x256 1 person, 411.3ms\n",
      "image 16/44 C:\\Users\\joost.vanstreels\\PycharmProjects\\YOLOv8\\runs\\DATASET HM\\TRAIN\\standing_with_the_bodyweight_on_one_leg\\surf - 1430.jpeg: 320x256 1 person, 437.5ms\n",
      "image 17/44 C:\\Users\\joost.vanstreels\\PycharmProjects\\YOLOv8\\runs\\DATASET HM\\TRAIN\\standing_with_the_bodyweight_on_one_leg\\surf - 1431.jpeg: 320x256 1 person, 413.2ms\n",
      "image 18/44 C:\\Users\\joost.vanstreels\\PycharmProjects\\YOLOv8\\runs\\DATASET HM\\TRAIN\\standing_with_the_bodyweight_on_one_leg\\surf - 206.jpeg: 320x256 1 person, 440.7ms\n",
      "image 19/44 C:\\Users\\joost.vanstreels\\PycharmProjects\\YOLOv8\\runs\\DATASET HM\\TRAIN\\standing_with_the_bodyweight_on_one_leg\\surf - 207.jpeg: 320x256 1 person, 432.3ms\n",
      "image 20/44 C:\\Users\\joost.vanstreels\\PycharmProjects\\YOLOv8\\runs\\DATASET HM\\TRAIN\\standing_with_the_bodyweight_on_one_leg\\surf - 208.jpeg: 320x256 1 person, 462.5ms\n",
      "image 21/44 C:\\Users\\joost.vanstreels\\PycharmProjects\\YOLOv8\\runs\\DATASET HM\\TRAIN\\standing_with_the_bodyweight_on_one_leg\\surf - 209.jpeg: 320x256 1 person, 453.6ms\n",
      "image 22/44 C:\\Users\\joost.vanstreels\\PycharmProjects\\YOLOv8\\runs\\DATASET HM\\TRAIN\\standing_with_the_bodyweight_on_one_leg\\surf - 210.jpeg: 320x256 1 person, 465.2ms\n",
      "image 23/44 C:\\Users\\joost.vanstreels\\PycharmProjects\\YOLOv8\\runs\\DATASET HM\\TRAIN\\standing_with_the_bodyweight_on_one_leg\\surf - 211.jpeg: 320x256 1 person, 479.2ms\n",
      "image 24/44 C:\\Users\\joost.vanstreels\\PycharmProjects\\YOLOv8\\runs\\DATASET HM\\TRAIN\\standing_with_the_bodyweight_on_one_leg\\surf - 212.jpeg: 320x256 1 person, 915.5ms\n",
      "image 25/44 C:\\Users\\joost.vanstreels\\PycharmProjects\\YOLOv8\\runs\\DATASET HM\\TRAIN\\standing_with_the_bodyweight_on_one_leg\\surf - 530.jpeg: 320x256 1 person, 933.2ms\n",
      "image 26/44 C:\\Users\\joost.vanstreels\\PycharmProjects\\YOLOv8\\runs\\DATASET HM\\TRAIN\\standing_with_the_bodyweight_on_one_leg\\surf - 531.jpeg: 320x256 1 person, 902.0ms\n",
      "image 27/44 C:\\Users\\joost.vanstreels\\PycharmProjects\\YOLOv8\\runs\\DATASET HM\\TRAIN\\standing_with_the_bodyweight_on_one_leg\\surf - 532.jpeg: 320x256 1 person, 498.3ms\n",
      "image 28/44 C:\\Users\\joost.vanstreels\\PycharmProjects\\YOLOv8\\runs\\DATASET HM\\TRAIN\\standing_with_the_bodyweight_on_one_leg\\surf - 546.jpeg: 320x256 1 person, 375.0ms\n",
      "image 29/44 C:\\Users\\joost.vanstreels\\PycharmProjects\\YOLOv8\\runs\\DATASET HM\\TRAIN\\standing_with_the_bodyweight_on_one_leg\\surf - 547.jpeg: 320x256 1 person, 371.1ms\n",
      "image 30/44 C:\\Users\\joost.vanstreels\\PycharmProjects\\YOLOv8\\runs\\DATASET HM\\TRAIN\\standing_with_the_bodyweight_on_one_leg\\surf - 822.jpeg: 320x256 1 person, 334.6ms\n",
      "image 31/44 C:\\Users\\joost.vanstreels\\PycharmProjects\\YOLOv8\\runs\\DATASET HM\\TRAIN\\standing_with_the_bodyweight_on_one_leg\\surf - 823.jpeg: 320x256 1 person, 391.3ms\n",
      "image 32/44 C:\\Users\\joost.vanstreels\\PycharmProjects\\YOLOv8\\runs\\DATASET HM\\TRAIN\\standing_with_the_bodyweight_on_one_leg\\surf - 824.jpeg: 320x256 1 person, 1048.2ms\n",
      "image 33/44 C:\\Users\\joost.vanstreels\\PycharmProjects\\YOLOv8\\runs\\DATASET HM\\TRAIN\\standing_with_the_bodyweight_on_one_leg\\surf - 825.jpeg: 320x256 1 person, 1032.4ms\n",
      "image 34/44 C:\\Users\\joost.vanstreels\\PycharmProjects\\YOLOv8\\runs\\DATASET HM\\TRAIN\\standing_with_the_bodyweight_on_one_leg\\t3_autumn_006.jpeg: 320x256 1 person, 399.9ms\n",
      "image 35/44 C:\\Users\\joost.vanstreels\\PycharmProjects\\YOLOv8\\runs\\DATASET HM\\TRAIN\\standing_with_the_bodyweight_on_one_leg\\t3_screen_006.jpeg: 320x256 1 person, 333.0ms\n",
      "image 36/44 C:\\Users\\joost.vanstreels\\PycharmProjects\\YOLOv8\\runs\\DATASET HM\\TRAIN\\standing_with_the_bodyweight_on_one_leg\\t3_spring_006.jpeg: 320x256 1 person, 312.4ms\n",
      "image 37/44 C:\\Users\\joost.vanstreels\\PycharmProjects\\YOLOv8\\runs\\DATASET HM\\TRAIN\\standing_with_the_bodyweight_on_one_leg\\t3_summer_006.jpeg: 320x256 1 person, 309.6ms\n",
      "image 38/44 C:\\Users\\joost.vanstreels\\PycharmProjects\\YOLOv8\\runs\\DATASET HM\\TRAIN\\standing_with_the_bodyweight_on_one_leg\\t3_window_006.jpeg: 320x256 1 person, 308.3ms\n",
      "image 39/44 C:\\Users\\joost.vanstreels\\PycharmProjects\\YOLOv8\\runs\\DATASET HM\\TRAIN\\standing_with_the_bodyweight_on_one_leg\\t3_winter_006.jpeg: 320x256 1 person, 366.0ms\n",
      "image 40/44 C:\\Users\\joost.vanstreels\\PycharmProjects\\YOLOv8\\runs\\DATASET HM\\TRAIN\\standing_with_the_bodyweight_on_one_leg\\t4_frame_0025.jpeg: 320x256 1 person, 347.9ms\n",
      "image 41/44 C:\\Users\\joost.vanstreels\\PycharmProjects\\YOLOv8\\runs\\DATASET HM\\TRAIN\\standing_with_the_bodyweight_on_one_leg\\t4_frame_0026.jpeg: 320x256 1 person, 373.2ms\n",
      "image 42/44 C:\\Users\\joost.vanstreels\\PycharmProjects\\YOLOv8\\runs\\DATASET HM\\TRAIN\\standing_with_the_bodyweight_on_one_leg\\t4_frame_0027.jpeg: 320x256 1 person, 386.5ms\n",
      "image 43/44 C:\\Users\\joost.vanstreels\\PycharmProjects\\YOLOv8\\runs\\DATASET HM\\TRAIN\\standing_with_the_bodyweight_on_one_leg\\t4_frame_0028.jpeg: 320x256 1 person, 368.7ms\n",
      "image 44/44 C:\\Users\\joost.vanstreels\\PycharmProjects\\YOLOv8\\runs\\DATASET HM\\TRAIN\\standing_with_the_bodyweight_on_one_leg\\t4_frame_0029.jpeg: 320x256 1 person, 492.7ms\n",
      "Speed: 7.3ms preprocess, 505.2ms inference, 2.3ms postprocess per image at shape (1, 3, 320, 256)\n",
      "Results saved to \u001B[1mC:\\Users\\joost.vanstreels\\PycharmProjects\\YOLOv8\\runs\\pose\\predict3\u001B[0m\n"
     ]
    }
   ],
   "source": [
    "# Voorspellingen maken voor de traindata\n",
    "\n",
    "results_crossed = model.predict('C:\\\\Users\\\\joost.vanstreels\\\\PycharmProjects\\\\YOLOv8\\\\runs\\\\DATASET HM\\\\TRAIN\\\\crossed_arms', save=True, imgsz=320, conf=0.5)\n",
    "results_gestures = model.predict('C:\\\\Users\\\\joost.vanstreels\\\\PycharmProjects\\\\YOLOv8\\\\runs\\\\DATASET HM\\\\TRAIN\\\\delivered_gestures', save=True, imgsz=320, conf=0.5)\n",
    "results_back = model.predict('C:\\\\Users\\\\joost.vanstreels\\\\PycharmProjects\\\\YOLOv8\\\\runs\\\\DATASET HM\\\\TRAIN\\\\giving_the_back_to_the_audience', save=True, imgsz=320, conf=0.5)\n",
    "results_pockets = model.predict('C:\\\\Users\\\\joost.vanstreels\\\\PycharmProjects\\\\YOLOv8\\\\runs\\\\DATASET HM\\\\TRAIN\\\\hands_in_pockets', save=True, imgsz=320, conf=0.5)\n",
    "results_face = model.predict('C:\\\\Users\\\\joost.vanstreels\\\\PycharmProjects\\\\YOLOv8\\\\runs\\\\DATASET HM\\\\TRAIN\\\\hands_touching_face', save=True, imgsz=320, conf=0.5)\n",
    "results_bodyweight = model.predict('C:\\\\Users\\\\joost.vanstreels\\\\PycharmProjects\\\\YOLOv8\\\\runs\\\\DATASET HM\\\\TRAIN\\\\standing_with_the_bodyweight_on_one_leg', save=True, imgsz=320, conf=0.5)\n"
   ],
   "metadata": {
    "collapsed": false
   }
  },
  {
   "cell_type": "code",
   "execution_count": 52,
   "outputs": [
    {
     "name": "stderr",
     "output_type": "stream",
     "text": [
      "\n",
      "image 1/11 C:\\Users\\joost.vanstreels\\PycharmProjects\\YOLOv8\\runs\\DATASET HM\\TEST\\crossed_arms\\crossed_arms_k1.jpeg: 320x224 1 person, 675.6ms\n",
      "image 2/11 C:\\Users\\joost.vanstreels\\PycharmProjects\\YOLOv8\\runs\\DATASET HM\\TEST\\crossed_arms\\crossed_arms_k2.jpeg: 320x224 1 person, 373.6ms\n",
      "image 3/11 C:\\Users\\joost.vanstreels\\PycharmProjects\\YOLOv8\\runs\\DATASET HM\\TEST\\crossed_arms\\crossed_arms_k3.jpeg: 320x224 1 person, 269.9ms\n",
      "image 4/11 C:\\Users\\joost.vanstreels\\PycharmProjects\\YOLOv8\\runs\\DATASET HM\\TEST\\crossed_arms\\crossed_arms_k5.jpeg: 320x224 1 person, 405.7ms\n",
      "image 5/11 C:\\Users\\joost.vanstreels\\PycharmProjects\\YOLOv8\\runs\\DATASET HM\\TEST\\crossed_arms\\frame_0004 bo.jpg: 192x320 1 person, 353.5ms\n",
      "image 6/11 C:\\Users\\joost.vanstreels\\PycharmProjects\\YOLOv8\\runs\\DATASET HM\\TEST\\crossed_arms\\frame_0004.jpg: 320x192 1 person, 264.8ms\n",
      "image 7/11 C:\\Users\\joost.vanstreels\\PycharmProjects\\YOLOv8\\runs\\DATASET HM\\TEST\\crossed_arms\\photo_1_001.png: 320x256 1 person, 340.3ms\n",
      "image 8/11 C:\\Users\\joost.vanstreels\\PycharmProjects\\YOLOv8\\runs\\DATASET HM\\TEST\\crossed_arms\\photo_2_001.png: 320x256 1 person, 400.2ms\n",
      "image 9/11 C:\\Users\\joost.vanstreels\\PycharmProjects\\YOLOv8\\runs\\DATASET HM\\TEST\\crossed_arms\\photo_4_001.png: 320x256 1 person, 326.2ms\n",
      "image 10/11 C:\\Users\\joost.vanstreels\\PycharmProjects\\YOLOv8\\runs\\DATASET HM\\TEST\\crossed_arms\\screen_001.png: 320x256 1 person, 436.5ms\n",
      "image 11/11 C:\\Users\\joost.vanstreels\\PycharmProjects\\YOLOv8\\runs\\DATASET HM\\TEST\\crossed_arms\\window_001.png: 320x256 1 person, 347.0ms\n",
      "Speed: 1.2ms preprocess, 381.2ms inference, 1.3ms postprocess per image at shape (1, 3, 320, 256)\n",
      "Results saved to \u001B[1mC:\\Users\\joost.vanstreels\\PycharmProjects\\YOLOv8\\runs\\pose\\predict3\u001B[0m\n",
      "\n",
      "image 1/11 C:\\Users\\joost.vanstreels\\PycharmProjects\\YOLOv8\\runs\\DATASET HM\\TEST\\delivered_gestures\\099971767.jpg: 96x320 1 person, 336.9ms\n",
      "image 2/11 C:\\Users\\joost.vanstreels\\PycharmProjects\\YOLOv8\\runs\\DATASET HM\\TEST\\delivered_gestures\\ama_delivered_gestures.png: 320x192 1 person, 347.4ms\n",
      "image 3/11 C:\\Users\\joost.vanstreels\\PycharmProjects\\YOLOv8\\runs\\DATASET HM\\TEST\\delivered_gestures\\frame_0008.jpg: 320x192 1 person, 266.8ms\n",
      "image 4/11 C:\\Users\\joost.vanstreels\\PycharmProjects\\YOLOv8\\runs\\DATASET HM\\TEST\\delivered_gestures\\frame_0011.jpg: 320x192 1 person, 262.9ms\n",
      "image 5/11 C:\\Users\\joost.vanstreels\\PycharmProjects\\YOLOv8\\runs\\DATASET HM\\TEST\\delivered_gestures\\frame_0012.jpg: 320x320 1 person, 525.9ms\n",
      "image 6/11 C:\\Users\\joost.vanstreels\\PycharmProjects\\YOLOv8\\runs\\DATASET HM\\TEST\\delivered_gestures\\photo_1_002.png: 320x256 1 person, 502.7ms\n",
      "image 7/11 C:\\Users\\joost.vanstreels\\PycharmProjects\\YOLOv8\\runs\\DATASET HM\\TEST\\delivered_gestures\\photo_1_004.png: 320x256 1 person, 391.4ms\n",
      "image 8/11 C:\\Users\\joost.vanstreels\\PycharmProjects\\YOLOv8\\runs\\DATASET HM\\TEST\\delivered_gestures\\photo_2_002.png: 320x256 1 person, 351.3ms\n",
      "image 9/11 C:\\Users\\joost.vanstreels\\PycharmProjects\\YOLOv8\\runs\\DATASET HM\\TEST\\delivered_gestures\\photo_3_002.png: 320x256 1 person, 363.1ms\n",
      "image 10/11 C:\\Users\\joost.vanstreels\\PycharmProjects\\YOLOv8\\runs\\DATASET HM\\TEST\\delivered_gestures\\screen_002.png: 320x256 1 person, 521.8ms\n",
      "image 11/11 C:\\Users\\joost.vanstreels\\PycharmProjects\\YOLOv8\\runs\\DATASET HM\\TEST\\delivered_gestures\\window_002.png: 320x256 1 person, 388.3ms\n",
      "Speed: 2.1ms preprocess, 387.1ms inference, 1.6ms postprocess per image at shape (1, 3, 320, 256)\n",
      "Results saved to \u001B[1mC:\\Users\\joost.vanstreels\\PycharmProjects\\YOLOv8\\runs\\pose\\predict3\u001B[0m\n",
      "\n",
      "image 1/7 C:\\Users\\joost.vanstreels\\PycharmProjects\\YOLOv8\\runs\\DATASET HM\\TEST\\giving_the_back_to_the_audience\\frame_0016.jpg: 320x192 1 person, 272.6ms\n",
      "image 2/7 C:\\Users\\joost.vanstreels\\PycharmProjects\\YOLOv8\\runs\\DATASET HM\\TEST\\giving_the_back_to_the_audience\\photo_1_003.png: 320x256 1 person, 308.8ms\n",
      "image 3/7 C:\\Users\\joost.vanstreels\\PycharmProjects\\YOLOv8\\runs\\DATASET HM\\TEST\\giving_the_back_to_the_audience\\photo_2_003.png: 320x256 1 person, 307.5ms\n",
      "image 4/7 C:\\Users\\joost.vanstreels\\PycharmProjects\\YOLOv8\\runs\\DATASET HM\\TEST\\giving_the_back_to_the_audience\\photo_3_003.png: 320x256 1 person, 391.3ms\n",
      "image 5/7 C:\\Users\\joost.vanstreels\\PycharmProjects\\YOLOv8\\runs\\DATASET HM\\TEST\\giving_the_back_to_the_audience\\photo_4_003.png: 320x256 1 person, 476.6ms\n",
      "image 6/7 C:\\Users\\joost.vanstreels\\PycharmProjects\\YOLOv8\\runs\\DATASET HM\\TEST\\giving_the_back_to_the_audience\\screen_003.png: 320x256 1 person, 951.3ms\n",
      "image 7/7 C:\\Users\\joost.vanstreels\\PycharmProjects\\YOLOv8\\runs\\DATASET HM\\TEST\\giving_the_back_to_the_audience\\window_003.png: 320x256 1 person, 483.9ms\n",
      "Speed: 12.0ms preprocess, 456.0ms inference, 2.1ms postprocess per image at shape (1, 3, 320, 256)\n",
      "Results saved to \u001B[1mC:\\Users\\joost.vanstreels\\PycharmProjects\\YOLOv8\\runs\\pose\\predict3\u001B[0m\n",
      "\n",
      "image 1/8 C:\\Users\\joost.vanstreels\\PycharmProjects\\YOLOv8\\runs\\DATASET HM\\TEST\\hands_in_pockets\\ama_hands_in_pockets.png: 320x192 1 person, 331.9ms\n",
      "image 2/8 C:\\Users\\joost.vanstreels\\PycharmProjects\\YOLOv8\\runs\\DATASET HM\\TEST\\hands_in_pockets\\frame_0017.jpg: 224x320 1 person, 451.6ms\n",
      "image 3/8 C:\\Users\\joost.vanstreels\\PycharmProjects\\YOLOv8\\runs\\DATASET HM\\TEST\\hands_in_pockets\\hands_in_pockets_1.jpeg: 320x224 1 person, 339.2ms\n",
      "image 4/8 C:\\Users\\joost.vanstreels\\PycharmProjects\\YOLOv8\\runs\\DATASET HM\\TEST\\hands_in_pockets\\hands_in_pockets_2.jpeg: 320x224 1 person, 308.6ms\n",
      "image 5/8 C:\\Users\\joost.vanstreels\\PycharmProjects\\YOLOv8\\runs\\DATASET HM\\TEST\\hands_in_pockets\\hands_in_pockets_3.jpeg: 320x224 1 person, 297.3ms\n",
      "image 6/8 C:\\Users\\joost.vanstreels\\PycharmProjects\\YOLOv8\\runs\\DATASET HM\\TEST\\hands_in_pockets\\photo_4_004.png: 320x256 1 person, 316.4ms\n",
      "image 7/8 C:\\Users\\joost.vanstreels\\PycharmProjects\\YOLOv8\\runs\\DATASET HM\\TEST\\hands_in_pockets\\screen_004.png: 320x256 1 person, 446.6ms\n",
      "image 8/8 C:\\Users\\joost.vanstreels\\PycharmProjects\\YOLOv8\\runs\\DATASET HM\\TEST\\hands_in_pockets\\window_004.png: 320x256 1 person, 332.5ms\n",
      "Speed: 2.7ms preprocess, 353.0ms inference, 2.8ms postprocess per image at shape (1, 3, 320, 256)\n",
      "Results saved to \u001B[1mC:\\Users\\joost.vanstreels\\PycharmProjects\\YOLOv8\\runs\\pose\\predict3\u001B[0m\n",
      "\n",
      "image 1/8 C:\\Users\\joost.vanstreels\\PycharmProjects\\YOLOv8\\runs\\DATASET HM\\TEST\\hands_touching_face\\ama_hands_touching_face.png: 320x192 1 person, 277.2ms\n",
      "image 2/8 C:\\Users\\joost.vanstreels\\PycharmProjects\\YOLOv8\\runs\\DATASET HM\\TEST\\hands_touching_face\\autumn_005.png: 320x256 1 person, 324.0ms\n",
      "image 3/8 C:\\Users\\joost.vanstreels\\PycharmProjects\\YOLOv8\\runs\\DATASET HM\\TEST\\hands_touching_face\\frame_0045.jpg: 320x192 1 person, 228.2ms\n",
      "image 4/8 C:\\Users\\joost.vanstreels\\PycharmProjects\\YOLOv8\\runs\\DATASET HM\\TEST\\hands_touching_face\\screen_005.png: 320x256 1 person, 285.8ms\n",
      "image 5/8 C:\\Users\\joost.vanstreels\\PycharmProjects\\YOLOv8\\runs\\DATASET HM\\TEST\\hands_touching_face\\spring_005.png: 320x256 1 person, 364.5ms\n",
      "image 6/8 C:\\Users\\joost.vanstreels\\PycharmProjects\\YOLOv8\\runs\\DATASET HM\\TEST\\hands_touching_face\\summer_005.png: 320x256 1 person, 832.4ms\n",
      "image 7/8 C:\\Users\\joost.vanstreels\\PycharmProjects\\YOLOv8\\runs\\DATASET HM\\TEST\\hands_touching_face\\window_005.png: 320x256 1 person, 376.5ms\n",
      "image 8/8 C:\\Users\\joost.vanstreels\\PycharmProjects\\YOLOv8\\runs\\DATASET HM\\TEST\\hands_touching_face\\winter_005.png: 320x256 1 person, 353.1ms\n",
      "Speed: 1.1ms preprocess, 380.2ms inference, 0.5ms postprocess per image at shape (1, 3, 320, 256)\n",
      "Results saved to \u001B[1mC:\\Users\\joost.vanstreels\\PycharmProjects\\YOLOv8\\runs\\pose\\predict3\u001B[0m\n",
      "\n",
      "image 1/6 C:\\Users\\joost.vanstreels\\PycharmProjects\\YOLOv8\\runs\\DATASET HM\\TEST\\standing_with_the_bodyweight_on_one_leg\\autumn_006.png: 320x256 1 person, 412.2ms\n",
      "image 2/6 C:\\Users\\joost.vanstreels\\PycharmProjects\\YOLOv8\\runs\\DATASET HM\\TEST\\standing_with_the_bodyweight_on_one_leg\\frame_0033.jpg: 320x192 1 person, 278.8ms\n",
      "image 3/6 C:\\Users\\joost.vanstreels\\PycharmProjects\\YOLOv8\\runs\\DATASET HM\\TEST\\standing_with_the_bodyweight_on_one_leg\\frame_0034.jpg: 320x192 1 person, 270.9ms\n",
      "image 4/6 C:\\Users\\joost.vanstreels\\PycharmProjects\\YOLOv8\\runs\\DATASET HM\\TEST\\standing_with_the_bodyweight_on_one_leg\\screen_006.png: 320x256 1 person, 319.3ms\n",
      "image 5/6 C:\\Users\\joost.vanstreels\\PycharmProjects\\YOLOv8\\runs\\DATASET HM\\TEST\\standing_with_the_bodyweight_on_one_leg\\spring_006.png: 320x256 1 person, 320.0ms\n",
      "image 6/6 C:\\Users\\joost.vanstreels\\PycharmProjects\\YOLOv8\\runs\\DATASET HM\\TEST\\standing_with_the_bodyweight_on_one_leg\\window_006.png: 320x256 1 person, 304.1ms\n",
      "Speed: 2.0ms preprocess, 317.5ms inference, 1.4ms postprocess per image at shape (1, 3, 320, 256)\n",
      "Results saved to \u001B[1mC:\\Users\\joost.vanstreels\\PycharmProjects\\YOLOv8\\runs\\pose\\predict3\u001B[0m\n"
     ]
    }
   ],
   "source": [
    "# Idem voor de testdata\n",
    "\n",
    "results_crossed_test = model.predict('C:\\\\Users\\\\joost.vanstreels\\\\PycharmProjects\\\\YOLOv8\\\\runs\\\\DATASET HM\\\\TEST\\\\crossed_arms', save=True, imgsz=320, conf=0.5)\n",
    "results_gestures_test = model.predict('C:\\\\Users\\\\joost.vanstreels\\\\PycharmProjects\\\\YOLOv8\\\\runs\\\\DATASET HM\\\\TEST\\\\delivered_gestures', save=True, imgsz=320, conf=0.5)\n",
    "results_back_test = model.predict('C:\\\\Users\\\\joost.vanstreels\\\\PycharmProjects\\\\YOLOv8\\\\runs\\\\DATASET HM\\\\TEST\\\\giving_the_back_to_the_audience', save=True, imgsz=320, conf=0.5)\n",
    "results_pockets_test = model.predict('C:\\\\Users\\\\joost.vanstreels\\\\PycharmProjects\\\\YOLOv8\\\\runs\\\\DATASET HM\\\\TEST\\\\hands_in_pockets', save=True, imgsz=320, conf=0.5)\n",
    "results_face_test = model.predict('C:\\\\Users\\\\joost.vanstreels\\\\PycharmProjects\\\\YOLOv8\\\\runs\\\\DATASET HM\\\\TEST\\\\hands_touching_face', save=True, imgsz=320, conf=0.5)\n",
    "results_bodyweight_test = model.predict('C:\\\\Users\\\\joost.vanstreels\\\\PycharmProjects\\\\YOLOv8\\\\runs\\\\DATASET HM\\\\TEST\\\\standing_with_the_bodyweight_on_one_leg', save=True, imgsz=320, conf=0.5)\n"
   ],
   "metadata": {
    "collapsed": false
   }
  },
  {
   "cell_type": "markdown",
   "source": [
    "#### Stap 2. Relevante informatie uit results objecten opslaan\n",
    "\n",
    "To do: om gaan met plaatjes met meerdere personen, alternatieve methode om een écht leeg array te krijgen i.p.v. `analytics_data = np.empty([1, 55])`"
   ],
   "metadata": {
    "collapsed": false
   }
  },
  {
   "cell_type": "code",
   "execution_count": 34,
   "outputs": [],
   "source": [
    "# Array met results maken waarover geïtereerd kan worden\n",
    "# Keuze maken voor train- of testdata\n",
    "\n",
    "#array_results = [results_crossed, results_gestures, results_back, results_pockets, results_face, results_bodyweight]\n",
    "array_results = [results_crossed_test, results_gestures_test, results_back_test, results_pockets_test, results_face_test, results_bodyweight_test]"
   ],
   "metadata": {
    "collapsed": false
   }
  },
  {
   "cell_type": "code",
   "execution_count": 35,
   "outputs": [],
   "source": [
    "# Image source, pose, confidence, 17x2 keypoints en 17 confidences per keypoint opslaan in array\n",
    "analytics_data = np.empty([1, 55])\n",
    "\n",
    "for result in array_results:\n",
    "    for r in result:\n",
    "        # De has_visible check controleert of er een persoon gedetecteerd is\n",
    "        if r.keypoints.has_visible == True:\n",
    "            image_name = np.array([[r.__getitem__(0).path]])\n",
    "            # Op basis van het path wordt de naam van de pose en een code gegenereerd\n",
    "            if image_name[0][0].find('crossed') > -1:\n",
    "                target = np.array([['crossed', 0]])\n",
    "            elif image_name[0][0].find('gestures') > -1:\n",
    "                target = np.array([['gestures', 1]])\n",
    "            elif image_name[0][0].find('back') > -1:\n",
    "                target = np.array([['back', 2]])\n",
    "            elif image_name[0][0].find('pockets') > -1:\n",
    "                target = np.array([['pockets', 3]])\n",
    "            elif image_name[0][0].find('face') > -1:\n",
    "                target = np.array([['face', 4]])\n",
    "            else: target = np.array([['bodyweight', 5]])\n",
    "            confidence = np.array([r.__getitem__(0).boxes.conf])\n",
    "            keypoints = np.array([r.__getitem__(0).keypoints.xyn.numpy().flatten()])\n",
    "            confidences = np.array([r.__getitem__(0).keypoints.conf.numpy().flatten()])\n",
    "\n",
    "            # Combineer informatie van elk plaatje in 1 x 55 array (rij)\n",
    "            new_row = np.concatenate((image_name, target, confidence, keypoints, confidences), axis=1)\n",
    "\n",
    "            # Voeg de rij toe in een array\n",
    "            analytics_data = np.vstack((analytics_data, new_row))"
   ],
   "metadata": {
    "collapsed": false
   }
  },
  {
   "cell_type": "code",
   "execution_count": 36,
   "outputs": [
    {
     "data": {
      "text/plain": "array([['C:\\\\Users\\\\joost.vanstreels\\\\PycharmProjects\\\\YOLOv8\\\\runs\\\\DATASET HM\\\\TEST\\\\crossed_arms\\\\crossed_arms_k1.jpeg', 'crossed', '0', ..., '0.99437296', '0.96163416', '0.97327244'],\n       ['C:\\\\Users\\\\joost.vanstreels\\\\PycharmProjects\\\\YOLOv8\\\\runs\\\\DATASET HM\\\\TEST\\\\crossed_arms\\\\crossed_arms_k2.jpeg', 'crossed', '0', ..., '0.9953655', '0.9675705', '0.97354466'],\n       ['C:\\\\Users\\\\joost.vanstreels\\\\PycharmProjects\\\\YOLOv8\\\\runs\\\\DATASET HM\\\\TEST\\\\crossed_arms\\\\crossed_arms_k3.jpeg', 'crossed', '0', ..., '0.99506575', '0.9421217', '0.9693368'],\n       ...,\n       ['C:\\\\Users\\\\joost.vanstreels\\\\PycharmProjects\\\\YOLOv8\\\\runs\\\\DATASET HM\\\\TEST\\\\standing_with_the_bodyweight_on_one_leg\\\\screen_006.png', 'bodyweight', '5', ..., '0.96425235', '0.8991615', '0.8842756'],\n       ['C:\\\\Users\\\\joost.vanstreels\\\\PycharmProjects\\\\YOLOv8\\\\runs\\\\DATASET HM\\\\TEST\\\\standing_with_the_bodyweight_on_one_leg\\\\spring_006.png', 'bodyweight', '5', ..., '0.9380773', '0.7985427', '0.7851174'],\n       ['C:\\\\Users\\\\joost.vanstreels\\\\PycharmProjects\\\\YOLOv8\\\\runs\\\\DATASET HM\\\\TEST\\\\standing_with_the_bodyweight_on_one_leg\\\\window_006.png', 'bodyweight', '5', ..., '0.9878456', '0.9523078', '0.9517955']], dtype='<U124')"
     },
     "execution_count": 36,
     "metadata": {},
     "output_type": "execute_result"
    }
   ],
   "source": [
    "# Verwijder de eerste rij uit het array\n",
    "analytics_data = np.delete(analytics_data, 0, 0)\n",
    "analytics_data"
   ],
   "metadata": {
    "collapsed": false
   }
  },
  {
   "cell_type": "code",
   "execution_count": 37,
   "outputs": [
    {
     "data": {
      "text/plain": "                                                 path        pose pose_code  \\\n0   C:\\Users\\joost.vanstreels\\PycharmProjects\\YOLO...     crossed         0   \n1   C:\\Users\\joost.vanstreels\\PycharmProjects\\YOLO...     crossed         0   \n2   C:\\Users\\joost.vanstreels\\PycharmProjects\\YOLO...     crossed         0   \n3   C:\\Users\\joost.vanstreels\\PycharmProjects\\YOLO...     crossed         0   \n4   C:\\Users\\joost.vanstreels\\PycharmProjects\\YOLO...     crossed         0   \n5   C:\\Users\\joost.vanstreels\\PycharmProjects\\YOLO...     crossed         0   \n6   C:\\Users\\joost.vanstreels\\PycharmProjects\\YOLO...     crossed         0   \n7   C:\\Users\\joost.vanstreels\\PycharmProjects\\YOLO...     crossed         0   \n8   C:\\Users\\joost.vanstreels\\PycharmProjects\\YOLO...     crossed         0   \n9   C:\\Users\\joost.vanstreels\\PycharmProjects\\YOLO...     crossed         0   \n10  C:\\Users\\joost.vanstreels\\PycharmProjects\\YOLO...     crossed         0   \n11  C:\\Users\\joost.vanstreels\\PycharmProjects\\YOLO...    gestures         1   \n12  C:\\Users\\joost.vanstreels\\PycharmProjects\\YOLO...    gestures         1   \n13  C:\\Users\\joost.vanstreels\\PycharmProjects\\YOLO...    gestures         1   \n14  C:\\Users\\joost.vanstreels\\PycharmProjects\\YOLO...    gestures         1   \n15  C:\\Users\\joost.vanstreels\\PycharmProjects\\YOLO...    gestures         1   \n16  C:\\Users\\joost.vanstreels\\PycharmProjects\\YOLO...    gestures         1   \n17  C:\\Users\\joost.vanstreels\\PycharmProjects\\YOLO...    gestures         1   \n18  C:\\Users\\joost.vanstreels\\PycharmProjects\\YOLO...    gestures         1   \n19  C:\\Users\\joost.vanstreels\\PycharmProjects\\YOLO...    gestures         1   \n20  C:\\Users\\joost.vanstreels\\PycharmProjects\\YOLO...    gestures         1   \n21  C:\\Users\\joost.vanstreels\\PycharmProjects\\YOLO...    gestures         1   \n22  C:\\Users\\joost.vanstreels\\PycharmProjects\\YOLO...        back         2   \n23  C:\\Users\\joost.vanstreels\\PycharmProjects\\YOLO...        back         2   \n24  C:\\Users\\joost.vanstreels\\PycharmProjects\\YOLO...        back         2   \n25  C:\\Users\\joost.vanstreels\\PycharmProjects\\YOLO...        back         2   \n26  C:\\Users\\joost.vanstreels\\PycharmProjects\\YOLO...        back         2   \n27  C:\\Users\\joost.vanstreels\\PycharmProjects\\YOLO...        back         2   \n28  C:\\Users\\joost.vanstreels\\PycharmProjects\\YOLO...        back         2   \n29  C:\\Users\\joost.vanstreels\\PycharmProjects\\YOLO...     pockets         3   \n30  C:\\Users\\joost.vanstreels\\PycharmProjects\\YOLO...     pockets         3   \n31  C:\\Users\\joost.vanstreels\\PycharmProjects\\YOLO...     pockets         3   \n32  C:\\Users\\joost.vanstreels\\PycharmProjects\\YOLO...     pockets         3   \n33  C:\\Users\\joost.vanstreels\\PycharmProjects\\YOLO...     pockets         3   \n34  C:\\Users\\joost.vanstreels\\PycharmProjects\\YOLO...     pockets         3   \n35  C:\\Users\\joost.vanstreels\\PycharmProjects\\YOLO...     pockets         3   \n36  C:\\Users\\joost.vanstreels\\PycharmProjects\\YOLO...     pockets         3   \n37  C:\\Users\\joost.vanstreels\\PycharmProjects\\YOLO...        face         4   \n38  C:\\Users\\joost.vanstreels\\PycharmProjects\\YOLO...        face         4   \n39  C:\\Users\\joost.vanstreels\\PycharmProjects\\YOLO...        face         4   \n40  C:\\Users\\joost.vanstreels\\PycharmProjects\\YOLO...        face         4   \n41  C:\\Users\\joost.vanstreels\\PycharmProjects\\YOLO...        face         4   \n42  C:\\Users\\joost.vanstreels\\PycharmProjects\\YOLO...        face         4   \n43  C:\\Users\\joost.vanstreels\\PycharmProjects\\YOLO...        face         4   \n44  C:\\Users\\joost.vanstreels\\PycharmProjects\\YOLO...        face         4   \n45  C:\\Users\\joost.vanstreels\\PycharmProjects\\YOLO...  bodyweight         5   \n46  C:\\Users\\joost.vanstreels\\PycharmProjects\\YOLO...  bodyweight         5   \n47  C:\\Users\\joost.vanstreels\\PycharmProjects\\YOLO...  bodyweight         5   \n48  C:\\Users\\joost.vanstreels\\PycharmProjects\\YOLO...  bodyweight         5   \n49  C:\\Users\\joost.vanstreels\\PycharmProjects\\YOLO...  bodyweight         5   \n50  C:\\Users\\joost.vanstreels\\PycharmProjects\\YOLO...  bodyweight         5   \n\n    confidence         x00          y00         x01          y01         x02  \\\n0    0.9015528  0.48147646  0.076581195   0.5127767   0.05922184  0.44958645   \n1    0.9116027  0.50897133    0.1333487   0.5341627   0.11934657  0.48569432   \n2    0.8968845  0.49851272   0.17371432   0.5230943    0.1577341  0.46735746   \n3    0.8865457  0.48888156   0.12647943  0.51887566   0.11664771  0.47133246   \n4    0.8966384  0.48913136   0.23686232     0.50128   0.21473885  0.47424206   \n5   0.87550956  0.49185577   0.31652585   0.5133963   0.30714148  0.47095692   \n6    0.8648306  0.48233557   0.31807482    0.510193   0.31048098  0.47684053   \n7    0.8814552  0.50417763   0.22319646   0.5157892   0.21016194  0.49011153   \n8   0.91165835  0.46562666   0.26999044   0.4868755   0.25394332   0.4418233   \n9    0.8715683    0.531241    0.3254126     0.54951   0.31433907  0.51257867   \n10  0.87495595   0.5327971   0.32407898   0.5508681   0.31166592  0.51249224   \n11   0.8096671  0.45402688   0.38596696  0.46039745   0.35784608  0.44460467   \n12   0.9063947  0.50438493    0.3402255  0.52324426   0.33196408  0.48519522   \n13  0.91564703   0.5083811    0.3158292   0.5315098   0.30795053  0.48689824   \n14   0.9166565  0.48540413   0.31290415  0.50946325   0.30491868   0.4624723   \n15  0.93737036  0.48997974    0.5275123   0.5111915   0.51039106  0.46604455   \n16   0.8755646   0.4394587   0.26493946   0.4637834   0.25478238  0.43152612   \n17   0.8713625  0.44302177   0.29888332  0.45923364   0.28678617  0.42013276   \n18   0.8853462  0.49915957   0.17267089  0.51800746   0.15939355  0.47999698   \n19   0.9018596   0.4667942   0.30932638  0.48159277    0.2973406  0.44750124   \n20  0.89411676  0.51130486   0.28019395   0.5241434   0.26743403  0.48936218   \n21   0.9086476   0.5094571    0.2797082   0.5229983   0.26570544  0.48682773   \n22   0.8795877  0.62485236   0.33306453  0.62457764    0.3192768  0.62953484   \n23   0.8827701  0.54243886   0.30441073   0.5422347   0.29051074  0.53026885   \n24  0.91195214  0.55561244   0.12437426  0.55900526   0.10625489   0.5636121   \n25    0.907768  0.48766655   0.24185172  0.48661992   0.22960347  0.49591827   \n26  0.84040976  0.53353846    0.2378264   0.5488132    0.2251866   0.5175768   \n27   0.8744596   0.5996461   0.42253405   0.5952306   0.41282803  0.59529555   \n28  0.87098587  0.37975487   0.38410667  0.38269264   0.37427357   0.3695905   \n29  0.89995044  0.54143155   0.34345463   0.5596392   0.33340862   0.5220538   \n30  0.90279716   0.5292811     0.340206  0.54705554   0.31282866   0.5095703   \n31   0.9040642  0.50945586   0.12630264  0.53204316  0.109742716   0.4821574   \n32   0.9014769   0.4618089   0.18501061  0.50095797   0.15511318  0.41993946   \n33   0.9008374   0.5383748  0.122221306  0.56205654  0.105199076  0.50846773   \n34  0.92541474  0.40559477    0.2855973  0.42278183   0.27267927   0.3821239   \n35   0.8825847  0.61933684   0.46298066   0.6316884   0.45386767  0.60717446   \n36   0.8579937   0.6181189   0.46400458   0.6310254   0.45476216   0.6059142   \n37  0.87647325  0.39839193   0.36005232  0.41661298    0.3502058  0.37813863   \n38  0.86679447  0.47361678   0.28852853  0.49328917   0.27561137  0.45482057   \n39   0.9227612  0.48842248   0.31412905  0.51237136    0.3055233  0.46873263   \n40   0.8842163  0.60176843   0.44427368  0.61849916   0.43460217   0.5892551   \n41   0.8503585  0.43597117   0.31893367  0.45556638    0.3043112   0.4157421   \n42   0.9063621  0.46841517   0.33365571  0.49152043    0.3219489   0.4529216   \n43   0.8902847   0.4319459   0.41082305  0.44959965   0.39758974    0.415408   \n44   0.8653568  0.48447293   0.27831808   0.5026064    0.2660626  0.46196613   \n45   0.9164994  0.35516796   0.27761212  0.36922532   0.26411366   0.3332711   \n46   0.9095227  0.40543237   0.31795186   0.4283869   0.30816814   0.3846333   \n47   0.9089967  0.40639997   0.31735507  0.42999682   0.30801257  0.38619927   \n48   0.8457045  0.67799497    0.4517281  0.69486105   0.44384298   0.6675311   \n49  0.89565146  0.58764195   0.34953994  0.61155915   0.33856124   0.5751837   \n50   0.8955535   0.5928476   0.41008416  0.61555433    0.4001336   0.5790162   \n\n            y02  ...         v07         v08         v09         v10  \\\n0   0.061054517  ...  0.91329706   0.9725028  0.86815745  0.94763726   \n1    0.12004356  ...   0.9693784  0.98432827  0.94954294  0.96952033   \n2    0.15961607  ...  0.90336716  0.99130213   0.8708704   0.9788755   \n3    0.11364955  ...  0.97805434   0.9795584  0.96132725   0.9632833   \n4    0.21555862  ...    0.942401  0.97971195   0.9064119    0.952538   \n5    0.30646333  ...  0.96924734   0.9758848  0.94416124  0.95617276   \n6    0.30656886  ...  0.98561317   0.9350228   0.9686387  0.90607154   \n7    0.21174245  ...   0.9911572   0.8790735   0.9802786   0.8724287   \n8    0.25544247  ...    0.972194  0.96883583   0.9469014  0.94804806   \n9    0.31496546  ...   0.9258564   0.9873482   0.8962099  0.97261953   \n10   0.31367093  ...   0.9536346   0.9735763  0.92763686  0.95362985   \n11   0.34831992  ...   0.6937497   0.8930442  0.60175234   0.7912095   \n12   0.33192557  ...   0.9653226  0.98984575  0.93944323   0.9765564   \n13   0.30651218  ...   0.9680426   0.9887622   0.9399225   0.9735754   \n14    0.3036827  ...  0.96900326   0.9894879   0.9415109   0.9741599   \n15   0.50953895  ...   0.8382891   0.9536518   0.7357893   0.8830253   \n16   0.25307465  ...   0.9858446   0.9552238  0.96934134  0.93033993   \n17   0.28809115  ...   0.9569314  0.98253375  0.93357027   0.9656365   \n18   0.16044964  ...   0.9762891  0.97858685   0.9590715   0.9628342   \n19   0.29824746  ...  0.97394437   0.9770708   0.9549216  0.96126646   \n20     0.270207  ...   0.9314378    0.989764   0.8964456  0.97567284   \n21   0.26930717  ...   0.9367987  0.98976326   0.9112036   0.9780175   \n22    0.3195215  ...  0.74475265   0.8288539   0.5447387   0.6480374   \n23    0.2892229  ...   0.8304496    0.922527  0.72428423   0.8374519   \n24   0.10463678  ...   0.9152724    0.906045   0.7891398   0.7787863   \n25   0.22808161  ...   0.8823191  0.93022776   0.7828544  0.84436274   \n26   0.22721833  ...  0.90814894   0.9728793   0.8834997   0.9508511   \n27   0.41212538  ...  0.92570263  0.95116234   0.7431054  0.78903896   \n28   0.37345034  ...   0.9198283  0.94478565   0.8634008   0.8899954   \n29   0.33305746  ...  0.96850765   0.9840581  0.95062995  0.96748793   \n30   0.31687346  ...   0.9270308   0.8724999   0.8361303  0.77293366   \n31  0.112120226  ...   0.9659344  0.99183935  0.94900227  0.98271865   \n32   0.15744643  ...   0.9686734  0.81006783   0.9086573  0.71306366   \n33   0.10842033  ...   0.8875232   0.9920169    0.863296  0.98108417   \n34   0.27397537  ...  0.93567425  0.98813474   0.9210411   0.9778025   \n35   0.45381308  ...  0.96796393  0.96407694   0.9491145   0.9389322   \n36   0.45479685  ...   0.9597468  0.96647334  0.93719673   0.9397798   \n37   0.35195294  ...  0.97165257  0.98162764  0.94920254   0.9639376   \n38   0.27662954  ...   0.9704405   0.9082866  0.94124556   0.8721069   \n39   0.30427375  ...   0.9584178   0.9882172   0.9398575   0.9771762   \n40   0.43670088  ...  0.98679906   0.9498487   0.9690606   0.9264875   \n41    0.3085202  ...  0.97964466   0.9413628   0.9590012  0.91471153   \n42   0.32253718  ...  0.98023784  0.95952326   0.9636727   0.9374193   \n43   0.40121567  ...   0.9846087  0.97255594  0.96732205   0.9512401   \n44    0.2690894  ...   0.9690207   0.9671313  0.94025654  0.94234574   \n45    0.2677506  ...     0.97244   0.9854137   0.9517885  0.97190577   \n46    0.3096971  ...   0.9695505  0.98872584   0.9488019   0.9756221   \n47    0.3085526  ...  0.97307914   0.9882002   0.9531696   0.9747703   \n48   0.44235337  ...   0.9757189   0.9511971  0.94898736  0.91583717   \n49   0.33432013  ...  0.96754074  0.94695795   0.9505617  0.92469424   \n50   0.39753744  ...  0.97863287    0.973464  0.96163064   0.9537257   \n\n          v11`         v12         v13         v14          v15          v16  \n0    0.9945109    0.996552   0.9906068  0.99437296   0.96163416   0.97327244  \n1    0.9978656  0.99829286  0.99377453   0.9953655    0.9675705   0.97354466  \n2    0.9959233  0.99832565  0.98664516  0.99506575    0.9421217    0.9693368  \n3   0.99824226   0.9982343  0.99465734  0.99504745    0.9685176   0.97023004  \n4   0.98067135  0.98775035   0.7777511  0.83330476    0.3617313   0.42883712  \n5   0.99599177   0.9963133  0.98965853  0.99114287    0.9602066    0.9644962  \n6   0.99724895  0.99508923   0.9924003   0.9876245    0.9690202    0.9588943  \n7   0.99726784   0.9924583  0.99376595   0.9838995    0.9703799   0.94669944  \n8     0.995526   0.9953839   0.9866274   0.9871019   0.93734336   0.93911827  \n9   0.99265987  0.99625385   0.9808888   0.9907476   0.93541604     0.959553  \n10   0.9930835  0.99439263  0.98124355   0.9855655   0.93060887    0.9416107  \n11  0.64110935  0.73029995  0.16183005  0.23741336   0.07693896  0.108234584  \n12   0.9974273  0.99838746  0.99418074  0.99649745    0.9791763   0.98542494  \n13   0.9980805   0.9986658     0.99413   0.9962835    0.9749001   0.98210365  \n14  0.99830234  0.99884605    0.994911   0.9968106    0.9787258   0.98494893  \n15   0.6744908    0.780021  0.08916371  0.13129805  0.016700318  0.022780832  \n16   0.9975521  0.99612755   0.9924545   0.9892216     0.964476   0.95640975  \n17   0.9944259   0.9960068   0.9842545   0.9892558    0.9355377   0.95020795  \n18   0.9966684  0.99684626  0.99148625   0.9923872    0.9610027    0.9648254  \n19   0.9960295  0.99612445  0.99017674   0.9907102    0.9581642    0.9601828  \n20  0.99460346    0.997332    0.984664   0.9926373    0.9426737    0.9639089  \n21   0.9945374   0.9972671   0.9859254  0.99317944   0.95046246   0.96887064  \n22   0.9898101   0.9914386   0.9903504  0.99258864   0.98167115    0.9848995  \n23    0.977727  0.98367256  0.96977454  0.97785586   0.92451155    0.9391193  \n24   0.9967249   0.9966068   0.9934509  0.99373454    0.9710282   0.97237056  \n25   0.9861725   0.9892364   0.9768943  0.98237854   0.92924875    0.9422329  \n26   0.9853489   0.9906012     0.96919   0.9811178     0.900305   0.92754626  \n27  0.99539447   0.9963921   0.9807437  0.98274934    0.9416612   0.94589025  \n28  0.99339056  0.99454004  0.98378676   0.9855655    0.9496116    0.9536124  \n29  0.99738353  0.99817824  0.99256426    0.993828    0.9733804   0.97664684  \n30  0.79403394   0.7596537  0.15400346  0.12394235  0.028692616  0.024158224  \n31  0.99865663   0.9992124   0.9968364   0.9982565    0.9838644   0.98924595  \n32  0.93783355  0.88297737  0.36337104   0.2236834  0.048023243   0.03136759  \n33   0.9958715    0.998524  0.99179286   0.9971836    0.9709346     0.985313  \n34   0.9917842  0.99572515  0.97637695   0.9881941    0.9118402    0.9433224  \n35   0.9949647  0.99540246  0.98732823   0.9862916   0.96482277   0.96261466  \n36  0.99330574   0.9944401   0.9804565  0.98119617   0.94382465    0.9453357  \n37   0.9979359    0.998176  0.99594754  0.99669516    0.9864288   0.98840183  \n38  0.99146515  0.98648643   0.9791805  0.96907324    0.9181828    0.8972606  \n39  0.99587053   0.9975153   0.9900838  0.99426526    0.9659463   0.97649515  \n40  0.99712235   0.9950022  0.99108815  0.98599446    0.9607662   0.94921803  \n41    0.991113    0.986167  0.95321536   0.9323948    0.7613354    0.7147068  \n42   0.9938251   0.9918358  0.97961867  0.97449386   0.91374546   0.90336806  \n43   0.9980368  0.99745136  0.99495137  0.99397427    0.9794185    0.9776938  \n44  0.99200433   0.9915603   0.9592246   0.9589145    0.7916806   0.79126555  \n45  0.99741936    0.997968  0.99254674  0.99461126    0.9711702    0.9774559  \n46   0.9979305    0.998575   0.9950795  0.99680245     0.982612   0.98717123  \n47   0.9981667   0.9986481   0.9957736   0.9970541    0.9850044    0.9884709  \n48  0.99206793   0.9895761  0.97214407  0.96425235    0.8991615    0.8842756  \n49   0.9852255   0.9820811   0.9479717   0.9380773    0.7985427    0.7851174  \n50    0.996229    0.995909   0.9885351   0.9878456    0.9523078    0.9517955  \n\n[51 rows x 55 columns]",
      "text/html": "<div>\n<style scoped>\n    .dataframe tbody tr th:only-of-type {\n        vertical-align: middle;\n    }\n\n    .dataframe tbody tr th {\n        vertical-align: top;\n    }\n\n    .dataframe thead th {\n        text-align: right;\n    }\n</style>\n<table border=\"1\" class=\"dataframe\">\n  <thead>\n    <tr style=\"text-align: right;\">\n      <th></th>\n      <th>path</th>\n      <th>pose</th>\n      <th>pose_code</th>\n      <th>confidence</th>\n      <th>x00</th>\n      <th>y00</th>\n      <th>x01</th>\n      <th>y01</th>\n      <th>x02</th>\n      <th>y02</th>\n      <th>...</th>\n      <th>v07</th>\n      <th>v08</th>\n      <th>v09</th>\n      <th>v10</th>\n      <th>v11`</th>\n      <th>v12</th>\n      <th>v13</th>\n      <th>v14</th>\n      <th>v15</th>\n      <th>v16</th>\n    </tr>\n  </thead>\n  <tbody>\n    <tr>\n      <th>0</th>\n      <td>C:\\Users\\joost.vanstreels\\PycharmProjects\\YOLO...</td>\n      <td>crossed</td>\n      <td>0</td>\n      <td>0.9015528</td>\n      <td>0.48147646</td>\n      <td>0.076581195</td>\n      <td>0.5127767</td>\n      <td>0.05922184</td>\n      <td>0.44958645</td>\n      <td>0.061054517</td>\n      <td>...</td>\n      <td>0.91329706</td>\n      <td>0.9725028</td>\n      <td>0.86815745</td>\n      <td>0.94763726</td>\n      <td>0.9945109</td>\n      <td>0.996552</td>\n      <td>0.9906068</td>\n      <td>0.99437296</td>\n      <td>0.96163416</td>\n      <td>0.97327244</td>\n    </tr>\n    <tr>\n      <th>1</th>\n      <td>C:\\Users\\joost.vanstreels\\PycharmProjects\\YOLO...</td>\n      <td>crossed</td>\n      <td>0</td>\n      <td>0.9116027</td>\n      <td>0.50897133</td>\n      <td>0.1333487</td>\n      <td>0.5341627</td>\n      <td>0.11934657</td>\n      <td>0.48569432</td>\n      <td>0.12004356</td>\n      <td>...</td>\n      <td>0.9693784</td>\n      <td>0.98432827</td>\n      <td>0.94954294</td>\n      <td>0.96952033</td>\n      <td>0.9978656</td>\n      <td>0.99829286</td>\n      <td>0.99377453</td>\n      <td>0.9953655</td>\n      <td>0.9675705</td>\n      <td>0.97354466</td>\n    </tr>\n    <tr>\n      <th>2</th>\n      <td>C:\\Users\\joost.vanstreels\\PycharmProjects\\YOLO...</td>\n      <td>crossed</td>\n      <td>0</td>\n      <td>0.8968845</td>\n      <td>0.49851272</td>\n      <td>0.17371432</td>\n      <td>0.5230943</td>\n      <td>0.1577341</td>\n      <td>0.46735746</td>\n      <td>0.15961607</td>\n      <td>...</td>\n      <td>0.90336716</td>\n      <td>0.99130213</td>\n      <td>0.8708704</td>\n      <td>0.9788755</td>\n      <td>0.9959233</td>\n      <td>0.99832565</td>\n      <td>0.98664516</td>\n      <td>0.99506575</td>\n      <td>0.9421217</td>\n      <td>0.9693368</td>\n    </tr>\n    <tr>\n      <th>3</th>\n      <td>C:\\Users\\joost.vanstreels\\PycharmProjects\\YOLO...</td>\n      <td>crossed</td>\n      <td>0</td>\n      <td>0.8865457</td>\n      <td>0.48888156</td>\n      <td>0.12647943</td>\n      <td>0.51887566</td>\n      <td>0.11664771</td>\n      <td>0.47133246</td>\n      <td>0.11364955</td>\n      <td>...</td>\n      <td>0.97805434</td>\n      <td>0.9795584</td>\n      <td>0.96132725</td>\n      <td>0.9632833</td>\n      <td>0.99824226</td>\n      <td>0.9982343</td>\n      <td>0.99465734</td>\n      <td>0.99504745</td>\n      <td>0.9685176</td>\n      <td>0.97023004</td>\n    </tr>\n    <tr>\n      <th>4</th>\n      <td>C:\\Users\\joost.vanstreels\\PycharmProjects\\YOLO...</td>\n      <td>crossed</td>\n      <td>0</td>\n      <td>0.8966384</td>\n      <td>0.48913136</td>\n      <td>0.23686232</td>\n      <td>0.50128</td>\n      <td>0.21473885</td>\n      <td>0.47424206</td>\n      <td>0.21555862</td>\n      <td>...</td>\n      <td>0.942401</td>\n      <td>0.97971195</td>\n      <td>0.9064119</td>\n      <td>0.952538</td>\n      <td>0.98067135</td>\n      <td>0.98775035</td>\n      <td>0.7777511</td>\n      <td>0.83330476</td>\n      <td>0.3617313</td>\n      <td>0.42883712</td>\n    </tr>\n    <tr>\n      <th>5</th>\n      <td>C:\\Users\\joost.vanstreels\\PycharmProjects\\YOLO...</td>\n      <td>crossed</td>\n      <td>0</td>\n      <td>0.87550956</td>\n      <td>0.49185577</td>\n      <td>0.31652585</td>\n      <td>0.5133963</td>\n      <td>0.30714148</td>\n      <td>0.47095692</td>\n      <td>0.30646333</td>\n      <td>...</td>\n      <td>0.96924734</td>\n      <td>0.9758848</td>\n      <td>0.94416124</td>\n      <td>0.95617276</td>\n      <td>0.99599177</td>\n      <td>0.9963133</td>\n      <td>0.98965853</td>\n      <td>0.99114287</td>\n      <td>0.9602066</td>\n      <td>0.9644962</td>\n    </tr>\n    <tr>\n      <th>6</th>\n      <td>C:\\Users\\joost.vanstreels\\PycharmProjects\\YOLO...</td>\n      <td>crossed</td>\n      <td>0</td>\n      <td>0.8648306</td>\n      <td>0.48233557</td>\n      <td>0.31807482</td>\n      <td>0.510193</td>\n      <td>0.31048098</td>\n      <td>0.47684053</td>\n      <td>0.30656886</td>\n      <td>...</td>\n      <td>0.98561317</td>\n      <td>0.9350228</td>\n      <td>0.9686387</td>\n      <td>0.90607154</td>\n      <td>0.99724895</td>\n      <td>0.99508923</td>\n      <td>0.9924003</td>\n      <td>0.9876245</td>\n      <td>0.9690202</td>\n      <td>0.9588943</td>\n    </tr>\n    <tr>\n      <th>7</th>\n      <td>C:\\Users\\joost.vanstreels\\PycharmProjects\\YOLO...</td>\n      <td>crossed</td>\n      <td>0</td>\n      <td>0.8814552</td>\n      <td>0.50417763</td>\n      <td>0.22319646</td>\n      <td>0.5157892</td>\n      <td>0.21016194</td>\n      <td>0.49011153</td>\n      <td>0.21174245</td>\n      <td>...</td>\n      <td>0.9911572</td>\n      <td>0.8790735</td>\n      <td>0.9802786</td>\n      <td>0.8724287</td>\n      <td>0.99726784</td>\n      <td>0.9924583</td>\n      <td>0.99376595</td>\n      <td>0.9838995</td>\n      <td>0.9703799</td>\n      <td>0.94669944</td>\n    </tr>\n    <tr>\n      <th>8</th>\n      <td>C:\\Users\\joost.vanstreels\\PycharmProjects\\YOLO...</td>\n      <td>crossed</td>\n      <td>0</td>\n      <td>0.91165835</td>\n      <td>0.46562666</td>\n      <td>0.26999044</td>\n      <td>0.4868755</td>\n      <td>0.25394332</td>\n      <td>0.4418233</td>\n      <td>0.25544247</td>\n      <td>...</td>\n      <td>0.972194</td>\n      <td>0.96883583</td>\n      <td>0.9469014</td>\n      <td>0.94804806</td>\n      <td>0.995526</td>\n      <td>0.9953839</td>\n      <td>0.9866274</td>\n      <td>0.9871019</td>\n      <td>0.93734336</td>\n      <td>0.93911827</td>\n    </tr>\n    <tr>\n      <th>9</th>\n      <td>C:\\Users\\joost.vanstreels\\PycharmProjects\\YOLO...</td>\n      <td>crossed</td>\n      <td>0</td>\n      <td>0.8715683</td>\n      <td>0.531241</td>\n      <td>0.3254126</td>\n      <td>0.54951</td>\n      <td>0.31433907</td>\n      <td>0.51257867</td>\n      <td>0.31496546</td>\n      <td>...</td>\n      <td>0.9258564</td>\n      <td>0.9873482</td>\n      <td>0.8962099</td>\n      <td>0.97261953</td>\n      <td>0.99265987</td>\n      <td>0.99625385</td>\n      <td>0.9808888</td>\n      <td>0.9907476</td>\n      <td>0.93541604</td>\n      <td>0.959553</td>\n    </tr>\n    <tr>\n      <th>10</th>\n      <td>C:\\Users\\joost.vanstreels\\PycharmProjects\\YOLO...</td>\n      <td>crossed</td>\n      <td>0</td>\n      <td>0.87495595</td>\n      <td>0.5327971</td>\n      <td>0.32407898</td>\n      <td>0.5508681</td>\n      <td>0.31166592</td>\n      <td>0.51249224</td>\n      <td>0.31367093</td>\n      <td>...</td>\n      <td>0.9536346</td>\n      <td>0.9735763</td>\n      <td>0.92763686</td>\n      <td>0.95362985</td>\n      <td>0.9930835</td>\n      <td>0.99439263</td>\n      <td>0.98124355</td>\n      <td>0.9855655</td>\n      <td>0.93060887</td>\n      <td>0.9416107</td>\n    </tr>\n    <tr>\n      <th>11</th>\n      <td>C:\\Users\\joost.vanstreels\\PycharmProjects\\YOLO...</td>\n      <td>gestures</td>\n      <td>1</td>\n      <td>0.8096671</td>\n      <td>0.45402688</td>\n      <td>0.38596696</td>\n      <td>0.46039745</td>\n      <td>0.35784608</td>\n      <td>0.44460467</td>\n      <td>0.34831992</td>\n      <td>...</td>\n      <td>0.6937497</td>\n      <td>0.8930442</td>\n      <td>0.60175234</td>\n      <td>0.7912095</td>\n      <td>0.64110935</td>\n      <td>0.73029995</td>\n      <td>0.16183005</td>\n      <td>0.23741336</td>\n      <td>0.07693896</td>\n      <td>0.108234584</td>\n    </tr>\n    <tr>\n      <th>12</th>\n      <td>C:\\Users\\joost.vanstreels\\PycharmProjects\\YOLO...</td>\n      <td>gestures</td>\n      <td>1</td>\n      <td>0.9063947</td>\n      <td>0.50438493</td>\n      <td>0.3402255</td>\n      <td>0.52324426</td>\n      <td>0.33196408</td>\n      <td>0.48519522</td>\n      <td>0.33192557</td>\n      <td>...</td>\n      <td>0.9653226</td>\n      <td>0.98984575</td>\n      <td>0.93944323</td>\n      <td>0.9765564</td>\n      <td>0.9974273</td>\n      <td>0.99838746</td>\n      <td>0.99418074</td>\n      <td>0.99649745</td>\n      <td>0.9791763</td>\n      <td>0.98542494</td>\n    </tr>\n    <tr>\n      <th>13</th>\n      <td>C:\\Users\\joost.vanstreels\\PycharmProjects\\YOLO...</td>\n      <td>gestures</td>\n      <td>1</td>\n      <td>0.91564703</td>\n      <td>0.5083811</td>\n      <td>0.3158292</td>\n      <td>0.5315098</td>\n      <td>0.30795053</td>\n      <td>0.48689824</td>\n      <td>0.30651218</td>\n      <td>...</td>\n      <td>0.9680426</td>\n      <td>0.9887622</td>\n      <td>0.9399225</td>\n      <td>0.9735754</td>\n      <td>0.9980805</td>\n      <td>0.9986658</td>\n      <td>0.99413</td>\n      <td>0.9962835</td>\n      <td>0.9749001</td>\n      <td>0.98210365</td>\n    </tr>\n    <tr>\n      <th>14</th>\n      <td>C:\\Users\\joost.vanstreels\\PycharmProjects\\YOLO...</td>\n      <td>gestures</td>\n      <td>1</td>\n      <td>0.9166565</td>\n      <td>0.48540413</td>\n      <td>0.31290415</td>\n      <td>0.50946325</td>\n      <td>0.30491868</td>\n      <td>0.4624723</td>\n      <td>0.3036827</td>\n      <td>...</td>\n      <td>0.96900326</td>\n      <td>0.9894879</td>\n      <td>0.9415109</td>\n      <td>0.9741599</td>\n      <td>0.99830234</td>\n      <td>0.99884605</td>\n      <td>0.994911</td>\n      <td>0.9968106</td>\n      <td>0.9787258</td>\n      <td>0.98494893</td>\n    </tr>\n    <tr>\n      <th>15</th>\n      <td>C:\\Users\\joost.vanstreels\\PycharmProjects\\YOLO...</td>\n      <td>gestures</td>\n      <td>1</td>\n      <td>0.93737036</td>\n      <td>0.48997974</td>\n      <td>0.5275123</td>\n      <td>0.5111915</td>\n      <td>0.51039106</td>\n      <td>0.46604455</td>\n      <td>0.50953895</td>\n      <td>...</td>\n      <td>0.8382891</td>\n      <td>0.9536518</td>\n      <td>0.7357893</td>\n      <td>0.8830253</td>\n      <td>0.6744908</td>\n      <td>0.780021</td>\n      <td>0.08916371</td>\n      <td>0.13129805</td>\n      <td>0.016700318</td>\n      <td>0.022780832</td>\n    </tr>\n    <tr>\n      <th>16</th>\n      <td>C:\\Users\\joost.vanstreels\\PycharmProjects\\YOLO...</td>\n      <td>gestures</td>\n      <td>1</td>\n      <td>0.8755646</td>\n      <td>0.4394587</td>\n      <td>0.26493946</td>\n      <td>0.4637834</td>\n      <td>0.25478238</td>\n      <td>0.43152612</td>\n      <td>0.25307465</td>\n      <td>...</td>\n      <td>0.9858446</td>\n      <td>0.9552238</td>\n      <td>0.96934134</td>\n      <td>0.93033993</td>\n      <td>0.9975521</td>\n      <td>0.99612755</td>\n      <td>0.9924545</td>\n      <td>0.9892216</td>\n      <td>0.964476</td>\n      <td>0.95640975</td>\n    </tr>\n    <tr>\n      <th>17</th>\n      <td>C:\\Users\\joost.vanstreels\\PycharmProjects\\YOLO...</td>\n      <td>gestures</td>\n      <td>1</td>\n      <td>0.8713625</td>\n      <td>0.44302177</td>\n      <td>0.29888332</td>\n      <td>0.45923364</td>\n      <td>0.28678617</td>\n      <td>0.42013276</td>\n      <td>0.28809115</td>\n      <td>...</td>\n      <td>0.9569314</td>\n      <td>0.98253375</td>\n      <td>0.93357027</td>\n      <td>0.9656365</td>\n      <td>0.9944259</td>\n      <td>0.9960068</td>\n      <td>0.9842545</td>\n      <td>0.9892558</td>\n      <td>0.9355377</td>\n      <td>0.95020795</td>\n    </tr>\n    <tr>\n      <th>18</th>\n      <td>C:\\Users\\joost.vanstreels\\PycharmProjects\\YOLO...</td>\n      <td>gestures</td>\n      <td>1</td>\n      <td>0.8853462</td>\n      <td>0.49915957</td>\n      <td>0.17267089</td>\n      <td>0.51800746</td>\n      <td>0.15939355</td>\n      <td>0.47999698</td>\n      <td>0.16044964</td>\n      <td>...</td>\n      <td>0.9762891</td>\n      <td>0.97858685</td>\n      <td>0.9590715</td>\n      <td>0.9628342</td>\n      <td>0.9966684</td>\n      <td>0.99684626</td>\n      <td>0.99148625</td>\n      <td>0.9923872</td>\n      <td>0.9610027</td>\n      <td>0.9648254</td>\n    </tr>\n    <tr>\n      <th>19</th>\n      <td>C:\\Users\\joost.vanstreels\\PycharmProjects\\YOLO...</td>\n      <td>gestures</td>\n      <td>1</td>\n      <td>0.9018596</td>\n      <td>0.4667942</td>\n      <td>0.30932638</td>\n      <td>0.48159277</td>\n      <td>0.2973406</td>\n      <td>0.44750124</td>\n      <td>0.29824746</td>\n      <td>...</td>\n      <td>0.97394437</td>\n      <td>0.9770708</td>\n      <td>0.9549216</td>\n      <td>0.96126646</td>\n      <td>0.9960295</td>\n      <td>0.99612445</td>\n      <td>0.99017674</td>\n      <td>0.9907102</td>\n      <td>0.9581642</td>\n      <td>0.9601828</td>\n    </tr>\n    <tr>\n      <th>20</th>\n      <td>C:\\Users\\joost.vanstreels\\PycharmProjects\\YOLO...</td>\n      <td>gestures</td>\n      <td>1</td>\n      <td>0.89411676</td>\n      <td>0.51130486</td>\n      <td>0.28019395</td>\n      <td>0.5241434</td>\n      <td>0.26743403</td>\n      <td>0.48936218</td>\n      <td>0.270207</td>\n      <td>...</td>\n      <td>0.9314378</td>\n      <td>0.989764</td>\n      <td>0.8964456</td>\n      <td>0.97567284</td>\n      <td>0.99460346</td>\n      <td>0.997332</td>\n      <td>0.984664</td>\n      <td>0.9926373</td>\n      <td>0.9426737</td>\n      <td>0.9639089</td>\n    </tr>\n    <tr>\n      <th>21</th>\n      <td>C:\\Users\\joost.vanstreels\\PycharmProjects\\YOLO...</td>\n      <td>gestures</td>\n      <td>1</td>\n      <td>0.9086476</td>\n      <td>0.5094571</td>\n      <td>0.2797082</td>\n      <td>0.5229983</td>\n      <td>0.26570544</td>\n      <td>0.48682773</td>\n      <td>0.26930717</td>\n      <td>...</td>\n      <td>0.9367987</td>\n      <td>0.98976326</td>\n      <td>0.9112036</td>\n      <td>0.9780175</td>\n      <td>0.9945374</td>\n      <td>0.9972671</td>\n      <td>0.9859254</td>\n      <td>0.99317944</td>\n      <td>0.95046246</td>\n      <td>0.96887064</td>\n    </tr>\n    <tr>\n      <th>22</th>\n      <td>C:\\Users\\joost.vanstreels\\PycharmProjects\\YOLO...</td>\n      <td>back</td>\n      <td>2</td>\n      <td>0.8795877</td>\n      <td>0.62485236</td>\n      <td>0.33306453</td>\n      <td>0.62457764</td>\n      <td>0.3192768</td>\n      <td>0.62953484</td>\n      <td>0.3195215</td>\n      <td>...</td>\n      <td>0.74475265</td>\n      <td>0.8288539</td>\n      <td>0.5447387</td>\n      <td>0.6480374</td>\n      <td>0.9898101</td>\n      <td>0.9914386</td>\n      <td>0.9903504</td>\n      <td>0.99258864</td>\n      <td>0.98167115</td>\n      <td>0.9848995</td>\n    </tr>\n    <tr>\n      <th>23</th>\n      <td>C:\\Users\\joost.vanstreels\\PycharmProjects\\YOLO...</td>\n      <td>back</td>\n      <td>2</td>\n      <td>0.8827701</td>\n      <td>0.54243886</td>\n      <td>0.30441073</td>\n      <td>0.5422347</td>\n      <td>0.29051074</td>\n      <td>0.53026885</td>\n      <td>0.2892229</td>\n      <td>...</td>\n      <td>0.8304496</td>\n      <td>0.922527</td>\n      <td>0.72428423</td>\n      <td>0.8374519</td>\n      <td>0.977727</td>\n      <td>0.98367256</td>\n      <td>0.96977454</td>\n      <td>0.97785586</td>\n      <td>0.92451155</td>\n      <td>0.9391193</td>\n    </tr>\n    <tr>\n      <th>24</th>\n      <td>C:\\Users\\joost.vanstreels\\PycharmProjects\\YOLO...</td>\n      <td>back</td>\n      <td>2</td>\n      <td>0.91195214</td>\n      <td>0.55561244</td>\n      <td>0.12437426</td>\n      <td>0.55900526</td>\n      <td>0.10625489</td>\n      <td>0.5636121</td>\n      <td>0.10463678</td>\n      <td>...</td>\n      <td>0.9152724</td>\n      <td>0.906045</td>\n      <td>0.7891398</td>\n      <td>0.7787863</td>\n      <td>0.9967249</td>\n      <td>0.9966068</td>\n      <td>0.9934509</td>\n      <td>0.99373454</td>\n      <td>0.9710282</td>\n      <td>0.97237056</td>\n    </tr>\n    <tr>\n      <th>25</th>\n      <td>C:\\Users\\joost.vanstreels\\PycharmProjects\\YOLO...</td>\n      <td>back</td>\n      <td>2</td>\n      <td>0.907768</td>\n      <td>0.48766655</td>\n      <td>0.24185172</td>\n      <td>0.48661992</td>\n      <td>0.22960347</td>\n      <td>0.49591827</td>\n      <td>0.22808161</td>\n      <td>...</td>\n      <td>0.8823191</td>\n      <td>0.93022776</td>\n      <td>0.7828544</td>\n      <td>0.84436274</td>\n      <td>0.9861725</td>\n      <td>0.9892364</td>\n      <td>0.9768943</td>\n      <td>0.98237854</td>\n      <td>0.92924875</td>\n      <td>0.9422329</td>\n    </tr>\n    <tr>\n      <th>26</th>\n      <td>C:\\Users\\joost.vanstreels\\PycharmProjects\\YOLO...</td>\n      <td>back</td>\n      <td>2</td>\n      <td>0.84040976</td>\n      <td>0.53353846</td>\n      <td>0.2378264</td>\n      <td>0.5488132</td>\n      <td>0.2251866</td>\n      <td>0.5175768</td>\n      <td>0.22721833</td>\n      <td>...</td>\n      <td>0.90814894</td>\n      <td>0.9728793</td>\n      <td>0.8834997</td>\n      <td>0.9508511</td>\n      <td>0.9853489</td>\n      <td>0.9906012</td>\n      <td>0.96919</td>\n      <td>0.9811178</td>\n      <td>0.900305</td>\n      <td>0.92754626</td>\n    </tr>\n    <tr>\n      <th>27</th>\n      <td>C:\\Users\\joost.vanstreels\\PycharmProjects\\YOLO...</td>\n      <td>back</td>\n      <td>2</td>\n      <td>0.8744596</td>\n      <td>0.5996461</td>\n      <td>0.42253405</td>\n      <td>0.5952306</td>\n      <td>0.41282803</td>\n      <td>0.59529555</td>\n      <td>0.41212538</td>\n      <td>...</td>\n      <td>0.92570263</td>\n      <td>0.95116234</td>\n      <td>0.7431054</td>\n      <td>0.78903896</td>\n      <td>0.99539447</td>\n      <td>0.9963921</td>\n      <td>0.9807437</td>\n      <td>0.98274934</td>\n      <td>0.9416612</td>\n      <td>0.94589025</td>\n    </tr>\n    <tr>\n      <th>28</th>\n      <td>C:\\Users\\joost.vanstreels\\PycharmProjects\\YOLO...</td>\n      <td>back</td>\n      <td>2</td>\n      <td>0.87098587</td>\n      <td>0.37975487</td>\n      <td>0.38410667</td>\n      <td>0.38269264</td>\n      <td>0.37427357</td>\n      <td>0.3695905</td>\n      <td>0.37345034</td>\n      <td>...</td>\n      <td>0.9198283</td>\n      <td>0.94478565</td>\n      <td>0.8634008</td>\n      <td>0.8899954</td>\n      <td>0.99339056</td>\n      <td>0.99454004</td>\n      <td>0.98378676</td>\n      <td>0.9855655</td>\n      <td>0.9496116</td>\n      <td>0.9536124</td>\n    </tr>\n    <tr>\n      <th>29</th>\n      <td>C:\\Users\\joost.vanstreels\\PycharmProjects\\YOLO...</td>\n      <td>pockets</td>\n      <td>3</td>\n      <td>0.89995044</td>\n      <td>0.54143155</td>\n      <td>0.34345463</td>\n      <td>0.5596392</td>\n      <td>0.33340862</td>\n      <td>0.5220538</td>\n      <td>0.33305746</td>\n      <td>...</td>\n      <td>0.96850765</td>\n      <td>0.9840581</td>\n      <td>0.95062995</td>\n      <td>0.96748793</td>\n      <td>0.99738353</td>\n      <td>0.99817824</td>\n      <td>0.99256426</td>\n      <td>0.993828</td>\n      <td>0.9733804</td>\n      <td>0.97664684</td>\n    </tr>\n    <tr>\n      <th>30</th>\n      <td>C:\\Users\\joost.vanstreels\\PycharmProjects\\YOLO...</td>\n      <td>pockets</td>\n      <td>3</td>\n      <td>0.90279716</td>\n      <td>0.5292811</td>\n      <td>0.340206</td>\n      <td>0.54705554</td>\n      <td>0.31282866</td>\n      <td>0.5095703</td>\n      <td>0.31687346</td>\n      <td>...</td>\n      <td>0.9270308</td>\n      <td>0.8724999</td>\n      <td>0.8361303</td>\n      <td>0.77293366</td>\n      <td>0.79403394</td>\n      <td>0.7596537</td>\n      <td>0.15400346</td>\n      <td>0.12394235</td>\n      <td>0.028692616</td>\n      <td>0.024158224</td>\n    </tr>\n    <tr>\n      <th>31</th>\n      <td>C:\\Users\\joost.vanstreels\\PycharmProjects\\YOLO...</td>\n      <td>pockets</td>\n      <td>3</td>\n      <td>0.9040642</td>\n      <td>0.50945586</td>\n      <td>0.12630264</td>\n      <td>0.53204316</td>\n      <td>0.109742716</td>\n      <td>0.4821574</td>\n      <td>0.112120226</td>\n      <td>...</td>\n      <td>0.9659344</td>\n      <td>0.99183935</td>\n      <td>0.94900227</td>\n      <td>0.98271865</td>\n      <td>0.99865663</td>\n      <td>0.9992124</td>\n      <td>0.9968364</td>\n      <td>0.9982565</td>\n      <td>0.9838644</td>\n      <td>0.98924595</td>\n    </tr>\n    <tr>\n      <th>32</th>\n      <td>C:\\Users\\joost.vanstreels\\PycharmProjects\\YOLO...</td>\n      <td>pockets</td>\n      <td>3</td>\n      <td>0.9014769</td>\n      <td>0.4618089</td>\n      <td>0.18501061</td>\n      <td>0.50095797</td>\n      <td>0.15511318</td>\n      <td>0.41993946</td>\n      <td>0.15744643</td>\n      <td>...</td>\n      <td>0.9686734</td>\n      <td>0.81006783</td>\n      <td>0.9086573</td>\n      <td>0.71306366</td>\n      <td>0.93783355</td>\n      <td>0.88297737</td>\n      <td>0.36337104</td>\n      <td>0.2236834</td>\n      <td>0.048023243</td>\n      <td>0.03136759</td>\n    </tr>\n    <tr>\n      <th>33</th>\n      <td>C:\\Users\\joost.vanstreels\\PycharmProjects\\YOLO...</td>\n      <td>pockets</td>\n      <td>3</td>\n      <td>0.9008374</td>\n      <td>0.5383748</td>\n      <td>0.122221306</td>\n      <td>0.56205654</td>\n      <td>0.105199076</td>\n      <td>0.50846773</td>\n      <td>0.10842033</td>\n      <td>...</td>\n      <td>0.8875232</td>\n      <td>0.9920169</td>\n      <td>0.863296</td>\n      <td>0.98108417</td>\n      <td>0.9958715</td>\n      <td>0.998524</td>\n      <td>0.99179286</td>\n      <td>0.9971836</td>\n      <td>0.9709346</td>\n      <td>0.985313</td>\n    </tr>\n    <tr>\n      <th>34</th>\n      <td>C:\\Users\\joost.vanstreels\\PycharmProjects\\YOLO...</td>\n      <td>pockets</td>\n      <td>3</td>\n      <td>0.92541474</td>\n      <td>0.40559477</td>\n      <td>0.2855973</td>\n      <td>0.42278183</td>\n      <td>0.27267927</td>\n      <td>0.3821239</td>\n      <td>0.27397537</td>\n      <td>...</td>\n      <td>0.93567425</td>\n      <td>0.98813474</td>\n      <td>0.9210411</td>\n      <td>0.9778025</td>\n      <td>0.9917842</td>\n      <td>0.99572515</td>\n      <td>0.97637695</td>\n      <td>0.9881941</td>\n      <td>0.9118402</td>\n      <td>0.9433224</td>\n    </tr>\n    <tr>\n      <th>35</th>\n      <td>C:\\Users\\joost.vanstreels\\PycharmProjects\\YOLO...</td>\n      <td>pockets</td>\n      <td>3</td>\n      <td>0.8825847</td>\n      <td>0.61933684</td>\n      <td>0.46298066</td>\n      <td>0.6316884</td>\n      <td>0.45386767</td>\n      <td>0.60717446</td>\n      <td>0.45381308</td>\n      <td>...</td>\n      <td>0.96796393</td>\n      <td>0.96407694</td>\n      <td>0.9491145</td>\n      <td>0.9389322</td>\n      <td>0.9949647</td>\n      <td>0.99540246</td>\n      <td>0.98732823</td>\n      <td>0.9862916</td>\n      <td>0.96482277</td>\n      <td>0.96261466</td>\n    </tr>\n    <tr>\n      <th>36</th>\n      <td>C:\\Users\\joost.vanstreels\\PycharmProjects\\YOLO...</td>\n      <td>pockets</td>\n      <td>3</td>\n      <td>0.8579937</td>\n      <td>0.6181189</td>\n      <td>0.46400458</td>\n      <td>0.6310254</td>\n      <td>0.45476216</td>\n      <td>0.6059142</td>\n      <td>0.45479685</td>\n      <td>...</td>\n      <td>0.9597468</td>\n      <td>0.96647334</td>\n      <td>0.93719673</td>\n      <td>0.9397798</td>\n      <td>0.99330574</td>\n      <td>0.9944401</td>\n      <td>0.9804565</td>\n      <td>0.98119617</td>\n      <td>0.94382465</td>\n      <td>0.9453357</td>\n    </tr>\n    <tr>\n      <th>37</th>\n      <td>C:\\Users\\joost.vanstreels\\PycharmProjects\\YOLO...</td>\n      <td>face</td>\n      <td>4</td>\n      <td>0.87647325</td>\n      <td>0.39839193</td>\n      <td>0.36005232</td>\n      <td>0.41661298</td>\n      <td>0.3502058</td>\n      <td>0.37813863</td>\n      <td>0.35195294</td>\n      <td>...</td>\n      <td>0.97165257</td>\n      <td>0.98162764</td>\n      <td>0.94920254</td>\n      <td>0.9639376</td>\n      <td>0.9979359</td>\n      <td>0.998176</td>\n      <td>0.99594754</td>\n      <td>0.99669516</td>\n      <td>0.9864288</td>\n      <td>0.98840183</td>\n    </tr>\n    <tr>\n      <th>38</th>\n      <td>C:\\Users\\joost.vanstreels\\PycharmProjects\\YOLO...</td>\n      <td>face</td>\n      <td>4</td>\n      <td>0.86679447</td>\n      <td>0.47361678</td>\n      <td>0.28852853</td>\n      <td>0.49328917</td>\n      <td>0.27561137</td>\n      <td>0.45482057</td>\n      <td>0.27662954</td>\n      <td>...</td>\n      <td>0.9704405</td>\n      <td>0.9082866</td>\n      <td>0.94124556</td>\n      <td>0.8721069</td>\n      <td>0.99146515</td>\n      <td>0.98648643</td>\n      <td>0.9791805</td>\n      <td>0.96907324</td>\n      <td>0.9181828</td>\n      <td>0.8972606</td>\n    </tr>\n    <tr>\n      <th>39</th>\n      <td>C:\\Users\\joost.vanstreels\\PycharmProjects\\YOLO...</td>\n      <td>face</td>\n      <td>4</td>\n      <td>0.9227612</td>\n      <td>0.48842248</td>\n      <td>0.31412905</td>\n      <td>0.51237136</td>\n      <td>0.3055233</td>\n      <td>0.46873263</td>\n      <td>0.30427375</td>\n      <td>...</td>\n      <td>0.9584178</td>\n      <td>0.9882172</td>\n      <td>0.9398575</td>\n      <td>0.9771762</td>\n      <td>0.99587053</td>\n      <td>0.9975153</td>\n      <td>0.9900838</td>\n      <td>0.99426526</td>\n      <td>0.9659463</td>\n      <td>0.97649515</td>\n    </tr>\n    <tr>\n      <th>40</th>\n      <td>C:\\Users\\joost.vanstreels\\PycharmProjects\\YOLO...</td>\n      <td>face</td>\n      <td>4</td>\n      <td>0.8842163</td>\n      <td>0.60176843</td>\n      <td>0.44427368</td>\n      <td>0.61849916</td>\n      <td>0.43460217</td>\n      <td>0.5892551</td>\n      <td>0.43670088</td>\n      <td>...</td>\n      <td>0.98679906</td>\n      <td>0.9498487</td>\n      <td>0.9690606</td>\n      <td>0.9264875</td>\n      <td>0.99712235</td>\n      <td>0.9950022</td>\n      <td>0.99108815</td>\n      <td>0.98599446</td>\n      <td>0.9607662</td>\n      <td>0.94921803</td>\n    </tr>\n    <tr>\n      <th>41</th>\n      <td>C:\\Users\\joost.vanstreels\\PycharmProjects\\YOLO...</td>\n      <td>face</td>\n      <td>4</td>\n      <td>0.8503585</td>\n      <td>0.43597117</td>\n      <td>0.31893367</td>\n      <td>0.45556638</td>\n      <td>0.3043112</td>\n      <td>0.4157421</td>\n      <td>0.3085202</td>\n      <td>...</td>\n      <td>0.97964466</td>\n      <td>0.9413628</td>\n      <td>0.9590012</td>\n      <td>0.91471153</td>\n      <td>0.991113</td>\n      <td>0.986167</td>\n      <td>0.95321536</td>\n      <td>0.9323948</td>\n      <td>0.7613354</td>\n      <td>0.7147068</td>\n    </tr>\n    <tr>\n      <th>42</th>\n      <td>C:\\Users\\joost.vanstreels\\PycharmProjects\\YOLO...</td>\n      <td>face</td>\n      <td>4</td>\n      <td>0.9063621</td>\n      <td>0.46841517</td>\n      <td>0.33365571</td>\n      <td>0.49152043</td>\n      <td>0.3219489</td>\n      <td>0.4529216</td>\n      <td>0.32253718</td>\n      <td>...</td>\n      <td>0.98023784</td>\n      <td>0.95952326</td>\n      <td>0.9636727</td>\n      <td>0.9374193</td>\n      <td>0.9938251</td>\n      <td>0.9918358</td>\n      <td>0.97961867</td>\n      <td>0.97449386</td>\n      <td>0.91374546</td>\n      <td>0.90336806</td>\n    </tr>\n    <tr>\n      <th>43</th>\n      <td>C:\\Users\\joost.vanstreels\\PycharmProjects\\YOLO...</td>\n      <td>face</td>\n      <td>4</td>\n      <td>0.8902847</td>\n      <td>0.4319459</td>\n      <td>0.41082305</td>\n      <td>0.44959965</td>\n      <td>0.39758974</td>\n      <td>0.415408</td>\n      <td>0.40121567</td>\n      <td>...</td>\n      <td>0.9846087</td>\n      <td>0.97255594</td>\n      <td>0.96732205</td>\n      <td>0.9512401</td>\n      <td>0.9980368</td>\n      <td>0.99745136</td>\n      <td>0.99495137</td>\n      <td>0.99397427</td>\n      <td>0.9794185</td>\n      <td>0.9776938</td>\n    </tr>\n    <tr>\n      <th>44</th>\n      <td>C:\\Users\\joost.vanstreels\\PycharmProjects\\YOLO...</td>\n      <td>face</td>\n      <td>4</td>\n      <td>0.8653568</td>\n      <td>0.48447293</td>\n      <td>0.27831808</td>\n      <td>0.5026064</td>\n      <td>0.2660626</td>\n      <td>0.46196613</td>\n      <td>0.2690894</td>\n      <td>...</td>\n      <td>0.9690207</td>\n      <td>0.9671313</td>\n      <td>0.94025654</td>\n      <td>0.94234574</td>\n      <td>0.99200433</td>\n      <td>0.9915603</td>\n      <td>0.9592246</td>\n      <td>0.9589145</td>\n      <td>0.7916806</td>\n      <td>0.79126555</td>\n    </tr>\n    <tr>\n      <th>45</th>\n      <td>C:\\Users\\joost.vanstreels\\PycharmProjects\\YOLO...</td>\n      <td>bodyweight</td>\n      <td>5</td>\n      <td>0.9164994</td>\n      <td>0.35516796</td>\n      <td>0.27761212</td>\n      <td>0.36922532</td>\n      <td>0.26411366</td>\n      <td>0.3332711</td>\n      <td>0.2677506</td>\n      <td>...</td>\n      <td>0.97244</td>\n      <td>0.9854137</td>\n      <td>0.9517885</td>\n      <td>0.97190577</td>\n      <td>0.99741936</td>\n      <td>0.997968</td>\n      <td>0.99254674</td>\n      <td>0.99461126</td>\n      <td>0.9711702</td>\n      <td>0.9774559</td>\n    </tr>\n    <tr>\n      <th>46</th>\n      <td>C:\\Users\\joost.vanstreels\\PycharmProjects\\YOLO...</td>\n      <td>bodyweight</td>\n      <td>5</td>\n      <td>0.9095227</td>\n      <td>0.40543237</td>\n      <td>0.31795186</td>\n      <td>0.4283869</td>\n      <td>0.30816814</td>\n      <td>0.3846333</td>\n      <td>0.3096971</td>\n      <td>...</td>\n      <td>0.9695505</td>\n      <td>0.98872584</td>\n      <td>0.9488019</td>\n      <td>0.9756221</td>\n      <td>0.9979305</td>\n      <td>0.998575</td>\n      <td>0.9950795</td>\n      <td>0.99680245</td>\n      <td>0.982612</td>\n      <td>0.98717123</td>\n    </tr>\n    <tr>\n      <th>47</th>\n      <td>C:\\Users\\joost.vanstreels\\PycharmProjects\\YOLO...</td>\n      <td>bodyweight</td>\n      <td>5</td>\n      <td>0.9089967</td>\n      <td>0.40639997</td>\n      <td>0.31735507</td>\n      <td>0.42999682</td>\n      <td>0.30801257</td>\n      <td>0.38619927</td>\n      <td>0.3085526</td>\n      <td>...</td>\n      <td>0.97307914</td>\n      <td>0.9882002</td>\n      <td>0.9531696</td>\n      <td>0.9747703</td>\n      <td>0.9981667</td>\n      <td>0.9986481</td>\n      <td>0.9957736</td>\n      <td>0.9970541</td>\n      <td>0.9850044</td>\n      <td>0.9884709</td>\n    </tr>\n    <tr>\n      <th>48</th>\n      <td>C:\\Users\\joost.vanstreels\\PycharmProjects\\YOLO...</td>\n      <td>bodyweight</td>\n      <td>5</td>\n      <td>0.8457045</td>\n      <td>0.67799497</td>\n      <td>0.4517281</td>\n      <td>0.69486105</td>\n      <td>0.44384298</td>\n      <td>0.6675311</td>\n      <td>0.44235337</td>\n      <td>...</td>\n      <td>0.9757189</td>\n      <td>0.9511971</td>\n      <td>0.94898736</td>\n      <td>0.91583717</td>\n      <td>0.99206793</td>\n      <td>0.9895761</td>\n      <td>0.97214407</td>\n      <td>0.96425235</td>\n      <td>0.8991615</td>\n      <td>0.8842756</td>\n    </tr>\n    <tr>\n      <th>49</th>\n      <td>C:\\Users\\joost.vanstreels\\PycharmProjects\\YOLO...</td>\n      <td>bodyweight</td>\n      <td>5</td>\n      <td>0.89565146</td>\n      <td>0.58764195</td>\n      <td>0.34953994</td>\n      <td>0.61155915</td>\n      <td>0.33856124</td>\n      <td>0.5751837</td>\n      <td>0.33432013</td>\n      <td>...</td>\n      <td>0.96754074</td>\n      <td>0.94695795</td>\n      <td>0.9505617</td>\n      <td>0.92469424</td>\n      <td>0.9852255</td>\n      <td>0.9820811</td>\n      <td>0.9479717</td>\n      <td>0.9380773</td>\n      <td>0.7985427</td>\n      <td>0.7851174</td>\n    </tr>\n    <tr>\n      <th>50</th>\n      <td>C:\\Users\\joost.vanstreels\\PycharmProjects\\YOLO...</td>\n      <td>bodyweight</td>\n      <td>5</td>\n      <td>0.8955535</td>\n      <td>0.5928476</td>\n      <td>0.41008416</td>\n      <td>0.61555433</td>\n      <td>0.4001336</td>\n      <td>0.5790162</td>\n      <td>0.39753744</td>\n      <td>...</td>\n      <td>0.97863287</td>\n      <td>0.973464</td>\n      <td>0.96163064</td>\n      <td>0.9537257</td>\n      <td>0.996229</td>\n      <td>0.995909</td>\n      <td>0.9885351</td>\n      <td>0.9878456</td>\n      <td>0.9523078</td>\n      <td>0.9517955</td>\n    </tr>\n  </tbody>\n</table>\n<p>51 rows × 55 columns</p>\n</div>"
     },
     "execution_count": 37,
     "metadata": {},
     "output_type": "execute_result"
    }
   ],
   "source": [
    "# Dataframe maken met alle gegevens uit het array\n",
    "colnames = ['path', 'pose', 'pose_code', 'confidence', 'x00', 'y00', 'x01', 'y01', 'x02', 'y02','x03', 'y03','x04', 'y04','x05', 'y05','x06', 'y06','x07', 'y07','x08', 'y08','x09', 'y09','x10', 'y10','x11', 'y11','x12', 'y12','x13', 'y13','x14', 'y14','x15', 'y15','x16', 'y16', 'v00', 'v01', 'v02', 'v03', 'v04', 'v05', 'v06', 'v07', 'v08', 'v09', 'v10', 'v11    keypoints_train_df.boxplot(column=y_coordinates_cols[i], by='pose_code')\n",
    "    plt.title('Boxplot for: ' + y_coordinates_dict[y_coordinates_cols[i]] + ' / ' + y_coordinates_cols[i])\n",
    "    plt.show()', 'v12', 'v13', 'v14', 'v15', 'v16']\n",
    "\n",
    "analytics_df = pd.DataFrame(data = analytics_data, columns=colnames)\n",
    "analytics_df"
   ],
   "metadata": {
    "collapsed": false
   }
  },
  {
   "cell_type": "markdown",
   "source": [
    "#### Stap 3. DataFrame exporteren naar CSV"
   ],
   "metadata": {
    "collapsed": false
   }
  },
  {
   "cell_type": "code",
   "execution_count": 38,
   "outputs": [],
   "source": [
    "# Keuze maken voor model en train/test\n",
    "\n",
    "#analytics_df.to_csv('analytics_df_train_YOLOv8m.csv')\n",
    "#analytics_df.to_csv('analytics_df_train_YOLOv8n.csv')\n",
    "#analytics_df.to_csv('analytics_df_test_YOLOv8m.csv')\n",
    "analytics_df.to_csv('analytics_df_test_YOLOv8n.csv')"
   ],
   "metadata": {
    "collapsed": false
   }
  },
  {
   "cell_type": "code",
   "execution_count": null,
   "outputs": [],
   "source": [
    "### TO DO: EERSTE RIJ WEGLATEN"
   ],
   "metadata": {
    "collapsed": false
   }
  }
 ],
 "metadata": {
  "kernelspec": {
   "display_name": "Python 3",
   "language": "python",
   "name": "python3"
  },
  "language_info": {
   "codemirror_mode": {
    "name": "ipython",
    "version": 2
   },
   "file_extension": ".py",
   "mimetype": "text/x-python",
   "name": "python",
   "nbconvert_exporter": "python",
   "pygments_lexer": "ipython2",
   "version": "2.7.6"
  }
 },
 "nbformat": 4,
 "nbformat_minor": 0
}
