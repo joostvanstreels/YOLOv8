{
 "cells": [
  {
   "cell_type": "markdown",
   "source": [
    "### 04 - kNN classification\n",
    "De dataset met alle keypoints en aanvullende informatie zal gebruikt worden om een kNN classificatiemodel te trainen."
   ],
   "metadata": {
    "collapsed": false
   }
  },
  {
   "cell_type": "code",
   "execution_count": 1,
   "outputs": [],
   "source": [
    "from sklearn.neighbors import KNeighborsClassifier\n",
    "from sklearn.metrics import accuracy_score, confusion_matrix\n",
    "import pandas as pd\n",
    "import pickle"
   ],
   "metadata": {
    "collapsed": false
   }
  },
  {
   "cell_type": "markdown",
   "source": [
    "#### Stap 1. Data splitsen voor upper en lower model"
   ],
   "metadata": {
    "collapsed": false
   }
  },
  {
   "cell_type": "code",
   "execution_count": 28,
   "outputs": [],
   "source": [
    "# Keuze voor model maken\n",
    "\n",
    "train_df = pd.read_csv('keypoints_train_df_YOLOv8m.csv', index_col=0)\n",
    "test_df = pd.read_csv('keypoints_test_df_YOLOv8m.csv', index_col=0)\n",
    "\n",
    "#train_df = pd.read_csv('keypoints_train_df_YOLOv8n.csv', index_col=0)\n",
    "#test_df = pd.read_csv('keypoints_test_df_YOLOv8n.csv', index_col=0)"
   ],
   "metadata": {
    "collapsed": false
   }
  },
  {
   "cell_type": "code",
   "execution_count": 29,
   "outputs": [
    {
     "data": {
      "text/plain": "                                                path     pose  pose_code  \\\n0  C:\\Users\\joost.vanstreels\\PycharmProjects\\YOLO...  chin_up          0   \n1  C:\\Users\\joost.vanstreels\\PycharmProjects\\YOLO...  chin_up          0   \n2  C:\\Users\\joost.vanstreels\\PycharmProjects\\YOLO...  chin_up          0   \n3  C:\\Users\\joost.vanstreels\\PycharmProjects\\YOLO...  chin_up          0   \n4  C:\\Users\\joost.vanstreels\\PycharmProjects\\YOLO...  chin_up          0   \n\n   confidence    x_nose    y_nose  x_left_eye  y_left_eye  x_right_eye  \\\n0    0.921941 -0.060636 -0.820229    0.019600   -0.889785    -0.142743   \n1    0.922079 -0.298304 -0.801438   -0.214676   -0.869041    -0.335108   \n2    0.926764  0.381869 -0.805390    0.398161   -0.860116     0.312483   \n3    0.925108  0.012743 -0.615652    0.069975   -0.689205    -0.076766   \n4    0.919342 -0.063397 -0.749864    0.024433   -0.822238    -0.152194   \n\n   y_right_eye  ...  scale_factor         A         B         C         D  \\\n0    -0.885432  ...      6.698616  1.112023  1.113709  0.535651  0.276718   \n1    -0.866289  ...      6.631249  1.055317  1.056769  0.516058  0.270212   \n2    -0.868173  ...      6.670558  1.112931  1.112932  0.512416  0.281943   \n3    -0.678715  ...      6.523933  1.072322  1.072494  0.515049  0.266445   \n4    -0.813908  ...      7.108537  1.365106  1.368935  0.545328  0.464428   \n\n          E         F         G         H         I  \n0  0.303405  1.481170  1.376864  0.579270  0.004591  \n1  0.271870  1.559977  1.290606  0.542095  0.000638  \n2  0.318607  1.319247  1.590114  0.499352  0.006372  \n3  0.291626  1.240675  1.232930  0.492704  0.009406  \n4  0.375341  1.490373  1.483889  0.537466  0.018202  \n\n[5 rows x 71 columns]",
      "text/html": "<div>\n<style scoped>\n    .dataframe tbody tr th:only-of-type {\n        vertical-align: middle;\n    }\n\n    .dataframe tbody tr th {\n        vertical-align: top;\n    }\n\n    .dataframe thead th {\n        text-align: right;\n    }\n</style>\n<table border=\"1\" class=\"dataframe\">\n  <thead>\n    <tr style=\"text-align: right;\">\n      <th></th>\n      <th>path</th>\n      <th>pose</th>\n      <th>pose_code</th>\n      <th>confidence</th>\n      <th>x_nose</th>\n      <th>y_nose</th>\n      <th>x_left_eye</th>\n      <th>y_left_eye</th>\n      <th>x_right_eye</th>\n      <th>y_right_eye</th>\n      <th>...</th>\n      <th>scale_factor</th>\n      <th>A</th>\n      <th>B</th>\n      <th>C</th>\n      <th>D</th>\n      <th>E</th>\n      <th>F</th>\n      <th>G</th>\n      <th>H</th>\n      <th>I</th>\n    </tr>\n  </thead>\n  <tbody>\n    <tr>\n      <th>0</th>\n      <td>C:\\Users\\joost.vanstreels\\PycharmProjects\\YOLO...</td>\n      <td>chin_up</td>\n      <td>0</td>\n      <td>0.921941</td>\n      <td>-0.060636</td>\n      <td>-0.820229</td>\n      <td>0.019600</td>\n      <td>-0.889785</td>\n      <td>-0.142743</td>\n      <td>-0.885432</td>\n      <td>...</td>\n      <td>6.698616</td>\n      <td>1.112023</td>\n      <td>1.113709</td>\n      <td>0.535651</td>\n      <td>0.276718</td>\n      <td>0.303405</td>\n      <td>1.481170</td>\n      <td>1.376864</td>\n      <td>0.579270</td>\n      <td>0.004591</td>\n    </tr>\n    <tr>\n      <th>1</th>\n      <td>C:\\Users\\joost.vanstreels\\PycharmProjects\\YOLO...</td>\n      <td>chin_up</td>\n      <td>0</td>\n      <td>0.922079</td>\n      <td>-0.298304</td>\n      <td>-0.801438</td>\n      <td>-0.214676</td>\n      <td>-0.869041</td>\n      <td>-0.335108</td>\n      <td>-0.866289</td>\n      <td>...</td>\n      <td>6.631249</td>\n      <td>1.055317</td>\n      <td>1.056769</td>\n      <td>0.516058</td>\n      <td>0.270212</td>\n      <td>0.271870</td>\n      <td>1.559977</td>\n      <td>1.290606</td>\n      <td>0.542095</td>\n      <td>0.000638</td>\n    </tr>\n    <tr>\n      <th>2</th>\n      <td>C:\\Users\\joost.vanstreels\\PycharmProjects\\YOLO...</td>\n      <td>chin_up</td>\n      <td>0</td>\n      <td>0.926764</td>\n      <td>0.381869</td>\n      <td>-0.805390</td>\n      <td>0.398161</td>\n      <td>-0.860116</td>\n      <td>0.312483</td>\n      <td>-0.868173</td>\n      <td>...</td>\n      <td>6.670558</td>\n      <td>1.112931</td>\n      <td>1.112932</td>\n      <td>0.512416</td>\n      <td>0.281943</td>\n      <td>0.318607</td>\n      <td>1.319247</td>\n      <td>1.590114</td>\n      <td>0.499352</td>\n      <td>0.006372</td>\n    </tr>\n    <tr>\n      <th>3</th>\n      <td>C:\\Users\\joost.vanstreels\\PycharmProjects\\YOLO...</td>\n      <td>chin_up</td>\n      <td>0</td>\n      <td>0.925108</td>\n      <td>0.012743</td>\n      <td>-0.615652</td>\n      <td>0.069975</td>\n      <td>-0.689205</td>\n      <td>-0.076766</td>\n      <td>-0.678715</td>\n      <td>...</td>\n      <td>6.523933</td>\n      <td>1.072322</td>\n      <td>1.072494</td>\n      <td>0.515049</td>\n      <td>0.266445</td>\n      <td>0.291626</td>\n      <td>1.240675</td>\n      <td>1.232930</td>\n      <td>0.492704</td>\n      <td>0.009406</td>\n    </tr>\n    <tr>\n      <th>4</th>\n      <td>C:\\Users\\joost.vanstreels\\PycharmProjects\\YOLO...</td>\n      <td>chin_up</td>\n      <td>0</td>\n      <td>0.919342</td>\n      <td>-0.063397</td>\n      <td>-0.749864</td>\n      <td>0.024433</td>\n      <td>-0.822238</td>\n      <td>-0.152194</td>\n      <td>-0.813908</td>\n      <td>...</td>\n      <td>7.108537</td>\n      <td>1.365106</td>\n      <td>1.368935</td>\n      <td>0.545328</td>\n      <td>0.464428</td>\n      <td>0.375341</td>\n      <td>1.490373</td>\n      <td>1.483889</td>\n      <td>0.537466</td>\n      <td>0.018202</td>\n    </tr>\n  </tbody>\n</table>\n<p>5 rows × 71 columns</p>\n</div>"
     },
     "execution_count": 29,
     "metadata": {},
     "output_type": "execute_result"
    }
   ],
   "source": [
    "train_df.head()"
   ],
   "metadata": {
    "collapsed": false
   }
  },
  {
   "cell_type": "code",
   "execution_count": 57,
   "outputs": [],
   "source": [
    "train_upper_df = train_df[train_df['pose_code'] < 8]\n",
    "test_upper_df = test_df[test_df['pose_code'] < 8]"
   ],
   "metadata": {
    "collapsed": false
   }
  },
  {
   "cell_type": "code",
   "execution_count": 58,
   "outputs": [],
   "source": [
    "train_lower_df = train_df[train_df['pose_code'] >= 8]\n",
    "test_lower_df = test_df[test_df['pose_code'] >= 8]"
   ],
   "metadata": {
    "collapsed": false
   }
  },
  {
   "cell_type": "markdown",
   "source": [
    "#### Stap 2. Train- en testdata genereren"
   ],
   "metadata": {
    "collapsed": false
   }
  },
  {
   "cell_type": "code",
   "execution_count": 59,
   "outputs": [],
   "source": [
    "# Features die o.b.v. de boxplot analyse interessant lijken worden gekozen\n",
    "features_upper = ['x_left_shoulder','x_right_shoulder','x_left_elbow', 'x_right_elbow','x_left_wrist', 'x_right_wrist','x_left_hip','x_right_hip','y_nose','y_left_eye','y_right_eye','y_left_shoulder','y_right_shoulder','y_left_elbow','y_right_elbow','y_left_wrist','y_right_wrist','y_left_hip','y_right_hip','c_nose','c_left_eye','c_right_eye','c_left_wrist','c_right_wrist', 'A', 'B', 'C', 'D', 'E', 'F', 'G']\n",
    "\n",
    "X_train_upper = train_upper_df[features_upper]\n",
    "y_train_upper = train_upper_df['pose_code']\n",
    "X_test_upper = test_upper_df[features_upper]\n",
    "y_test_upper = test_upper_df['pose_code']"
   ],
   "metadata": {
    "collapsed": false
   }
  },
  {
   "cell_type": "code",
   "execution_count": 60,
   "outputs": [],
   "source": [
    "# Features die o.b.v. de boxplot analyse interessant lijken worden gekozen\n",
    "features_lower = ['x_left_hip','x_right_hip','x_left_knee','x_right_knee','x_left_ankle','x_right_ankle','y_left_hip','y_right_hip','y_left_knee','y_right_knee','y_left_ankle','y_right_ankle', 'H', 'I']\n",
    "\n",
    "X_train_lower = train_lower_df[features_lower]\n",
    "y_train_lower = train_lower_df['pose_code']\n",
    "X_test_lower = test_lower_df[features_lower]\n",
    "y_test_lower = test_lower_df['pose_code']"
   ],
   "metadata": {
    "collapsed": false
   }
  },
  {
   "cell_type": "markdown",
   "source": [
    "#### Stap 3. Modellen trainen\n",
    "\n",
    "TO DO: GridSearchCV, spelen met features, kijken welk model het beter doet\n",
    "TO DO: o.b.v. eigen logica"
   ],
   "metadata": {
    "collapsed": false
   }
  },
  {
   "cell_type": "code",
   "execution_count": 90,
   "outputs": [
    {
     "data": {
      "text/plain": "KNeighborsClassifier(weights='distance')",
      "text/html": "<style>#sk-container-id-14 {color: black;}#sk-container-id-14 pre{padding: 0;}#sk-container-id-14 div.sk-toggleable {background-color: white;}#sk-container-id-14 label.sk-toggleable__label {cursor: pointer;display: block;width: 100%;margin-bottom: 0;padding: 0.3em;box-sizing: border-box;text-align: center;}#sk-container-id-14 label.sk-toggleable__label-arrow:before {content: \"▸\";float: left;margin-right: 0.25em;color: #696969;}#sk-container-id-14 label.sk-toggleable__label-arrow:hover:before {color: black;}#sk-container-id-14 div.sk-estimator:hover label.sk-toggleable__label-arrow:before {color: black;}#sk-container-id-14 div.sk-toggleable__content {max-height: 0;max-width: 0;overflow: hidden;text-align: left;background-color: #f0f8ff;}#sk-container-id-14 div.sk-toggleable__content pre {margin: 0.2em;color: black;border-radius: 0.25em;background-color: #f0f8ff;}#sk-container-id-14 input.sk-toggleable__control:checked~div.sk-toggleable__content {max-height: 200px;max-width: 100%;overflow: auto;}#sk-container-id-14 input.sk-toggleable__control:checked~label.sk-toggleable__label-arrow:before {content: \"▾\";}#sk-container-id-14 div.sk-estimator input.sk-toggleable__control:checked~label.sk-toggleable__label {background-color: #d4ebff;}#sk-container-id-14 div.sk-label input.sk-toggleable__control:checked~label.sk-toggleable__label {background-color: #d4ebff;}#sk-container-id-14 input.sk-hidden--visually {border: 0;clip: rect(1px 1px 1px 1px);clip: rect(1px, 1px, 1px, 1px);height: 1px;margin: -1px;overflow: hidden;padding: 0;position: absolute;width: 1px;}#sk-container-id-14 div.sk-estimator {font-family: monospace;background-color: #f0f8ff;border: 1px dotted black;border-radius: 0.25em;box-sizing: border-box;margin-bottom: 0.5em;}#sk-container-id-14 div.sk-estimator:hover {background-color: #d4ebff;}#sk-container-id-14 div.sk-parallel-item::after {content: \"\";width: 100%;border-bottom: 1px solid gray;flex-grow: 1;}#sk-container-id-14 div.sk-label:hover label.sk-toggleable__label {background-color: #d4ebff;}#sk-container-id-14 div.sk-serial::before {content: \"\";position: absolute;border-left: 1px solid gray;box-sizing: border-box;top: 0;bottom: 0;left: 50%;z-index: 0;}#sk-container-id-14 div.sk-serial {display: flex;flex-direction: column;align-items: center;background-color: white;padding-right: 0.2em;padding-left: 0.2em;position: relative;}#sk-container-id-14 div.sk-item {position: relative;z-index: 1;}#sk-container-id-14 div.sk-parallel {display: flex;align-items: stretch;justify-content: center;background-color: white;position: relative;}#sk-container-id-14 div.sk-item::before, #sk-container-id-14 div.sk-parallel-item::before {content: \"\";position: absolute;border-left: 1px solid gray;box-sizing: border-box;top: 0;bottom: 0;left: 50%;z-index: -1;}#sk-container-id-14 div.sk-parallel-item {display: flex;flex-direction: column;z-index: 1;position: relative;background-color: white;}#sk-container-id-14 div.sk-parallel-item:first-child::after {align-self: flex-end;width: 50%;}#sk-container-id-14 div.sk-parallel-item:last-child::after {align-self: flex-start;width: 50%;}#sk-container-id-14 div.sk-parallel-item:only-child::after {width: 0;}#sk-container-id-14 div.sk-dashed-wrapped {border: 1px dashed gray;margin: 0 0.4em 0.5em 0.4em;box-sizing: border-box;padding-bottom: 0.4em;background-color: white;}#sk-container-id-14 div.sk-label label {font-family: monospace;font-weight: bold;display: inline-block;line-height: 1.2em;}#sk-container-id-14 div.sk-label-container {text-align: center;}#sk-container-id-14 div.sk-container {/* jupyter's `normalize.less` sets `[hidden] { display: none; }` but bootstrap.min.css set `[hidden] { display: none !important; }` so we also need the `!important` here to be able to override the default hidden behavior on the sphinx rendered scikit-learn.org. See: https://github.com/scikit-learn/scikit-learn/issues/21755 */display: inline-block !important;position: relative;}#sk-container-id-14 div.sk-text-repr-fallback {display: none;}</style><div id=\"sk-container-id-14\" class=\"sk-top-container\"><div class=\"sk-text-repr-fallback\"><pre>KNeighborsClassifier(weights=&#x27;distance&#x27;)</pre><b>In a Jupyter environment, please rerun this cell to show the HTML representation or trust the notebook. <br />On GitHub, the HTML representation is unable to render, please try loading this page with nbviewer.org.</b></div><div class=\"sk-container\" hidden><div class=\"sk-item\"><div class=\"sk-estimator sk-toggleable\"><input class=\"sk-toggleable__control sk-hidden--visually\" id=\"sk-estimator-id-14\" type=\"checkbox\" checked><label for=\"sk-estimator-id-14\" class=\"sk-toggleable__label sk-toggleable__label-arrow\">KNeighborsClassifier</label><div class=\"sk-toggleable__content\"><pre>KNeighborsClassifier(weights=&#x27;distance&#x27;)</pre></div></div></div></div></div>"
     },
     "execution_count": 90,
     "metadata": {},
     "output_type": "execute_result"
    }
   ],
   "source": [
    "knn_upper = KNeighborsClassifier()\n",
    "knn_upper.set_params(n_neighbors = 5, weights = 'distance')\n",
    "knn_upper.fit(X_train_upper, y_train_upper)"
   ],
   "metadata": {
    "collapsed": false
   }
  },
  {
   "cell_type": "code",
   "execution_count": 91,
   "outputs": [
    {
     "data": {
      "text/plain": "KNeighborsClassifier(weights='distance')",
      "text/html": "<style>#sk-container-id-15 {color: black;}#sk-container-id-15 pre{padding: 0;}#sk-container-id-15 div.sk-toggleable {background-color: white;}#sk-container-id-15 label.sk-toggleable__label {cursor: pointer;display: block;width: 100%;margin-bottom: 0;padding: 0.3em;box-sizing: border-box;text-align: center;}#sk-container-id-15 label.sk-toggleable__label-arrow:before {content: \"▸\";float: left;margin-right: 0.25em;color: #696969;}#sk-container-id-15 label.sk-toggleable__label-arrow:hover:before {color: black;}#sk-container-id-15 div.sk-estimator:hover label.sk-toggleable__label-arrow:before {color: black;}#sk-container-id-15 div.sk-toggleable__content {max-height: 0;max-width: 0;overflow: hidden;text-align: left;background-color: #f0f8ff;}#sk-container-id-15 div.sk-toggleable__content pre {margin: 0.2em;color: black;border-radius: 0.25em;background-color: #f0f8ff;}#sk-container-id-15 input.sk-toggleable__control:checked~div.sk-toggleable__content {max-height: 200px;max-width: 100%;overflow: auto;}#sk-container-id-15 input.sk-toggleable__control:checked~label.sk-toggleable__label-arrow:before {content: \"▾\";}#sk-container-id-15 div.sk-estimator input.sk-toggleable__control:checked~label.sk-toggleable__label {background-color: #d4ebff;}#sk-container-id-15 div.sk-label input.sk-toggleable__control:checked~label.sk-toggleable__label {background-color: #d4ebff;}#sk-container-id-15 input.sk-hidden--visually {border: 0;clip: rect(1px 1px 1px 1px);clip: rect(1px, 1px, 1px, 1px);height: 1px;margin: -1px;overflow: hidden;padding: 0;position: absolute;width: 1px;}#sk-container-id-15 div.sk-estimator {font-family: monospace;background-color: #f0f8ff;border: 1px dotted black;border-radius: 0.25em;box-sizing: border-box;margin-bottom: 0.5em;}#sk-container-id-15 div.sk-estimator:hover {background-color: #d4ebff;}#sk-container-id-15 div.sk-parallel-item::after {content: \"\";width: 100%;border-bottom: 1px solid gray;flex-grow: 1;}#sk-container-id-15 div.sk-label:hover label.sk-toggleable__label {background-color: #d4ebff;}#sk-container-id-15 div.sk-serial::before {content: \"\";position: absolute;border-left: 1px solid gray;box-sizing: border-box;top: 0;bottom: 0;left: 50%;z-index: 0;}#sk-container-id-15 div.sk-serial {display: flex;flex-direction: column;align-items: center;background-color: white;padding-right: 0.2em;padding-left: 0.2em;position: relative;}#sk-container-id-15 div.sk-item {position: relative;z-index: 1;}#sk-container-id-15 div.sk-parallel {display: flex;align-items: stretch;justify-content: center;background-color: white;position: relative;}#sk-container-id-15 div.sk-item::before, #sk-container-id-15 div.sk-parallel-item::before {content: \"\";position: absolute;border-left: 1px solid gray;box-sizing: border-box;top: 0;bottom: 0;left: 50%;z-index: -1;}#sk-container-id-15 div.sk-parallel-item {display: flex;flex-direction: column;z-index: 1;position: relative;background-color: white;}#sk-container-id-15 div.sk-parallel-item:first-child::after {align-self: flex-end;width: 50%;}#sk-container-id-15 div.sk-parallel-item:last-child::after {align-self: flex-start;width: 50%;}#sk-container-id-15 div.sk-parallel-item:only-child::after {width: 0;}#sk-container-id-15 div.sk-dashed-wrapped {border: 1px dashed gray;margin: 0 0.4em 0.5em 0.4em;box-sizing: border-box;padding-bottom: 0.4em;background-color: white;}#sk-container-id-15 div.sk-label label {font-family: monospace;font-weight: bold;display: inline-block;line-height: 1.2em;}#sk-container-id-15 div.sk-label-container {text-align: center;}#sk-container-id-15 div.sk-container {/* jupyter's `normalize.less` sets `[hidden] { display: none; }` but bootstrap.min.css set `[hidden] { display: none !important; }` so we also need the `!important` here to be able to override the default hidden behavior on the sphinx rendered scikit-learn.org. See: https://github.com/scikit-learn/scikit-learn/issues/21755 */display: inline-block !important;position: relative;}#sk-container-id-15 div.sk-text-repr-fallback {display: none;}</style><div id=\"sk-container-id-15\" class=\"sk-top-container\"><div class=\"sk-text-repr-fallback\"><pre>KNeighborsClassifier(weights=&#x27;distance&#x27;)</pre><b>In a Jupyter environment, please rerun this cell to show the HTML representation or trust the notebook. <br />On GitHub, the HTML representation is unable to render, please try loading this page with nbviewer.org.</b></div><div class=\"sk-container\" hidden><div class=\"sk-item\"><div class=\"sk-estimator sk-toggleable\"><input class=\"sk-toggleable__control sk-hidden--visually\" id=\"sk-estimator-id-15\" type=\"checkbox\" checked><label for=\"sk-estimator-id-15\" class=\"sk-toggleable__label sk-toggleable__label-arrow\">KNeighborsClassifier</label><div class=\"sk-toggleable__content\"><pre>KNeighborsClassifier(weights=&#x27;distance&#x27;)</pre></div></div></div></div></div>"
     },
     "execution_count": 91,
     "metadata": {},
     "output_type": "execute_result"
    }
   ],
   "source": [
    "knn_lower = KNeighborsClassifier()\n",
    "knn_lower.set_params(n_neighbors = 5, weights = 'distance')\n",
    "knn_lower.fit(X_train_lower, y_train_lower)"
   ],
   "metadata": {
    "collapsed": false
   }
  },
  {
   "cell_type": "markdown",
   "source": [
    "#### Stap 4.a. Upper model evalueren\n"
   ],
   "metadata": {
    "collapsed": false
   }
  },
  {
   "cell_type": "code",
   "execution_count": 92,
   "outputs": [
    {
     "data": {
      "text/plain": "1.0"
     },
     "execution_count": 92,
     "metadata": {},
     "output_type": "execute_result"
    }
   ],
   "source": [
    "y_train_upper_pred = knn_upper.predict(X_train_upper)\n",
    "accuracy_score(y_train_upper, y_train_upper_pred)"
   ],
   "metadata": {
    "collapsed": false
   }
  },
  {
   "cell_type": "code",
   "execution_count": 93,
   "outputs": [
    {
     "data": {
      "text/plain": "array([[ 58,   0,   0,   0,   0,   0,   0,   0],\n       [  0, 104,   0,   0,   0,   0,   0,   0],\n       [  0,   0, 240,   0,   0,   0,   0,   0],\n       [  0,   0,   0,  66,   0,   0,   0,   0],\n       [  0,   0,   0,   0,  96,   0,   0,   0],\n       [  0,   0,   0,   0,   0, 140,   0,   0],\n       [  0,   0,   0,   0,   0,   0,  77,   0],\n       [  0,   0,   0,   0,   0,   0,   0, 156]], dtype=int64)"
     },
     "execution_count": 93,
     "metadata": {},
     "output_type": "execute_result"
    }
   ],
   "source": [
    "''' Analyse resultaten\n",
    "Confusion matrix toont voorspellingen op de x-as en de echte waardes op de y-as\n",
    "- 0: 'chin_up'              --> gaat goed\n",
    "- 1: 'crossed_arms'         --> gaat goed\n",
    "- 2: 'delivered_gestures'   --> delivered_gestures wordt te vaak voorspeld, 21 keer hands behinds back wordt gemist bijv.\n",
    "- 3: 'giving_the_back'      --> gaat perfect\n",
    "- 4: 'hands_behind_back'    --> gaat goed\n",
    "- 5: 'hands_in_pockets'     --> ook hier worden hands behinds back vaak gemist\n",
    "- 6: 'hands_loose'          --> gaat goed\n",
    "- 7: 'hands_touching_face   --> gaat goed\n",
    "\n",
    "Conclusie: hands behinds back worden vaker niet gevonden: slechts 61 van de 96\n",
    "'''\n",
    "\n",
    "confusion_matrix(y_train_upper, y_train_upper_pred)"
   ],
   "metadata": {
    "collapsed": false
   }
  },
  {
   "cell_type": "code",
   "execution_count": 94,
   "outputs": [
    {
     "data": {
      "text/plain": "0.7157360406091371"
     },
     "execution_count": 94,
     "metadata": {},
     "output_type": "execute_result"
    }
   ],
   "source": [
    "y_test_upper_pred = knn_upper.predict(X_test_upper)\n",
    "accuracy_score(y_test_upper, y_test_upper_pred)"
   ],
   "metadata": {
    "collapsed": false
   }
  },
  {
   "cell_type": "code",
   "execution_count": 95,
   "outputs": [
    {
     "data": {
      "text/plain": "array([[0.        , 0.        , 0.        , ..., 0.3934266 , 0.        ,\n        0.        ],\n       [0.        , 0.        , 0.75063699, ..., 0.        , 0.        ,\n        0.        ],\n       [1.        , 0.        , 0.        , ..., 0.        , 0.        ,\n        0.        ],\n       ...,\n       [0.        , 0.        , 0.        , ..., 0.        , 0.        ,\n        1.        ],\n       [0.        , 0.        , 0.        , ..., 0.        , 0.        ,\n        1.        ],\n       [0.        , 0.        , 0.        , ..., 0.        , 0.        ,\n        1.        ]])"
     },
     "execution_count": 95,
     "metadata": {},
     "output_type": "execute_result"
    }
   ],
   "source": [
    "knn_upper.predict_proba(X_test_upper)"
   ],
   "metadata": {
    "collapsed": false
   }
  },
  {
   "cell_type": "code",
   "execution_count": 96,
   "outputs": [
    {
     "data": {
      "text/plain": "array([[11,  0,  1,  0,  2,  1,  0,  0],\n       [ 0, 22,  0,  0,  1,  0,  0,  9],\n       [ 1,  3, 45,  0,  0,  4,  1,  1],\n       [ 0,  0,  0,  6,  0,  1,  0,  1],\n       [ 0,  0,  2,  0,  5,  4,  0,  0],\n       [ 0,  0,  4,  0,  6, 18,  3,  0],\n       [ 5,  0,  0,  0,  1,  3, 10,  0],\n       [ 0,  0,  2,  0,  0,  0,  0, 24]], dtype=int64)"
     },
     "execution_count": 96,
     "metadata": {},
     "output_type": "execute_result"
    }
   ],
   "source": [
    "''' Analyse resultaten\n",
    "Confusion matrix toont voorspellingen op de x-as en de echte waardes op de y-as\n",
    "- 0: 'chin_up'              --> gaat hier minder goed\n",
    "- 1: 'crossed_arms'         --> gaat goed\n",
    "- 2: 'delivered_gestures'   --> gaat hier beter dan bij train\n",
    "- 3: 'giving_the_back'      --> gaat perfect\n",
    "- 4: 'hands_behind_back'    --> gaat slecht! wordt te vaak voorspeld\n",
    "- 5: 'hands_in_pockets'     --> ook hier worden hands behinds back vaak gemist\n",
    "- 6: 'hands_loose'          --> gaat goed\n",
    "- 7: 'hands_touching_face   --> gaat goed\n",
    "\n",
    "Conclusie: hands behinds back worden vaker niet gevonden: slechts 61 van de 96\n",
    "'''\n",
    "# To do: mooie heatmap maken\n",
    "\n",
    "confusion_matrix(y_test_upper, y_test_upper_pred)"
   ],
   "metadata": {
    "collapsed": false
   }
  },
  {
   "cell_type": "markdown",
   "source": [
    "#### Stap 4.b. Lower model evalueren\n"
   ],
   "metadata": {
    "collapsed": false
   }
  },
  {
   "cell_type": "code",
   "execution_count": 97,
   "outputs": [
    {
     "data": {
      "text/plain": "1.0"
     },
     "execution_count": 97,
     "metadata": {},
     "output_type": "execute_result"
    }
   ],
   "source": [
    "y_train_lower_pred = knn_lower.predict(X_train_lower)\n",
    "accuracy_score(y_train_lower, y_train_lower_pred)"
   ],
   "metadata": {
    "collapsed": false
   }
  },
  {
   "cell_type": "code",
   "execution_count": 98,
   "outputs": [
    {
     "data": {
      "text/plain": "array([[102,   0,   0,   0],\n       [  0,  10,   0,   0],\n       [  0,   0,  56,   0],\n       [  0,   0,   0, 104]], dtype=int64)"
     },
     "execution_count": 98,
     "metadata": {},
     "output_type": "execute_result"
    }
   ],
   "source": [
    "confusion_matrix(y_train_lower, y_train_lower_pred)"
   ],
   "metadata": {
    "collapsed": false
   }
  },
  {
   "cell_type": "code",
   "execution_count": 99,
   "outputs": [
    {
     "data": {
      "text/plain": "0.7843137254901961"
     },
     "execution_count": 99,
     "metadata": {},
     "output_type": "execute_result"
    }
   ],
   "source": [
    "y_test_lower_pred = knn_lower.predict(X_test_lower)\n",
    "accuracy_score(y_test_lower, y_test_lower_pred)"
   ],
   "metadata": {
    "collapsed": false
   }
  },
  {
   "cell_type": "code",
   "execution_count": 100,
   "outputs": [
    {
     "data": {
      "text/plain": "array([[1.        , 0.        , 0.        , 0.        ],\n       [1.        , 0.        , 0.        , 0.        ],\n       [1.        , 0.        , 0.        , 0.        ],\n       [1.        , 0.        , 0.        , 0.        ],\n       [1.        , 0.        , 0.        , 0.        ],\n       [1.        , 0.        , 0.        , 0.        ],\n       [1.        , 0.        , 0.        , 0.        ],\n       [1.        , 0.        , 0.        , 0.        ],\n       [0.80664967, 0.        , 0.19335033, 0.        ],\n       [1.        , 0.        , 0.        , 0.        ],\n       [1.        , 0.        , 0.        , 0.        ],\n       [0.37226594, 0.        , 0.44941537, 0.17831869],\n       [1.        , 0.        , 0.        , 0.        ],\n       [0.80859485, 0.        , 0.19140515, 0.        ],\n       [1.        , 0.        , 0.        , 0.        ],\n       [1.        , 0.        , 0.        , 0.        ],\n       [1.        , 0.        , 0.        , 0.        ],\n       [0.        , 1.        , 0.        , 0.        ],\n       [0.        , 1.        , 0.        , 0.        ],\n       [0.        , 0.        , 1.        , 0.        ],\n       [0.        , 0.17030505, 0.82969495, 0.        ],\n       [0.38384297, 0.        , 0.25819099, 0.35796604],\n       [0.        , 0.        , 1.        , 0.        ],\n       [0.        , 0.        , 1.        , 0.        ],\n       [0.        , 0.        , 1.        , 0.        ],\n       [0.        , 0.19376673, 0.80623327, 0.        ],\n       [0.36362536, 0.        , 0.49151736, 0.14485727],\n       [0.20375733, 0.        , 0.63241958, 0.16382309],\n       [0.        , 0.42027221, 0.57972779, 0.        ],\n       [0.        , 0.5180088 , 0.4819912 , 0.        ],\n       [0.        , 0.22374593, 0.        , 0.77625407],\n       [0.19740321, 0.        , 0.58894469, 0.2136521 ],\n       [0.63589775, 0.        , 0.36410225, 0.        ],\n       [0.80228199, 0.        , 0.19771801, 0.        ],\n       [0.        , 0.22620632, 0.43353767, 0.34025601],\n       [0.        , 0.        , 0.        , 1.        ],\n       [0.64510718, 0.        , 0.35489282, 0.        ],\n       [0.        , 0.        , 0.45207663, 0.54792337],\n       [0.        , 0.        , 0.19914705, 0.80085295],\n       [0.        , 0.        , 0.47482269, 0.52517731],\n       [0.        , 0.        , 0.39536909, 0.60463091],\n       [0.        , 0.20504844, 0.        , 0.79495156],\n       [0.        , 0.1740477 , 0.24079784, 0.58515446],\n       [0.        , 0.17125474, 0.26655634, 0.56218891],\n       [0.        , 0.22160672, 0.40965117, 0.36874211],\n       [0.        , 0.        , 0.        , 1.        ],\n       [0.        , 0.35385218, 0.4466607 , 0.19948712],\n       [0.        , 0.17451127, 0.44641412, 0.37907462],\n       [0.        , 0.        , 0.        , 1.        ],\n       [0.        , 0.        , 0.        , 1.        ],\n       [0.        , 0.        , 0.        , 1.        ]])"
     },
     "execution_count": 100,
     "metadata": {},
     "output_type": "execute_result"
    }
   ],
   "source": [
    "knn_lower.predict_proba(X_test_lower)"
   ],
   "metadata": {
    "collapsed": false
   }
  },
  {
   "cell_type": "code",
   "execution_count": 101,
   "outputs": [
    {
     "data": {
      "text/plain": "array([[16,  0,  1,  0],\n       [ 0,  2,  0,  0],\n       [ 3,  1, 10,  1],\n       [ 1,  0,  4, 12]], dtype=int64)"
     },
     "execution_count": 101,
     "metadata": {},
     "output_type": "execute_result"
    }
   ],
   "source": [
    "confusion_matrix(y_test_lower, y_test_lower_pred)"
   ],
   "metadata": {
    "collapsed": false
   }
  },
  {
   "cell_type": "markdown",
   "source": [
    "#### Stap 5. Model en voorspellingen exporteren"
   ],
   "metadata": {
    "collapsed": false
   }
  },
  {
   "cell_type": "code",
   "execution_count": 34,
   "outputs": [
    {
     "data": {
      "text/plain": "                                                path     pose  pose_code  \\\n0  C:\\Users\\joost.vanstreels\\PycharmProjects\\YOLO...  crossed          0   \n1  C:\\Users\\joost.vanstreels\\PycharmProjects\\YOLO...  crossed          0   \n2  C:\\Users\\joost.vanstreels\\PycharmProjects\\YOLO...  crossed          0   \n3  C:\\Users\\joost.vanstreels\\PycharmProjects\\YOLO...  crossed          0   \n4  C:\\Users\\joost.vanstreels\\PycharmProjects\\YOLO...  crossed          0   \n\n   confidence       x00       y00       x01       y01       x02       y02  \\\n0    0.914894  0.519160  0.314611  0.534587  0.305057  0.500624  0.305733   \n1    0.909827  0.509721  0.315518  0.524141  0.306418  0.489993  0.307169   \n2    0.906767  0.503642  0.196350  0.515195  0.174214  0.488498  0.178452   \n3    0.912517  0.497531  0.165511  0.515113  0.152043  0.480580  0.154027   \n4    0.901814  0.542198  0.162231  0.560624  0.147076  0.521831  0.149408   \n\n   ...  y16_norm         A         B         C         D         E         F  \\\n0  ...  1.957170 -0.277956  0.288862  0.784445  0.856234  0.717169  0.804296   \n1  ...  1.988737  0.234085  0.257445  0.700592  0.724724  0.742652  0.801409   \n2  ...  1.381261 -0.056527  0.083777  0.570295  0.518169  0.876922  0.938895   \n3  ...  1.987445 -0.476262  0.476776  0.754658  0.754125  0.914735  0.917351   \n4  ...  1.949706 -0.395487  0.395488  0.753799  0.698847  0.920348  0.917714   \n\n          G  prediction  proba  \n0  0.004347           0    1.0  \n1  0.008705           0    1.0  \n2  0.004897           0    1.0  \n3  0.011187           0    1.0  \n4  0.002302           0    1.0  \n\n[5 rows x 105 columns]",
      "text/html": "<div>\n<style scoped>\n    .dataframe tbody tr th:only-of-type {\n        vertical-align: middle;\n    }\n\n    .dataframe tbody tr th {\n        vertical-align: top;\n    }\n\n    .dataframe thead th {\n        text-align: right;\n    }\n</style>\n<table border=\"1\" class=\"dataframe\">\n  <thead>\n    <tr style=\"text-align: right;\">\n      <th></th>\n      <th>path</th>\n      <th>pose</th>\n      <th>pose_code</th>\n      <th>confidence</th>\n      <th>x00</th>\n      <th>y00</th>\n      <th>x01</th>\n      <th>y01</th>\n      <th>x02</th>\n      <th>y02</th>\n      <th>...</th>\n      <th>y16_norm</th>\n      <th>A</th>\n      <th>B</th>\n      <th>C</th>\n      <th>D</th>\n      <th>E</th>\n      <th>F</th>\n      <th>G</th>\n      <th>prediction</th>\n      <th>proba</th>\n    </tr>\n  </thead>\n  <tbody>\n    <tr>\n      <th>0</th>\n      <td>C:\\Users\\joost.vanstreels\\PycharmProjects\\YOLO...</td>\n      <td>crossed</td>\n      <td>0</td>\n      <td>0.914894</td>\n      <td>0.519160</td>\n      <td>0.314611</td>\n      <td>0.534587</td>\n      <td>0.305057</td>\n      <td>0.500624</td>\n      <td>0.305733</td>\n      <td>...</td>\n      <td>1.957170</td>\n      <td>-0.277956</td>\n      <td>0.288862</td>\n      <td>0.784445</td>\n      <td>0.856234</td>\n      <td>0.717169</td>\n      <td>0.804296</td>\n      <td>0.004347</td>\n      <td>0</td>\n      <td>1.0</td>\n    </tr>\n    <tr>\n      <th>1</th>\n      <td>C:\\Users\\joost.vanstreels\\PycharmProjects\\YOLO...</td>\n      <td>crossed</td>\n      <td>0</td>\n      <td>0.909827</td>\n      <td>0.509721</td>\n      <td>0.315518</td>\n      <td>0.524141</td>\n      <td>0.306418</td>\n      <td>0.489993</td>\n      <td>0.307169</td>\n      <td>...</td>\n      <td>1.988737</td>\n      <td>0.234085</td>\n      <td>0.257445</td>\n      <td>0.700592</td>\n      <td>0.724724</td>\n      <td>0.742652</td>\n      <td>0.801409</td>\n      <td>0.008705</td>\n      <td>0</td>\n      <td>1.0</td>\n    </tr>\n    <tr>\n      <th>2</th>\n      <td>C:\\Users\\joost.vanstreels\\PycharmProjects\\YOLO...</td>\n      <td>crossed</td>\n      <td>0</td>\n      <td>0.906767</td>\n      <td>0.503642</td>\n      <td>0.196350</td>\n      <td>0.515195</td>\n      <td>0.174214</td>\n      <td>0.488498</td>\n      <td>0.178452</td>\n      <td>...</td>\n      <td>1.381261</td>\n      <td>-0.056527</td>\n      <td>0.083777</td>\n      <td>0.570295</td>\n      <td>0.518169</td>\n      <td>0.876922</td>\n      <td>0.938895</td>\n      <td>0.004897</td>\n      <td>0</td>\n      <td>1.0</td>\n    </tr>\n    <tr>\n      <th>3</th>\n      <td>C:\\Users\\joost.vanstreels\\PycharmProjects\\YOLO...</td>\n      <td>crossed</td>\n      <td>0</td>\n      <td>0.912517</td>\n      <td>0.497531</td>\n      <td>0.165511</td>\n      <td>0.515113</td>\n      <td>0.152043</td>\n      <td>0.480580</td>\n      <td>0.154027</td>\n      <td>...</td>\n      <td>1.987445</td>\n      <td>-0.476262</td>\n      <td>0.476776</td>\n      <td>0.754658</td>\n      <td>0.754125</td>\n      <td>0.914735</td>\n      <td>0.917351</td>\n      <td>0.011187</td>\n      <td>0</td>\n      <td>1.0</td>\n    </tr>\n    <tr>\n      <th>4</th>\n      <td>C:\\Users\\joost.vanstreels\\PycharmProjects\\YOLO...</td>\n      <td>crossed</td>\n      <td>0</td>\n      <td>0.901814</td>\n      <td>0.542198</td>\n      <td>0.162231</td>\n      <td>0.560624</td>\n      <td>0.147076</td>\n      <td>0.521831</td>\n      <td>0.149408</td>\n      <td>...</td>\n      <td>1.949706</td>\n      <td>-0.395487</td>\n      <td>0.395488</td>\n      <td>0.753799</td>\n      <td>0.698847</td>\n      <td>0.920348</td>\n      <td>0.917714</td>\n      <td>0.002302</td>\n      <td>0</td>\n      <td>1.0</td>\n    </tr>\n  </tbody>\n</table>\n<p>5 rows × 105 columns</p>\n</div>"
     },
     "execution_count": 34,
     "metadata": {},
     "output_type": "execute_result"
    }
   ],
   "source": [
    "# Prediction en proba toevoegen aan DataFrame\n",
    "\n",
    "train_df['prediction'] = y_train_pred\n",
    "train_df['proba'] = knn.predict_proba(X_train).max(axis=1)\n",
    "train_df.head()"
   ],
   "metadata": {
    "collapsed": false
   }
  },
  {
   "cell_type": "code",
   "execution_count": 35,
   "outputs": [],
   "source": [
    "# DataFrame exporteren\n",
    "# Keuze maken voor model\n",
    "\n",
    "train_df.to_csv('train_df_YOLOv8m.csv')\n",
    "#train_df.to_csv('train_df_YOLOv8n.csv')"
   ],
   "metadata": {
    "collapsed": false
   }
  },
  {
   "cell_type": "code",
   "execution_count": 102,
   "outputs": [],
   "source": [
    "# Pickle maken\n",
    "# Keuze maken voor model\n",
    "\n",
    "pickle.dump(knn_upper, open('knn_upper_YOLOv8m.pkl', 'wb'))\n",
    "pickle.dump(knn_lower, open('knn_lower_YOLOv8m.pkl', 'wb'))\n",
    "#pickle.dump(knn, open('knn_YOLOv8n.pkl', 'wb'))"
   ],
   "metadata": {
    "collapsed": false
   }
  },
  {
   "cell_type": "code",
   "execution_count": null,
   "outputs": [],
   "source": [],
   "metadata": {
    "collapsed": false
   }
  }
 ],
 "metadata": {
  "kernelspec": {
   "display_name": "Python 3",
   "language": "python",
   "name": "python3"
  },
  "language_info": {
   "codemirror_mode": {
    "name": "ipython",
    "version": 2
   },
   "file_extension": ".py",
   "mimetype": "text/x-python",
   "name": "python",
   "nbconvert_exporter": "python",
   "pygments_lexer": "ipython2",
   "version": "2.7.6"
  }
 },
 "nbformat": 4,
 "nbformat_minor": 0
}
