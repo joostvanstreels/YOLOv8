{
 "cells": [
  {
   "cell_type": "markdown",
   "source": [
    "### 04 - kNN classification\n",
    "De dataset met alle keypoints en aanvullende informatie zal gebruikt worden om een kNN classificatiemodel te trainen."
   ],
   "metadata": {
    "collapsed": false
   }
  },
  {
   "cell_type": "code",
   "execution_count": 16,
   "outputs": [],
   "source": [
    "from sklearn.neighbors import KNeighborsClassifier\n",
    "from sklearn.metrics import accuracy_score, confusion_matrix\n",
    "import pandas as pd\n",
    "import pickle"
   ],
   "metadata": {
    "collapsed": false
   }
  },
  {
   "cell_type": "markdown",
   "source": [
    "#### Stap 1. Train- en testdata genereren"
   ],
   "metadata": {
    "collapsed": false
   }
  },
  {
   "cell_type": "code",
   "execution_count": 17,
   "outputs": [],
   "source": [
    "# Keuze voor model maken\n",
    "\n",
    "train_df = pd.read_csv('keypoints_train_df_YOLOv8m.csv', index_col=0)\n",
    "test_df = pd.read_csv('keypoints_test_df_YOLOv8m.csv', index_col=0)\n",
    "\n",
    "#train_df = pd.read_csv('keypoints_train_df_YOLOv8n.csv', index_col=0)\n",
    "#test_df = pd.read_csv('keypoints_test_df_YOLOv8n.csv', index_col=0)"
   ],
   "metadata": {
    "collapsed": false
   }
  },
  {
   "cell_type": "code",
   "execution_count": 18,
   "outputs": [
    {
     "data": {
      "text/plain": "                                                path     pose  pose_code  \\\n0  C:\\Users\\joost.vanstreels\\PycharmProjects\\YOLO...  downdog          0   \n1  C:\\Users\\joost.vanstreels\\PycharmProjects\\YOLO...  downdog          0   \n2  C:\\Users\\joost.vanstreels\\PycharmProjects\\YOLO...  downdog          0   \n3  C:\\Users\\joost.vanstreels\\PycharmProjects\\YOLO...  downdog          0   \n4  C:\\Users\\joost.vanstreels\\PycharmProjects\\YOLO...  downdog          0   \n\n   confidence       x00       y00       x01       y01       x02       y02  \\\n0    0.934024  0.423500  0.709093  0.402510  0.702865  0.427802  0.704759   \n1    0.932599  0.336725  0.687173  0.331049  0.671780  0.337968  0.669529   \n2    0.936376  0.379543  0.704821  0.363566  0.690626  0.378991  0.699057   \n3    0.933815  0.616935  0.697705  0.620064  0.689498  0.625734  0.677587   \n4    0.898250  0.454746  0.786763  0.441597  0.773290  0.450748  0.781609   \n\n   ...       v14       v15       v16  all fours  ver dist hips  standing  \\\n0  ...  0.862971  0.845818  0.790219   0.084437      -0.477136  0.083704   \n1  ...  0.940688  0.942040  0.897956   0.077501      -0.418508  0.184631   \n2  ...  0.924674  0.896926  0.840897   0.102676      -0.399451  0.113263   \n3  ...  0.967766  0.868041  0.914164   0.037754      -0.471743  0.237028   \n4  ...  0.816905  0.630279  0.528475   0.088247      -0.199260  0.047326   \n\n   hor_dist_ankles  hor dist wrists  ver dist wrists  ver dist ankles  \n0         0.008652         0.602298        -0.498172         0.008652  \n1         0.042990         0.003060        -0.673096         0.042990  \n2         0.030958         0.243853        -0.503882         0.030958  \n3         0.025091         0.000562        -0.672612         0.025091  \n4         0.024270         0.103216        -0.265029         0.024270  \n\n[5 rows x 62 columns]",
      "text/html": "<div>\n<style scoped>\n    .dataframe tbody tr th:only-of-type {\n        vertical-align: middle;\n    }\n\n    .dataframe tbody tr th {\n        vertical-align: top;\n    }\n\n    .dataframe thead th {\n        text-align: right;\n    }\n</style>\n<table border=\"1\" class=\"dataframe\">\n  <thead>\n    <tr style=\"text-align: right;\">\n      <th></th>\n      <th>path</th>\n      <th>pose</th>\n      <th>pose_code</th>\n      <th>confidence</th>\n      <th>x00</th>\n      <th>y00</th>\n      <th>x01</th>\n      <th>y01</th>\n      <th>x02</th>\n      <th>y02</th>\n      <th>...</th>\n      <th>v14</th>\n      <th>v15</th>\n      <th>v16</th>\n      <th>all fours</th>\n      <th>ver dist hips</th>\n      <th>standing</th>\n      <th>hor_dist_ankles</th>\n      <th>hor dist wrists</th>\n      <th>ver dist wrists</th>\n      <th>ver dist ankles</th>\n    </tr>\n  </thead>\n  <tbody>\n    <tr>\n      <th>0</th>\n      <td>C:\\Users\\joost.vanstreels\\PycharmProjects\\YOLO...</td>\n      <td>downdog</td>\n      <td>0</td>\n      <td>0.934024</td>\n      <td>0.423500</td>\n      <td>0.709093</td>\n      <td>0.402510</td>\n      <td>0.702865</td>\n      <td>0.427802</td>\n      <td>0.704759</td>\n      <td>...</td>\n      <td>0.862971</td>\n      <td>0.845818</td>\n      <td>0.790219</td>\n      <td>0.084437</td>\n      <td>-0.477136</td>\n      <td>0.083704</td>\n      <td>0.008652</td>\n      <td>0.602298</td>\n      <td>-0.498172</td>\n      <td>0.008652</td>\n    </tr>\n    <tr>\n      <th>1</th>\n      <td>C:\\Users\\joost.vanstreels\\PycharmProjects\\YOLO...</td>\n      <td>downdog</td>\n      <td>0</td>\n      <td>0.932599</td>\n      <td>0.336725</td>\n      <td>0.687173</td>\n      <td>0.331049</td>\n      <td>0.671780</td>\n      <td>0.337968</td>\n      <td>0.669529</td>\n      <td>...</td>\n      <td>0.940688</td>\n      <td>0.942040</td>\n      <td>0.897956</td>\n      <td>0.077501</td>\n      <td>-0.418508</td>\n      <td>0.184631</td>\n      <td>0.042990</td>\n      <td>0.003060</td>\n      <td>-0.673096</td>\n      <td>0.042990</td>\n    </tr>\n    <tr>\n      <th>2</th>\n      <td>C:\\Users\\joost.vanstreels\\PycharmProjects\\YOLO...</td>\n      <td>downdog</td>\n      <td>0</td>\n      <td>0.936376</td>\n      <td>0.379543</td>\n      <td>0.704821</td>\n      <td>0.363566</td>\n      <td>0.690626</td>\n      <td>0.378991</td>\n      <td>0.699057</td>\n      <td>...</td>\n      <td>0.924674</td>\n      <td>0.896926</td>\n      <td>0.840897</td>\n      <td>0.102676</td>\n      <td>-0.399451</td>\n      <td>0.113263</td>\n      <td>0.030958</td>\n      <td>0.243853</td>\n      <td>-0.503882</td>\n      <td>0.030958</td>\n    </tr>\n    <tr>\n      <th>3</th>\n      <td>C:\\Users\\joost.vanstreels\\PycharmProjects\\YOLO...</td>\n      <td>downdog</td>\n      <td>0</td>\n      <td>0.933815</td>\n      <td>0.616935</td>\n      <td>0.697705</td>\n      <td>0.620064</td>\n      <td>0.689498</td>\n      <td>0.625734</td>\n      <td>0.677587</td>\n      <td>...</td>\n      <td>0.967766</td>\n      <td>0.868041</td>\n      <td>0.914164</td>\n      <td>0.037754</td>\n      <td>-0.471743</td>\n      <td>0.237028</td>\n      <td>0.025091</td>\n      <td>0.000562</td>\n      <td>-0.672612</td>\n      <td>0.025091</td>\n    </tr>\n    <tr>\n      <th>4</th>\n      <td>C:\\Users\\joost.vanstreels\\PycharmProjects\\YOLO...</td>\n      <td>downdog</td>\n      <td>0</td>\n      <td>0.898250</td>\n      <td>0.454746</td>\n      <td>0.786763</td>\n      <td>0.441597</td>\n      <td>0.773290</td>\n      <td>0.450748</td>\n      <td>0.781609</td>\n      <td>...</td>\n      <td>0.816905</td>\n      <td>0.630279</td>\n      <td>0.528475</td>\n      <td>0.088247</td>\n      <td>-0.199260</td>\n      <td>0.047326</td>\n      <td>0.024270</td>\n      <td>0.103216</td>\n      <td>-0.265029</td>\n      <td>0.024270</td>\n    </tr>\n  </tbody>\n</table>\n<p>5 rows × 62 columns</p>\n</div>"
     },
     "execution_count": 18,
     "metadata": {},
     "output_type": "execute_result"
    }
   ],
   "source": [
    "train_df.head()"
   ],
   "metadata": {
    "collapsed": false
   }
  },
  {
   "cell_type": "code",
   "execution_count": 19,
   "outputs": [
    {
     "data": {
      "text/plain": "           x00       y00       x01       y01       x02       y02       x03  \\\n0     0.423500  0.709093  0.402510  0.702865  0.427802  0.704759  0.382130   \n1     0.336725  0.687173  0.331049  0.671780  0.337968  0.669529  0.343589   \n2     0.379543  0.704821  0.363566  0.690626  0.378991  0.699057  0.356653   \n3     0.616935  0.697705  0.620064  0.689498  0.625734  0.677587  0.638563   \n4     0.454746  0.786763  0.441597  0.773290  0.450748  0.781609  0.420292   \n...        ...       ...       ...       ...       ...       ...       ...   \n1991  0.421135  0.791333  0.408298  0.804570  0.453501  0.796470  0.386294   \n1992  0.153706  0.166005  0.172928  0.123942  0.120859  0.155429  0.243908   \n1993  0.546612  0.345693  0.560153  0.347666  0.542893  0.332598  0.565480   \n1994  0.449509  0.451181  0.451348  0.424801  0.446124  0.431690  0.472965   \n1995  0.521518  0.162982  0.537027  0.127588  0.501557  0.131025  0.561628   \n\n           y03       x04       y04  ...       v14       v15       v16  \\\n0     0.664700  0.443019  0.669867  ...  0.862971  0.845818  0.790219   \n1     0.613480  0.347272  0.606030  ...  0.940688  0.942040  0.897956   \n2     0.627904  0.382242  0.644900  ...  0.924674  0.896926  0.840897   \n3     0.643493  0.633839  0.619321  ...  0.967766  0.868041  0.914164   \n4     0.747943  0.444179  0.770287  ...  0.816905  0.630279  0.528475   \n...        ...       ...       ...  ...       ...       ...       ...   \n1991  0.788566  0.506973  0.767220  ...  0.344972  0.261209  0.238041   \n1992  0.132283  0.109884  0.211759  ...  0.959405  0.913678  0.891697   \n1993  0.393461  0.522904  0.356668  ...  0.959685  0.873797  0.812785   \n1994  0.387391  0.465405  0.400063  ...  0.987193  0.960378  0.911958   \n1995  0.146645  0.474916  0.150038  ...  0.989118  0.913566  0.937313   \n\n      all fours  ver dist hips  standing  hor_dist_ankles  hor dist wrists  \\\n0      0.084437      -0.477136  0.083704         0.008652         0.602298   \n1      0.077501      -0.418508  0.184631         0.042990         0.003060   \n2      0.102676      -0.399451  0.113263         0.030958         0.243853   \n3      0.037754      -0.471743  0.237028         0.025091         0.000562   \n4      0.088247      -0.199260  0.047326         0.024270         0.103216   \n...         ...            ...       ...              ...              ...   \n1991   0.148163      -0.422612 -0.329379         0.017819         0.828508   \n1992   0.085577       0.444358  0.719394         0.041055         0.659261   \n1993   0.188189       0.313564  0.574979         0.349487         0.064427   \n1994   0.014271       0.268840  0.413430         0.013747         0.010388   \n1995   0.057213       0.629550  0.791747         0.153683         0.146137   \n\n      ver dist wrists  ver dist ankles  \n0           -0.498172         0.008652  \n1           -0.673096         0.042990  \n2           -0.503882         0.030958  \n3           -0.672612         0.025091  \n4           -0.265029         0.024270  \n...               ...              ...  \n1991         0.118531         0.017819  \n1992        -0.487285         0.041055  \n1993         0.019060         0.349487  \n1994        -0.636566         0.013747  \n1995        -1.007637         0.153683  \n\n[1996 rows x 58 columns]",
      "text/html": "<div>\n<style scoped>\n    .dataframe tbody tr th:only-of-type {\n        vertical-align: middle;\n    }\n\n    .dataframe tbody tr th {\n        vertical-align: top;\n    }\n\n    .dataframe thead th {\n        text-align: right;\n    }\n</style>\n<table border=\"1\" class=\"dataframe\">\n  <thead>\n    <tr style=\"text-align: right;\">\n      <th></th>\n      <th>x00</th>\n      <th>y00</th>\n      <th>x01</th>\n      <th>y01</th>\n      <th>x02</th>\n      <th>y02</th>\n      <th>x03</th>\n      <th>y03</th>\n      <th>x04</th>\n      <th>y04</th>\n      <th>...</th>\n      <th>v14</th>\n      <th>v15</th>\n      <th>v16</th>\n      <th>all fours</th>\n      <th>ver dist hips</th>\n      <th>standing</th>\n      <th>hor_dist_ankles</th>\n      <th>hor dist wrists</th>\n      <th>ver dist wrists</th>\n      <th>ver dist ankles</th>\n    </tr>\n  </thead>\n  <tbody>\n    <tr>\n      <th>0</th>\n      <td>0.423500</td>\n      <td>0.709093</td>\n      <td>0.402510</td>\n      <td>0.702865</td>\n      <td>0.427802</td>\n      <td>0.704759</td>\n      <td>0.382130</td>\n      <td>0.664700</td>\n      <td>0.443019</td>\n      <td>0.669867</td>\n      <td>...</td>\n      <td>0.862971</td>\n      <td>0.845818</td>\n      <td>0.790219</td>\n      <td>0.084437</td>\n      <td>-0.477136</td>\n      <td>0.083704</td>\n      <td>0.008652</td>\n      <td>0.602298</td>\n      <td>-0.498172</td>\n      <td>0.008652</td>\n    </tr>\n    <tr>\n      <th>1</th>\n      <td>0.336725</td>\n      <td>0.687173</td>\n      <td>0.331049</td>\n      <td>0.671780</td>\n      <td>0.337968</td>\n      <td>0.669529</td>\n      <td>0.343589</td>\n      <td>0.613480</td>\n      <td>0.347272</td>\n      <td>0.606030</td>\n      <td>...</td>\n      <td>0.940688</td>\n      <td>0.942040</td>\n      <td>0.897956</td>\n      <td>0.077501</td>\n      <td>-0.418508</td>\n      <td>0.184631</td>\n      <td>0.042990</td>\n      <td>0.003060</td>\n      <td>-0.673096</td>\n      <td>0.042990</td>\n    </tr>\n    <tr>\n      <th>2</th>\n      <td>0.379543</td>\n      <td>0.704821</td>\n      <td>0.363566</td>\n      <td>0.690626</td>\n      <td>0.378991</td>\n      <td>0.699057</td>\n      <td>0.356653</td>\n      <td>0.627904</td>\n      <td>0.382242</td>\n      <td>0.644900</td>\n      <td>...</td>\n      <td>0.924674</td>\n      <td>0.896926</td>\n      <td>0.840897</td>\n      <td>0.102676</td>\n      <td>-0.399451</td>\n      <td>0.113263</td>\n      <td>0.030958</td>\n      <td>0.243853</td>\n      <td>-0.503882</td>\n      <td>0.030958</td>\n    </tr>\n    <tr>\n      <th>3</th>\n      <td>0.616935</td>\n      <td>0.697705</td>\n      <td>0.620064</td>\n      <td>0.689498</td>\n      <td>0.625734</td>\n      <td>0.677587</td>\n      <td>0.638563</td>\n      <td>0.643493</td>\n      <td>0.633839</td>\n      <td>0.619321</td>\n      <td>...</td>\n      <td>0.967766</td>\n      <td>0.868041</td>\n      <td>0.914164</td>\n      <td>0.037754</td>\n      <td>-0.471743</td>\n      <td>0.237028</td>\n      <td>0.025091</td>\n      <td>0.000562</td>\n      <td>-0.672612</td>\n      <td>0.025091</td>\n    </tr>\n    <tr>\n      <th>4</th>\n      <td>0.454746</td>\n      <td>0.786763</td>\n      <td>0.441597</td>\n      <td>0.773290</td>\n      <td>0.450748</td>\n      <td>0.781609</td>\n      <td>0.420292</td>\n      <td>0.747943</td>\n      <td>0.444179</td>\n      <td>0.770287</td>\n      <td>...</td>\n      <td>0.816905</td>\n      <td>0.630279</td>\n      <td>0.528475</td>\n      <td>0.088247</td>\n      <td>-0.199260</td>\n      <td>0.047326</td>\n      <td>0.024270</td>\n      <td>0.103216</td>\n      <td>-0.265029</td>\n      <td>0.024270</td>\n    </tr>\n    <tr>\n      <th>...</th>\n      <td>...</td>\n      <td>...</td>\n      <td>...</td>\n      <td>...</td>\n      <td>...</td>\n      <td>...</td>\n      <td>...</td>\n      <td>...</td>\n      <td>...</td>\n      <td>...</td>\n      <td>...</td>\n      <td>...</td>\n      <td>...</td>\n      <td>...</td>\n      <td>...</td>\n      <td>...</td>\n      <td>...</td>\n      <td>...</td>\n      <td>...</td>\n      <td>...</td>\n      <td>...</td>\n    </tr>\n    <tr>\n      <th>1991</th>\n      <td>0.421135</td>\n      <td>0.791333</td>\n      <td>0.408298</td>\n      <td>0.804570</td>\n      <td>0.453501</td>\n      <td>0.796470</td>\n      <td>0.386294</td>\n      <td>0.788566</td>\n      <td>0.506973</td>\n      <td>0.767220</td>\n      <td>...</td>\n      <td>0.344972</td>\n      <td>0.261209</td>\n      <td>0.238041</td>\n      <td>0.148163</td>\n      <td>-0.422612</td>\n      <td>-0.329379</td>\n      <td>0.017819</td>\n      <td>0.828508</td>\n      <td>0.118531</td>\n      <td>0.017819</td>\n    </tr>\n    <tr>\n      <th>1992</th>\n      <td>0.153706</td>\n      <td>0.166005</td>\n      <td>0.172928</td>\n      <td>0.123942</td>\n      <td>0.120859</td>\n      <td>0.155429</td>\n      <td>0.243908</td>\n      <td>0.132283</td>\n      <td>0.109884</td>\n      <td>0.211759</td>\n      <td>...</td>\n      <td>0.959405</td>\n      <td>0.913678</td>\n      <td>0.891697</td>\n      <td>0.085577</td>\n      <td>0.444358</td>\n      <td>0.719394</td>\n      <td>0.041055</td>\n      <td>0.659261</td>\n      <td>-0.487285</td>\n      <td>0.041055</td>\n    </tr>\n    <tr>\n      <th>1993</th>\n      <td>0.546612</td>\n      <td>0.345693</td>\n      <td>0.560153</td>\n      <td>0.347666</td>\n      <td>0.542893</td>\n      <td>0.332598</td>\n      <td>0.565480</td>\n      <td>0.393461</td>\n      <td>0.522904</td>\n      <td>0.356668</td>\n      <td>...</td>\n      <td>0.959685</td>\n      <td>0.873797</td>\n      <td>0.812785</td>\n      <td>0.188189</td>\n      <td>0.313564</td>\n      <td>0.574979</td>\n      <td>0.349487</td>\n      <td>0.064427</td>\n      <td>0.019060</td>\n      <td>0.349487</td>\n    </tr>\n    <tr>\n      <th>1994</th>\n      <td>0.449509</td>\n      <td>0.451181</td>\n      <td>0.451348</td>\n      <td>0.424801</td>\n      <td>0.446124</td>\n      <td>0.431690</td>\n      <td>0.472965</td>\n      <td>0.387391</td>\n      <td>0.465405</td>\n      <td>0.400063</td>\n      <td>...</td>\n      <td>0.987193</td>\n      <td>0.960378</td>\n      <td>0.911958</td>\n      <td>0.014271</td>\n      <td>0.268840</td>\n      <td>0.413430</td>\n      <td>0.013747</td>\n      <td>0.010388</td>\n      <td>-0.636566</td>\n      <td>0.013747</td>\n    </tr>\n    <tr>\n      <th>1995</th>\n      <td>0.521518</td>\n      <td>0.162982</td>\n      <td>0.537027</td>\n      <td>0.127588</td>\n      <td>0.501557</td>\n      <td>0.131025</td>\n      <td>0.561628</td>\n      <td>0.146645</td>\n      <td>0.474916</td>\n      <td>0.150038</td>\n      <td>...</td>\n      <td>0.989118</td>\n      <td>0.913566</td>\n      <td>0.937313</td>\n      <td>0.057213</td>\n      <td>0.629550</td>\n      <td>0.791747</td>\n      <td>0.153683</td>\n      <td>0.146137</td>\n      <td>-1.007637</td>\n      <td>0.153683</td>\n    </tr>\n  </tbody>\n</table>\n<p>1996 rows × 58 columns</p>\n</div>"
     },
     "execution_count": 19,
     "metadata": {},
     "output_type": "execute_result"
    }
   ],
   "source": [
    "X_train = train_df.iloc[:, 4:62]\n",
    "X_train"
   ],
   "metadata": {
    "collapsed": false
   }
  },
  {
   "cell_type": "code",
   "execution_count": 20,
   "outputs": [
    {
     "data": {
      "text/plain": "0       0\n1       0\n2       0\n3       0\n4       0\n       ..\n1991    5\n1992    5\n1993    5\n1994    5\n1995    5\nName: pose_code, Length: 1996, dtype: int64"
     },
     "execution_count": 20,
     "metadata": {},
     "output_type": "execute_result"
    }
   ],
   "source": [
    "y_train = train_df['pose_code']\n",
    "y_train"
   ],
   "metadata": {
    "collapsed": false
   }
  },
  {
   "cell_type": "code",
   "execution_count": 21,
   "outputs": [
    {
     "data": {
      "text/plain": "          x00       y00       x01       y01       x02       y02       x03  \\\n0    0.513715  0.741517  0.497201  0.735360  0.509464  0.740671  0.476493   \n1    0.580441  0.789922  0.580974  0.787706  0.593028  0.778452  0.587604   \n2    0.646324  0.715999  0.652871  0.698378  0.652485  0.699054  0.671895   \n3    0.559559  0.754270  0.560810  0.757166  0.579860  0.739475  0.572747   \n4    0.349407  0.688239  0.341974  0.666379  0.346537  0.666175  0.328168   \n..        ...       ...       ...       ...       ...       ...       ...   \n452  0.420442  0.363706  0.428557  0.353078  0.421531  0.348491  0.456424   \n453  0.563601  0.240097  0.569275  0.214819  0.541831  0.221728  0.557320   \n454  0.443184  0.195190  0.473011  0.173855  0.427609  0.172129  0.539675   \n455  0.328837  0.033087  0.339197  0.000000  0.331087  0.008918  0.408413   \n456  0.397508  0.164125  0.411481  0.151050  0.405102  0.142509  0.450495   \n\n          y03       x04       y04  ...       v14       v15       v16  \\\n0    0.706399  0.494905  0.724907  ...  0.872600  0.846585  0.785794   \n1    0.751723  0.604622  0.734322  ...  0.956924  0.804400  0.881734   \n2    0.655805  0.646459  0.660106  ...  0.981466  0.954894  0.949070   \n3    0.750394  0.606282  0.711236  ...  0.955897  0.837674  0.884011   \n4    0.633742  0.330032  0.634200  ...  0.948830  0.951415  0.931818   \n..        ...       ...       ...  ...       ...       ...       ...   \n452  0.361001  0.434070  0.354083  ...  0.956419  0.916596  0.868035   \n453  0.220631  0.483589  0.233351  ...  0.989875  0.887248  0.926128   \n454  0.190345  0.412880  0.186139  ...  0.985922  0.941767  0.912613   \n455  0.003092  0.365714  0.026697  ...  0.611221  0.311374  0.229609   \n456  0.177545  0.428326  0.153100  ...  0.987378  0.965124  0.945062   \n\n     all fours  ver dist hips  standing  hor_dist_ankles  hor dist wrists  \\\n0     0.105069      -0.477905  0.111305         0.012622         0.361397   \n1     0.067210      -0.441707  0.073366         0.019571         0.368055   \n2     0.061583      -0.370940  0.177699         0.081472         0.020100   \n3     0.062984      -0.446968  0.092755         0.016372         0.527511   \n4     0.143123      -0.335726  0.080581         0.016003         0.037134   \n..         ...            ...       ...              ...              ...   \n452   0.450943       0.282212  0.531001         0.351565         0.375512   \n453   0.554387       0.396655  0.664607         0.664052         0.791373   \n454   0.607049       0.389717  0.696443         0.456063         0.692327   \n455   0.762898       0.611900  1.000000         0.699720         0.922251   \n456   0.648092       0.429895  0.809839         0.476454         0.558674   \n\n     ver dist wrists  ver dist ankles  \n0          -0.571468         0.012622  \n1          -0.341899         0.019571  \n2          -0.582963         0.081472  \n3          -0.400786         0.016372  \n4          -0.568170         0.016003  \n..               ...              ...  \n452        -0.007998         0.351565  \n453         0.021863         0.664052  \n454         0.072614         0.456063  \n455        -0.057706         0.699720  \n456         0.058700         0.476454  \n\n[457 rows x 58 columns]",
      "text/html": "<div>\n<style scoped>\n    .dataframe tbody tr th:only-of-type {\n        vertical-align: middle;\n    }\n\n    .dataframe tbody tr th {\n        vertical-align: top;\n    }\n\n    .dataframe thead th {\n        text-align: right;\n    }\n</style>\n<table border=\"1\" class=\"dataframe\">\n  <thead>\n    <tr style=\"text-align: right;\">\n      <th></th>\n      <th>x00</th>\n      <th>y00</th>\n      <th>x01</th>\n      <th>y01</th>\n      <th>x02</th>\n      <th>y02</th>\n      <th>x03</th>\n      <th>y03</th>\n      <th>x04</th>\n      <th>y04</th>\n      <th>...</th>\n      <th>v14</th>\n      <th>v15</th>\n      <th>v16</th>\n      <th>all fours</th>\n      <th>ver dist hips</th>\n      <th>standing</th>\n      <th>hor_dist_ankles</th>\n      <th>hor dist wrists</th>\n      <th>ver dist wrists</th>\n      <th>ver dist ankles</th>\n    </tr>\n  </thead>\n  <tbody>\n    <tr>\n      <th>0</th>\n      <td>0.513715</td>\n      <td>0.741517</td>\n      <td>0.497201</td>\n      <td>0.735360</td>\n      <td>0.509464</td>\n      <td>0.740671</td>\n      <td>0.476493</td>\n      <td>0.706399</td>\n      <td>0.494905</td>\n      <td>0.724907</td>\n      <td>...</td>\n      <td>0.872600</td>\n      <td>0.846585</td>\n      <td>0.785794</td>\n      <td>0.105069</td>\n      <td>-0.477905</td>\n      <td>0.111305</td>\n      <td>0.012622</td>\n      <td>0.361397</td>\n      <td>-0.571468</td>\n      <td>0.012622</td>\n    </tr>\n    <tr>\n      <th>1</th>\n      <td>0.580441</td>\n      <td>0.789922</td>\n      <td>0.580974</td>\n      <td>0.787706</td>\n      <td>0.593028</td>\n      <td>0.778452</td>\n      <td>0.587604</td>\n      <td>0.751723</td>\n      <td>0.604622</td>\n      <td>0.734322</td>\n      <td>...</td>\n      <td>0.956924</td>\n      <td>0.804400</td>\n      <td>0.881734</td>\n      <td>0.067210</td>\n      <td>-0.441707</td>\n      <td>0.073366</td>\n      <td>0.019571</td>\n      <td>0.368055</td>\n      <td>-0.341899</td>\n      <td>0.019571</td>\n    </tr>\n    <tr>\n      <th>2</th>\n      <td>0.646324</td>\n      <td>0.715999</td>\n      <td>0.652871</td>\n      <td>0.698378</td>\n      <td>0.652485</td>\n      <td>0.699054</td>\n      <td>0.671895</td>\n      <td>0.655805</td>\n      <td>0.646459</td>\n      <td>0.660106</td>\n      <td>...</td>\n      <td>0.981466</td>\n      <td>0.954894</td>\n      <td>0.949070</td>\n      <td>0.061583</td>\n      <td>-0.370940</td>\n      <td>0.177699</td>\n      <td>0.081472</td>\n      <td>0.020100</td>\n      <td>-0.582963</td>\n      <td>0.081472</td>\n    </tr>\n    <tr>\n      <th>3</th>\n      <td>0.559559</td>\n      <td>0.754270</td>\n      <td>0.560810</td>\n      <td>0.757166</td>\n      <td>0.579860</td>\n      <td>0.739475</td>\n      <td>0.572747</td>\n      <td>0.750394</td>\n      <td>0.606282</td>\n      <td>0.711236</td>\n      <td>...</td>\n      <td>0.955897</td>\n      <td>0.837674</td>\n      <td>0.884011</td>\n      <td>0.062984</td>\n      <td>-0.446968</td>\n      <td>0.092755</td>\n      <td>0.016372</td>\n      <td>0.527511</td>\n      <td>-0.400786</td>\n      <td>0.016372</td>\n    </tr>\n    <tr>\n      <th>4</th>\n      <td>0.349407</td>\n      <td>0.688239</td>\n      <td>0.341974</td>\n      <td>0.666379</td>\n      <td>0.346537</td>\n      <td>0.666175</td>\n      <td>0.328168</td>\n      <td>0.633742</td>\n      <td>0.330032</td>\n      <td>0.634200</td>\n      <td>...</td>\n      <td>0.948830</td>\n      <td>0.951415</td>\n      <td>0.931818</td>\n      <td>0.143123</td>\n      <td>-0.335726</td>\n      <td>0.080581</td>\n      <td>0.016003</td>\n      <td>0.037134</td>\n      <td>-0.568170</td>\n      <td>0.016003</td>\n    </tr>\n    <tr>\n      <th>...</th>\n      <td>...</td>\n      <td>...</td>\n      <td>...</td>\n      <td>...</td>\n      <td>...</td>\n      <td>...</td>\n      <td>...</td>\n      <td>...</td>\n      <td>...</td>\n      <td>...</td>\n      <td>...</td>\n      <td>...</td>\n      <td>...</td>\n      <td>...</td>\n      <td>...</td>\n      <td>...</td>\n      <td>...</td>\n      <td>...</td>\n      <td>...</td>\n      <td>...</td>\n      <td>...</td>\n    </tr>\n    <tr>\n      <th>452</th>\n      <td>0.420442</td>\n      <td>0.363706</td>\n      <td>0.428557</td>\n      <td>0.353078</td>\n      <td>0.421531</td>\n      <td>0.348491</td>\n      <td>0.456424</td>\n      <td>0.361001</td>\n      <td>0.434070</td>\n      <td>0.354083</td>\n      <td>...</td>\n      <td>0.956419</td>\n      <td>0.916596</td>\n      <td>0.868035</td>\n      <td>0.450943</td>\n      <td>0.282212</td>\n      <td>0.531001</td>\n      <td>0.351565</td>\n      <td>0.375512</td>\n      <td>-0.007998</td>\n      <td>0.351565</td>\n    </tr>\n    <tr>\n      <th>453</th>\n      <td>0.563601</td>\n      <td>0.240097</td>\n      <td>0.569275</td>\n      <td>0.214819</td>\n      <td>0.541831</td>\n      <td>0.221728</td>\n      <td>0.557320</td>\n      <td>0.220631</td>\n      <td>0.483589</td>\n      <td>0.233351</td>\n      <td>...</td>\n      <td>0.989875</td>\n      <td>0.887248</td>\n      <td>0.926128</td>\n      <td>0.554387</td>\n      <td>0.396655</td>\n      <td>0.664607</td>\n      <td>0.664052</td>\n      <td>0.791373</td>\n      <td>0.021863</td>\n      <td>0.664052</td>\n    </tr>\n    <tr>\n      <th>454</th>\n      <td>0.443184</td>\n      <td>0.195190</td>\n      <td>0.473011</td>\n      <td>0.173855</td>\n      <td>0.427609</td>\n      <td>0.172129</td>\n      <td>0.539675</td>\n      <td>0.190345</td>\n      <td>0.412880</td>\n      <td>0.186139</td>\n      <td>...</td>\n      <td>0.985922</td>\n      <td>0.941767</td>\n      <td>0.912613</td>\n      <td>0.607049</td>\n      <td>0.389717</td>\n      <td>0.696443</td>\n      <td>0.456063</td>\n      <td>0.692327</td>\n      <td>0.072614</td>\n      <td>0.456063</td>\n    </tr>\n    <tr>\n      <th>455</th>\n      <td>0.328837</td>\n      <td>0.033087</td>\n      <td>0.339197</td>\n      <td>0.000000</td>\n      <td>0.331087</td>\n      <td>0.008918</td>\n      <td>0.408413</td>\n      <td>0.003092</td>\n      <td>0.365714</td>\n      <td>0.026697</td>\n      <td>...</td>\n      <td>0.611221</td>\n      <td>0.311374</td>\n      <td>0.229609</td>\n      <td>0.762898</td>\n      <td>0.611900</td>\n      <td>1.000000</td>\n      <td>0.699720</td>\n      <td>0.922251</td>\n      <td>-0.057706</td>\n      <td>0.699720</td>\n    </tr>\n    <tr>\n      <th>456</th>\n      <td>0.397508</td>\n      <td>0.164125</td>\n      <td>0.411481</td>\n      <td>0.151050</td>\n      <td>0.405102</td>\n      <td>0.142509</td>\n      <td>0.450495</td>\n      <td>0.177545</td>\n      <td>0.428326</td>\n      <td>0.153100</td>\n      <td>...</td>\n      <td>0.987378</td>\n      <td>0.965124</td>\n      <td>0.945062</td>\n      <td>0.648092</td>\n      <td>0.429895</td>\n      <td>0.809839</td>\n      <td>0.476454</td>\n      <td>0.558674</td>\n      <td>0.058700</td>\n      <td>0.476454</td>\n    </tr>\n  </tbody>\n</table>\n<p>457 rows × 58 columns</p>\n</div>"
     },
     "execution_count": 21,
     "metadata": {},
     "output_type": "execute_result"
    }
   ],
   "source": [
    "X_test = test_df.iloc[:, 4:62]\n",
    "X_test"
   ],
   "metadata": {
    "collapsed": false
   }
  },
  {
   "cell_type": "code",
   "execution_count": 22,
   "outputs": [
    {
     "data": {
      "text/plain": "0      0\n1      0\n2      0\n3      0\n4      0\n      ..\n452    4\n453    4\n454    4\n455    4\n456    4\nName: pose_code, Length: 457, dtype: int64"
     },
     "execution_count": 22,
     "metadata": {},
     "output_type": "execute_result"
    }
   ],
   "source": [
    "y_test = test_df['pose_code']\n",
    "y_test"
   ],
   "metadata": {
    "collapsed": false
   }
  },
  {
   "cell_type": "markdown",
   "source": [
    "#### Stap 2. Model trainen\n",
    "\n",
    "TO DO: GridSearchCV, spelen met features, kijken welk model het beter doet\n",
    "TO DO: o.b.v. eigen logica"
   ],
   "metadata": {
    "collapsed": false
   }
  },
  {
   "cell_type": "code",
   "execution_count": 23,
   "outputs": [
    {
     "data": {
      "text/plain": "KNeighborsClassifier(weights='distance')",
      "text/html": "<style>#sk-container-id-2 {color: black;}#sk-container-id-2 pre{padding: 0;}#sk-container-id-2 div.sk-toggleable {background-color: white;}#sk-container-id-2 label.sk-toggleable__label {cursor: pointer;display: block;width: 100%;margin-bottom: 0;padding: 0.3em;box-sizing: border-box;text-align: center;}#sk-container-id-2 label.sk-toggleable__label-arrow:before {content: \"▸\";float: left;margin-right: 0.25em;color: #696969;}#sk-container-id-2 label.sk-toggleable__label-arrow:hover:before {color: black;}#sk-container-id-2 div.sk-estimator:hover label.sk-toggleable__label-arrow:before {color: black;}#sk-container-id-2 div.sk-toggleable__content {max-height: 0;max-width: 0;overflow: hidden;text-align: left;background-color: #f0f8ff;}#sk-container-id-2 div.sk-toggleable__content pre {margin: 0.2em;color: black;border-radius: 0.25em;background-color: #f0f8ff;}#sk-container-id-2 input.sk-toggleable__control:checked~div.sk-toggleable__content {max-height: 200px;max-width: 100%;overflow: auto;}#sk-container-id-2 input.sk-toggleable__control:checked~label.sk-toggleable__label-arrow:before {content: \"▾\";}#sk-container-id-2 div.sk-estimator input.sk-toggleable__control:checked~label.sk-toggleable__label {background-color: #d4ebff;}#sk-container-id-2 div.sk-label input.sk-toggleable__control:checked~label.sk-toggleable__label {background-color: #d4ebff;}#sk-container-id-2 input.sk-hidden--visually {border: 0;clip: rect(1px 1px 1px 1px);clip: rect(1px, 1px, 1px, 1px);height: 1px;margin: -1px;overflow: hidden;padding: 0;position: absolute;width: 1px;}#sk-container-id-2 div.sk-estimator {font-family: monospace;background-color: #f0f8ff;border: 1px dotted black;border-radius: 0.25em;box-sizing: border-box;margin-bottom: 0.5em;}#sk-container-id-2 div.sk-estimator:hover {background-color: #d4ebff;}#sk-container-id-2 div.sk-parallel-item::after {content: \"\";width: 100%;border-bottom: 1px solid gray;flex-grow: 1;}#sk-container-id-2 div.sk-label:hover label.sk-toggleable__label {background-color: #d4ebff;}#sk-container-id-2 div.sk-serial::before {content: \"\";position: absolute;border-left: 1px solid gray;box-sizing: border-box;top: 0;bottom: 0;left: 50%;z-index: 0;}#sk-container-id-2 div.sk-serial {display: flex;flex-direction: column;align-items: center;background-color: white;padding-right: 0.2em;padding-left: 0.2em;position: relative;}#sk-container-id-2 div.sk-item {position: relative;z-index: 1;}#sk-container-id-2 div.sk-parallel {display: flex;align-items: stretch;justify-content: center;background-color: white;position: relative;}#sk-container-id-2 div.sk-item::before, #sk-container-id-2 div.sk-parallel-item::before {content: \"\";position: absolute;border-left: 1px solid gray;box-sizing: border-box;top: 0;bottom: 0;left: 50%;z-index: -1;}#sk-container-id-2 div.sk-parallel-item {display: flex;flex-direction: column;z-index: 1;position: relative;background-color: white;}#sk-container-id-2 div.sk-parallel-item:first-child::after {align-self: flex-end;width: 50%;}#sk-container-id-2 div.sk-parallel-item:last-child::after {align-self: flex-start;width: 50%;}#sk-container-id-2 div.sk-parallel-item:only-child::after {width: 0;}#sk-container-id-2 div.sk-dashed-wrapped {border: 1px dashed gray;margin: 0 0.4em 0.5em 0.4em;box-sizing: border-box;padding-bottom: 0.4em;background-color: white;}#sk-container-id-2 div.sk-label label {font-family: monospace;font-weight: bold;display: inline-block;line-height: 1.2em;}#sk-container-id-2 div.sk-label-container {text-align: center;}#sk-container-id-2 div.sk-container {/* jupyter's `normalize.less` sets `[hidden] { display: none; }` but bootstrap.min.css set `[hidden] { display: none !important; }` so we also need the `!important` here to be able to override the default hidden behavior on the sphinx rendered scikit-learn.org. See: https://github.com/scikit-learn/scikit-learn/issues/21755 */display: inline-block !important;position: relative;}#sk-container-id-2 div.sk-text-repr-fallback {display: none;}</style><div id=\"sk-container-id-2\" class=\"sk-top-container\"><div class=\"sk-text-repr-fallback\"><pre>KNeighborsClassifier(weights=&#x27;distance&#x27;)</pre><b>In a Jupyter environment, please rerun this cell to show the HTML representation or trust the notebook. <br />On GitHub, the HTML representation is unable to render, please try loading this page with nbviewer.org.</b></div><div class=\"sk-container\" hidden><div class=\"sk-item\"><div class=\"sk-estimator sk-toggleable\"><input class=\"sk-toggleable__control sk-hidden--visually\" id=\"sk-estimator-id-2\" type=\"checkbox\" checked><label for=\"sk-estimator-id-2\" class=\"sk-toggleable__label sk-toggleable__label-arrow\">KNeighborsClassifier</label><div class=\"sk-toggleable__content\"><pre>KNeighborsClassifier(weights=&#x27;distance&#x27;)</pre></div></div></div></div></div>"
     },
     "execution_count": 23,
     "metadata": {},
     "output_type": "execute_result"
    }
   ],
   "source": [
    "knn = KNeighborsClassifier()\n",
    "knn.set_params(n_neighbors = 5, weights = 'distance')\n",
    "knn.fit(X_train, y_train)"
   ],
   "metadata": {
    "collapsed": false
   }
  },
  {
   "cell_type": "markdown",
   "source": [
    "#### Stap 3. Model evalueren\n"
   ],
   "metadata": {
    "collapsed": false
   }
  },
  {
   "cell_type": "code",
   "execution_count": 24,
   "outputs": [
    {
     "data": {
      "text/plain": "0.998496993987976"
     },
     "execution_count": 24,
     "metadata": {},
     "output_type": "execute_result"
    }
   ],
   "source": [
    "y_train_pred = knn.predict(X_train)\n",
    "accuracy_score(y_train, y_train_pred)"
   ],
   "metadata": {
    "collapsed": false
   }
  },
  {
   "cell_type": "code",
   "execution_count": 25,
   "outputs": [
    {
     "data": {
      "text/plain": "array([[375,   0,   0,   0,   0,   0],\n       [  0, 305,   0,   0,   1,   0],\n       [  0,   0, 498,   0,   0,   0],\n       [  0,   0,   0, 299,   0,   0],\n       [  0,   0,   0,   0, 472,   0],\n       [  0,   1,   1,   0,   0,  44]], dtype=int64)"
     },
     "execution_count": 25,
     "metadata": {},
     "output_type": "execute_result"
    }
   ],
   "source": [
    "confusion_matrix(y_train, y_train_pred)"
   ],
   "metadata": {
    "collapsed": false
   }
  },
  {
   "cell_type": "code",
   "execution_count": 26,
   "outputs": [
    {
     "data": {
      "text/plain": "0.9824945295404814"
     },
     "execution_count": 26,
     "metadata": {},
     "output_type": "execute_result"
    }
   ],
   "source": [
    "y_test_pred = knn.predict(X_test)\n",
    "accuracy_score(y_test, y_test_pred)"
   ],
   "metadata": {
    "collapsed": false
   }
  },
  {
   "cell_type": "code",
   "execution_count": 27,
   "outputs": [
    {
     "data": {
      "text/plain": "array([[1., 0., 0., 0., 0., 0.],\n       [1., 0., 0., 0., 0., 0.],\n       [1., 0., 0., 0., 0., 0.],\n       ...,\n       [0., 0., 0., 0., 1., 0.],\n       [0., 0., 0., 0., 1., 0.],\n       [0., 0., 0., 0., 1., 0.]])"
     },
     "execution_count": 27,
     "metadata": {},
     "output_type": "execute_result"
    }
   ],
   "source": [
    "knn.predict_proba(X_test)"
   ],
   "metadata": {
    "collapsed": false
   }
  },
  {
   "cell_type": "code",
   "execution_count": 28,
   "outputs": [
    {
     "data": {
      "text/plain": "array([[ 93,   0,   0,   0,   0],\n       [  0,  72,   1,   2,   2],\n       [  0,   0, 112,   1,   0],\n       [  0,   0,   0,  69,   0],\n       [  0,   2,   0,   0, 103]], dtype=int64)"
     },
     "execution_count": 28,
     "metadata": {},
     "output_type": "execute_result"
    }
   ],
   "source": [
    "confusion_matrix(y_test, y_test_pred)"
   ],
   "metadata": {
    "collapsed": false
   }
  },
  {
   "cell_type": "markdown",
   "source": [
    "#### Stap 4. Model en voorspellingen exporteren"
   ],
   "metadata": {
    "collapsed": false
   }
  },
  {
   "cell_type": "code",
   "execution_count": 29,
   "outputs": [
    {
     "data": {
      "text/plain": "                                                path     pose  pose_code  \\\n0  C:\\Users\\joost.vanstreels\\PycharmProjects\\YOLO...  downdog          0   \n1  C:\\Users\\joost.vanstreels\\PycharmProjects\\YOLO...  downdog          0   \n2  C:\\Users\\joost.vanstreels\\PycharmProjects\\YOLO...  downdog          0   \n3  C:\\Users\\joost.vanstreels\\PycharmProjects\\YOLO...  downdog          0   \n4  C:\\Users\\joost.vanstreels\\PycharmProjects\\YOLO...  downdog          0   \n\n   confidence       x00       y00       x01       y01       x02       y02  \\\n0    0.934024  0.423500  0.709093  0.402510  0.702865  0.427802  0.704759   \n1    0.932599  0.336725  0.687173  0.331049  0.671780  0.337968  0.669529   \n2    0.936376  0.379543  0.704821  0.363566  0.690626  0.378991  0.699057   \n3    0.933815  0.616935  0.697705  0.620064  0.689498  0.625734  0.677587   \n4    0.898250  0.454746  0.786763  0.441597  0.773290  0.450748  0.781609   \n\n   ...       v16  all fours  ver dist hips  standing  hor_dist_ankles  \\\n0  ...  0.790219   0.084437      -0.477136  0.083704         0.008652   \n1  ...  0.897956   0.077501      -0.418508  0.184631         0.042990   \n2  ...  0.840897   0.102676      -0.399451  0.113263         0.030958   \n3  ...  0.914164   0.037754      -0.471743  0.237028         0.025091   \n4  ...  0.528475   0.088247      -0.199260  0.047326         0.024270   \n\n   hor dist wrists  ver dist wrists  ver dist ankles  prediction  proba  \n0         0.602298        -0.498172         0.008652           0    1.0  \n1         0.003060        -0.673096         0.042990           0    1.0  \n2         0.243853        -0.503882         0.030958           0    1.0  \n3         0.000562        -0.672612         0.025091           0    1.0  \n4         0.103216        -0.265029         0.024270           0    1.0  \n\n[5 rows x 64 columns]",
      "text/html": "<div>\n<style scoped>\n    .dataframe tbody tr th:only-of-type {\n        vertical-align: middle;\n    }\n\n    .dataframe tbody tr th {\n        vertical-align: top;\n    }\n\n    .dataframe thead th {\n        text-align: right;\n    }\n</style>\n<table border=\"1\" class=\"dataframe\">\n  <thead>\n    <tr style=\"text-align: right;\">\n      <th></th>\n      <th>path</th>\n      <th>pose</th>\n      <th>pose_code</th>\n      <th>confidence</th>\n      <th>x00</th>\n      <th>y00</th>\n      <th>x01</th>\n      <th>y01</th>\n      <th>x02</th>\n      <th>y02</th>\n      <th>...</th>\n      <th>v16</th>\n      <th>all fours</th>\n      <th>ver dist hips</th>\n      <th>standing</th>\n      <th>hor_dist_ankles</th>\n      <th>hor dist wrists</th>\n      <th>ver dist wrists</th>\n      <th>ver dist ankles</th>\n      <th>prediction</th>\n      <th>proba</th>\n    </tr>\n  </thead>\n  <tbody>\n    <tr>\n      <th>0</th>\n      <td>C:\\Users\\joost.vanstreels\\PycharmProjects\\YOLO...</td>\n      <td>downdog</td>\n      <td>0</td>\n      <td>0.934024</td>\n      <td>0.423500</td>\n      <td>0.709093</td>\n      <td>0.402510</td>\n      <td>0.702865</td>\n      <td>0.427802</td>\n      <td>0.704759</td>\n      <td>...</td>\n      <td>0.790219</td>\n      <td>0.084437</td>\n      <td>-0.477136</td>\n      <td>0.083704</td>\n      <td>0.008652</td>\n      <td>0.602298</td>\n      <td>-0.498172</td>\n      <td>0.008652</td>\n      <td>0</td>\n      <td>1.0</td>\n    </tr>\n    <tr>\n      <th>1</th>\n      <td>C:\\Users\\joost.vanstreels\\PycharmProjects\\YOLO...</td>\n      <td>downdog</td>\n      <td>0</td>\n      <td>0.932599</td>\n      <td>0.336725</td>\n      <td>0.687173</td>\n      <td>0.331049</td>\n      <td>0.671780</td>\n      <td>0.337968</td>\n      <td>0.669529</td>\n      <td>...</td>\n      <td>0.897956</td>\n      <td>0.077501</td>\n      <td>-0.418508</td>\n      <td>0.184631</td>\n      <td>0.042990</td>\n      <td>0.003060</td>\n      <td>-0.673096</td>\n      <td>0.042990</td>\n      <td>0</td>\n      <td>1.0</td>\n    </tr>\n    <tr>\n      <th>2</th>\n      <td>C:\\Users\\joost.vanstreels\\PycharmProjects\\YOLO...</td>\n      <td>downdog</td>\n      <td>0</td>\n      <td>0.936376</td>\n      <td>0.379543</td>\n      <td>0.704821</td>\n      <td>0.363566</td>\n      <td>0.690626</td>\n      <td>0.378991</td>\n      <td>0.699057</td>\n      <td>...</td>\n      <td>0.840897</td>\n      <td>0.102676</td>\n      <td>-0.399451</td>\n      <td>0.113263</td>\n      <td>0.030958</td>\n      <td>0.243853</td>\n      <td>-0.503882</td>\n      <td>0.030958</td>\n      <td>0</td>\n      <td>1.0</td>\n    </tr>\n    <tr>\n      <th>3</th>\n      <td>C:\\Users\\joost.vanstreels\\PycharmProjects\\YOLO...</td>\n      <td>downdog</td>\n      <td>0</td>\n      <td>0.933815</td>\n      <td>0.616935</td>\n      <td>0.697705</td>\n      <td>0.620064</td>\n      <td>0.689498</td>\n      <td>0.625734</td>\n      <td>0.677587</td>\n      <td>...</td>\n      <td>0.914164</td>\n      <td>0.037754</td>\n      <td>-0.471743</td>\n      <td>0.237028</td>\n      <td>0.025091</td>\n      <td>0.000562</td>\n      <td>-0.672612</td>\n      <td>0.025091</td>\n      <td>0</td>\n      <td>1.0</td>\n    </tr>\n    <tr>\n      <th>4</th>\n      <td>C:\\Users\\joost.vanstreels\\PycharmProjects\\YOLO...</td>\n      <td>downdog</td>\n      <td>0</td>\n      <td>0.898250</td>\n      <td>0.454746</td>\n      <td>0.786763</td>\n      <td>0.441597</td>\n      <td>0.773290</td>\n      <td>0.450748</td>\n      <td>0.781609</td>\n      <td>...</td>\n      <td>0.528475</td>\n      <td>0.088247</td>\n      <td>-0.199260</td>\n      <td>0.047326</td>\n      <td>0.024270</td>\n      <td>0.103216</td>\n      <td>-0.265029</td>\n      <td>0.024270</td>\n      <td>0</td>\n      <td>1.0</td>\n    </tr>\n  </tbody>\n</table>\n<p>5 rows × 64 columns</p>\n</div>"
     },
     "execution_count": 29,
     "metadata": {},
     "output_type": "execute_result"
    }
   ],
   "source": [
    "# Prediction en proba toevoegen aan DataFrame\n",
    "\n",
    "train_df['prediction'] = y_train_pred\n",
    "train_df['proba'] = knn.predict_proba(X_train).max(axis=1)\n",
    "train_df.head()"
   ],
   "metadata": {
    "collapsed": false
   }
  },
  {
   "cell_type": "code",
   "execution_count": 33,
   "outputs": [],
   "source": [
    "# DataFrame exporteren\n",
    "# Keuze maken voor model\n",
    "\n",
    "train_df.to_csv('train_df_YOLOv8m.csv')\n",
    "#train_df.to_csv('train_df_YOLOv8n.csv')"
   ],
   "metadata": {
    "collapsed": false
   }
  },
  {
   "cell_type": "code",
   "execution_count": 34,
   "outputs": [],
   "source": [
    "# Pickle maken\n",
    "# Keuze maken voor model\n",
    "\n",
    "pickle.dump(knn, open('knn_YOLOv8m.pkl', 'wb'))\n",
    "#pickle.dump(knn, open('knn_YOLOv8n.pkl', 'wb'))"
   ],
   "metadata": {
    "collapsed": false
   }
  },
  {
   "cell_type": "code",
   "execution_count": null,
   "outputs": [],
   "source": [],
   "metadata": {
    "collapsed": false
   }
  }
 ],
 "metadata": {
  "kernelspec": {
   "display_name": "Python 3",
   "language": "python",
   "name": "python3"
  },
  "language_info": {
   "codemirror_mode": {
    "name": "ipython",
    "version": 2
   },
   "file_extension": ".py",
   "mimetype": "text/x-python",
   "name": "python",
   "nbconvert_exporter": "python",
   "pygments_lexer": "ipython2",
   "version": "2.7.6"
  }
 },
 "nbformat": 4,
 "nbformat_minor": 0
}
